{
 "cells": [
  {
   "cell_type": "code",
   "execution_count": 1,
   "metadata": {},
   "outputs": [
    {
     "name": "stderr",
     "output_type": "stream",
     "text": [
      "/Users/Yannis/.pyenv/versions/3.7.5/lib/python3.7/_collections_abc.py:841: MatplotlibDeprecationWarning: \n",
      "The text.latex.unicode rcparam was deprecated in Matplotlib 3.0 and will be removed in 3.2.\n",
      "  self[key] = other[key]\n"
     ]
    }
   ],
   "source": [
    "import os\n",
    "import sys\n",
    "import copy\n",
    "import json\n",
    "import numpy as np\n",
    "import pandas as pd\n",
    "import geopandas as gpd\n",
    "import seaborn as sns\n",
    "import statsmodels.api as sm\n",
    "import matplotlib.pyplot as plt\n",
    "import matplotlib.ticker as ticker\n",
    "\n",
    "from scipy.spatial import ConvexHull, convex_hull_plot_2d\n",
    "from tqdm import tqdm\n",
    "from numpy.fft import fft, ifft\n",
    "from scipy.signal import correlate2d\n",
    "from matplotlib import rc\n",
    "#Direct input \n",
    "plt.rcParams['text.latex.preamble']=[r\"\\usepackage{lmodern}\"]\n",
    "#Options\n",
    "params = {'text.usetex' : True,\n",
    "          'font.size' : 20,\n",
    "          'legend.fontsize': 20,\n",
    "          'legend.handlelength': 2,\n",
    "          'font.family' : 'sans-serif',\n",
    "          'font.sans-serif':['Helvetica'],\n",
    "          'text.latex.unicode': True,\n",
    "          }\n",
    "plt.rcParams.update(params) \n",
    "\n",
    "# Get current working directory and project root directory\n",
    "cwd = os.getcwd()\n",
    "rd = os.path.join(cwd.split('stochastic-travel-demand-modelling/', 1)[0])\n",
    "if not rd.endswith('stochastic-travel-demand-modelling'):\n",
    "    rd = os.path.join(cwd.split('stochastic-travel-demand-modelling/', 1)[0],'stochastic-travel-demand-modelling')\n",
    "\n",
    "if rd not in sys.path:\n",
    "    sys.path.append(rd)\n",
    "\n",
    "# from models.singly_constrained.spatial_interaction_model import SpatialInteraction"
   ]
  },
  {
   "cell_type": "markdown",
   "metadata": {},
   "source": [
    "# Import data"
   ]
  },
  {
   "cell_type": "code",
   "execution_count": 2,
   "metadata": {},
   "outputs": [],
   "source": [
    "dataset = 'commuter_ward'\n",
    "constrained = 'singly'"
   ]
  },
  {
   "cell_type": "code",
   "execution_count": 3,
   "metadata": {},
   "outputs": [],
   "source": [
    "# Import commuter Borough to Borough data\n",
    "cost_matrix = np.loadtxt(os.path.join(rd,f'data/input/{dataset}/cost_matrix.txt'))\n",
    "origin_supply = np.loadtxt(os.path.join(rd,f'./data/input/{dataset}/origin_supply.txt'))\n",
    "initial_destination_sizes = np.loadtxt(os.path.join(rd,f'./data/input/{dataset}/initial_destination_sizes.txt'))\n",
    "\n",
    "o = origin_supply/np.sum(origin_supply)\n",
    "c = cost_matrix/np.sum(cost_matrix)\n",
    "xd = np.log(initial_destination_sizes/np.sum(initial_destination_sizes))\n",
    "\n",
    "orig_locs = np.loadtxt(os.path.join(rd,f'./data/input/{dataset}/origin_locations.txt'))\n",
    "dest_locs = np.loadtxt(os.path.join(rd,f'./data/input/{dataset}/destination_locations.txt'))\n",
    "\n",
    "london_boundary = gpd.read_file('../data/input/misc/london_boundary.geojson')\n",
    "\n",
    "N,M = cost_matrix.shape\n",
    "\n",
    "alpha = 1.2\n",
    "beta = 1400\n",
    "delta = np.min(np.exp(xd))\n",
    "gamma = 100\n",
    "kappa = 1 + delta*M\n",
    "epsilon = 1\n",
    "theta = np.array([alpha,beta,delta,gamma,kappa,epsilon])"
   ]
  },
  {
   "cell_type": "code",
   "execution_count": 4,
   "metadata": {},
   "outputs": [
    {
     "data": {
      "text/plain": [
       "4581000.0"
      ]
     },
     "execution_count": 4,
     "metadata": {},
     "output_type": "execute_result"
    }
   ],
   "source": [
    "np.sum(initial_destination_sizes)"
   ]
  },
  {
   "cell_type": "code",
   "execution_count": 5,
   "metadata": {},
   "outputs": [
    {
     "data": {
      "text/plain": [
       "9171.228658308206"
      ]
     },
     "execution_count": 5,
     "metadata": {},
     "output_type": "execute_result"
    }
   ],
   "source": [
    "np.sum(cost_matrix)"
   ]
  },
  {
   "cell_type": "code",
   "execution_count": 6,
   "metadata": {},
   "outputs": [
    {
     "data": {
      "text/plain": [
       "4581000.0"
      ]
     },
     "execution_count": 6,
     "metadata": {},
     "output_type": "execute_result"
    }
   ],
   "source": [
    "np.sum(initial_destination_sizes)"
   ]
  },
  {
   "cell_type": "code",
   "execution_count": 7,
   "metadata": {},
   "outputs": [
    {
     "data": {
      "text/plain": [
       "0.01178781925343811"
      ]
     },
     "execution_count": 7,
     "metadata": {},
     "output_type": "execute_result"
    }
   ],
   "source": [
    "np.min(np.exp(xd))"
   ]
  },
  {
   "cell_type": "code",
   "execution_count": 8,
   "metadata": {},
   "outputs": [
    {
     "data": {
      "text/plain": [
       "0.03624043372875424"
      ]
     },
     "execution_count": 8,
     "metadata": {},
     "output_type": "execute_result"
    }
   ],
   "source": [
    "np.min(cost_matrix)"
   ]
  },
  {
   "cell_type": "code",
   "execution_count": 9,
   "metadata": {},
   "outputs": [
    {
     "data": {
      "text/plain": [
       "0.8476181560889813"
      ]
     },
     "execution_count": 9,
     "metadata": {},
     "output_type": "execute_result"
    }
   ],
   "source": [
    "np.max(cost_matrix)"
   ]
  },
  {
   "cell_type": "code",
   "execution_count": 10,
   "metadata": {},
   "outputs": [
    {
     "name": "stdout",
     "output_type": "stream",
     "text": [
      "true_beta 35630.56305630563\n",
      "min cost contribution 0.037141217816547833\n",
      "max cost contribution 0.868666998947804\n"
     ]
    },
    {
     "data": {
      "image/png": "[encoded data removed]",
      "text/plain": [
       "<Figure size 432x288 with 1 Axes>"
      ]
     },
     "metadata": {
      "needs_background": "light"
     },
     "output_type": "display_data"
    }
   ],
   "source": [
    "trials = np.linspace(30000,40000,10000)\n",
    "y = [np.max(np.exp(-c*x))-np.min(np.exp(-c*x)) for x in trials]\n",
    "\n",
    "plt.plot(trials,y)\n",
    "\n",
    "true_beta = trials[np.argmax(y)]\n",
    "print('true_beta',true_beta)\n",
    "\n",
    "print('min cost contribution',np.min(np.exp(-c*true_beta)))\n",
    "print('max cost contribution',np.max(np.exp(-c*true_beta)))"
   ]
  },
  {
   "cell_type": "markdown",
   "metadata": {},
   "source": [
    "# Visualise destination sizes"
   ]
  },
  {
   "cell_type": "code",
   "execution_count": 11,
   "metadata": {},
   "outputs": [],
   "source": [
    "# Set plot params\n",
    "latent_factor = 10000\n",
    "actual_factor = 10000"
   ]
  },
  {
   "cell_type": "code",
   "execution_count": 13,
   "metadata": {},
   "outputs": [],
   "source": [
    "# fig,ax = plt.subplots(1,1,figsize=(20,20))\n",
    "# ax.scatter(orig_locs[:, 0], orig_locs[:, 1], edgecolors='b', s=actual_factor*o, alpha=1,label=r'$O_i$')\n",
    "# ax.scatter(dest_locs[:, 0], dest_locs[:, 1], edgecolors='r', s=latent_factor*np.exp(xd), alpha=1,label=r'$Y_j$')\n",
    "# # Plot legend.\n",
    "# lgnd = plt.legend(loc=\"upper right\", scatterpoints=1, fontsize=18)\n",
    "# for i in range(len(lgnd.legendHandles)):\n",
    "#     lgnd.legendHandles[i]._sizes = [120]\n",
    "# plt.yticks([])\n",
    "# plt.xticks([])\n",
    "# plt.xlabel('Longitude',fontsize=25)\n",
    "# plt.ylabel('Latitude',fontsize=25)\n",
    "\n",
    "# london_boundary.boundary.plot(edgecolor='black',ax=ax,alpha=0.3)\n",
    "# plt.savefig(\"../data/output/commuter_ward/actual/figures/log_latent_sizes.png\",\n",
    "#             dpi=1000, \n",
    "#             bbox_inches='tight',\n",
    "#            transparent=True)"
   ]
  },
  {
   "cell_type": "markdown",
   "metadata": {},
   "source": [
    "# Check convexity"
   ]
  },
  {
   "cell_type": "code",
   "execution_count": 14,
   "metadata": {},
   "outputs": [],
   "source": [
    "def is_pos_semidef(M):\n",
    "    return np.all(np.linalg.eigvals(M) >= 0)\n",
    "\n",
    "def convexity_test(M):\n",
    "    \n",
    "    if is_pos_semidef(M):\n",
    "        print('Potential function is convex.')\n",
    "        return True\n",
    "    else:\n",
    "        print(f'alpha = {theta[0]}')\n",
    "        print('Potential function is NOT convex.')\n",
    "        return False"
   ]
  },
  {
   "cell_type": "code",
   "execution_count": 15,
   "metadata": {},
   "outputs": [],
   "source": [
    "# si = SpatialInteraction(dataset)\n",
    "# si.normalise_data()\n",
    "\n",
    "# # Get destination sizes\n",
    "# xd = si.normalised_initial_destination_sizes\n",
    "\n",
    "# theta[0] = 1.01\n",
    "# theta[1] = 0.04\n",
    "\n",
    "# # Get hessian\n",
    "# hessian = si.potential_hessian(xd,theta)\n",
    "\n",
    "# # Run convexity test\n",
    "# convexity_test(hessian)"
   ]
  },
  {
   "cell_type": "markdown",
   "metadata": {},
   "source": [
    "# MCMC samples\n",
    "\n",
    "## Low noise"
   ]
  },
  {
   "cell_type": "markdown",
   "metadata": {},
   "source": [
    "### Sandbox"
   ]
  },
  {
   "cell_type": "code",
   "execution_count": 22,
   "metadata": {},
   "outputs": [
    {
     "name": "stdout",
     "output_type": "stream",
     "text": [
      "4.107150096696963\n",
      "0.257094685957677\n"
     ]
    }
   ],
   "source": [
    "Ap = np.array([[ 0.00749674, 0.00182529], [ 0.00182529,  0.00709968]])\n",
    "print(Ap[0,0]/Ap[0,1])\n",
    "print(Ap[1,0]/Ap[1,1])\n",
    "\n",
    "def transition(t):\n",
    "    T = np.empty((2,2))\n",
    "    T[0,0] = (1+t)*0.5\n",
    "    T[0,1] = (1-t)*0.5\n",
    "    T[1,0] = 0.5\n",
    "    T[1,1] = 0.5*t\n",
    "    return T"
   ]
  },
  {
   "cell_type": "code",
   "execution_count": 55,
   "metadata": {},
   "outputs": [
    {
     "data": {
      "text/plain": [
       "array([[1. , 0. ],\n",
       "       [0.5, 0.5]])"
      ]
     },
     "execution_count": 55,
     "metadata": {},
     "output_type": "execute_result"
    }
   ],
   "source": [
    "Ap"
   ]
  },
  {
   "cell_type": "code",
   "execution_count": 52,
   "metadata": {},
   "outputs": [
    {
     "name": "stdout",
     "output_type": "stream",
     "text": [
      "inf\n",
      "1.0\n"
     ]
    },
    {
     "name": "stderr",
     "output_type": "stream",
     "text": [
      "/Users/Yannis/.pyenv/versions/stdm/lib/python3.7/site-packages/ipykernel_launcher.py:17: RuntimeWarning: divide by zero encountered in double_scalars\n"
     ]
    }
   ],
   "source": [
    "Ap = np.array([[ 0.00749674,  0.00182529], [ 0.00182529,  0.00709968]])\n",
    "# Ap = np.array([[ 0.01499348, 0.00365058], [ 0.00182529,  0.00709968]])\n",
    "Ap = transition(1)\n",
    "\n",
    "# Ap[0,0] = 0.00014398846809000215#0.0002199348\n",
    "# Ap[0,1] = 0.000035058\n",
    "\n",
    "# Ap[1,0] = 0.000035058 \n",
    "# Ap[1,1] = 0.00014398846809000215\n",
    "\n",
    "# Ap[0,0] = 0.00949674\n",
    "# Ap[0,1] = 0.000182529\n",
    "\n",
    "# Ap[1,0] = 0.000182529 \n",
    "# Ap[1,1] = 0.00149674\n",
    "\n",
    "print(Ap[0,0]/Ap[0,1])\n",
    "print(Ap[1,0]/Ap[1,1])\n",
    "\n",
    "theta_step = 1\n",
    "n = 20000\n",
    "burnin = 0#10000\n",
    "ideal_theta_ar = 0.45\n",
    "_print = False"
   ]
  },
  {
   "cell_type": "code",
   "execution_count": 53,
   "metadata": {
    "scrolled": true
   },
   "outputs": [
    {
     "name": "stderr",
     "output_type": "stream",
     "text": [
      " 10%|▉         | 1961/20000 [00:00<00:00, 19036.47it/s]"
     ]
    },
    {
     "name": "stdout",
     "output_type": "stream",
     "text": [
      "----- initial theta = [1.14 0.02] -----\n"
     ]
    },
    {
     "name": "stderr",
     "output_type": "stream",
     "text": [
      "100%|██████████| 20000/20000 [00:00<00:00, 22341.33it/s]\n"
     ]
    }
   ],
   "source": [
    "# Proposal and acceptance count\n",
    "pc = 0\n",
    "ac = 0\n",
    "\n",
    "np.random.seed(888)\n",
    "\n",
    "theta_initial = np.array([1.14, 0.02]) #  np.array([1.17097421, 0.25761399])\n",
    "fake_samples = np.zeros((n,2))\n",
    "fake_samples[0,:] = samples[0,:]\n",
    "print(f'----- initial theta = {theta_initial} -----')\n",
    "for i in tqdm(range(n)):\n",
    "\n",
    "    theta_proposal = theta_initial + theta_step*np.dot(Ap, np.random.normal(0, 1, 2))\n",
    "    \n",
    "    for j in range(2):\n",
    "        if theta_proposal[j] < 0.:\n",
    "            theta_proposal[j] = -theta_proposal[j]\n",
    "        elif theta_proposal[j] > 2.:\n",
    "            theta_proposal[j] = 2. - (theta_proposal[j] - 2.)\n",
    "        \n",
    "    pc += 1\n",
    "\n",
    "    if np.random.uniform(0,1,1) <= ideal_theta_ar:# np.random.uniform(0.4,0.5,1):\n",
    "\n",
    "#         if _print:\n",
    "#             print(f'inital theta = {theta_initial}')\n",
    "#             print(f'theta accepted = {theta_proposal}')\n",
    "\n",
    "        theta_initial = theta_proposal\n",
    "        ac += 1\n",
    "        \n",
    "#         if _print:\n",
    "#             print(f'theta AR =  {int(100*ac/pc)}%')\n",
    "            \n",
    "    if (i+1) % 1000 == 0:\n",
    "        if _print:\n",
    "            print(f'Iteration {i+1}')\n",
    "            print(f'inital theta = {theta_initial}')\n",
    "            print(f'theta accepted = {theta_proposal}')\n",
    "            print(f'theta AR =  {int(100*ac/pc)}%')\n",
    "        \n",
    "    fake_samples[i,:] = theta_initial"
   ]
  },
  {
   "cell_type": "code",
   "execution_count": 54,
   "metadata": {},
   "outputs": [
    {
     "name": "stdout",
     "output_type": "stream",
     "text": [
      "RW mean = 1.0083550711223002\n",
      "alpha ratio = 0.699497450451732\n",
      "RW sd = 0.5818250538060172\n",
      "\n",
      "\n",
      "RW mean = 1.0018155001908582\n",
      "beta ratio = 0.312603142086031\n",
      "RW sd = 0.5817394203558311\n",
      "\n",
      "\n",
      "mean to sd ration 1.7330898085706872\n",
      "good mean to sd ratio 148.39001212239688\n"
     ]
    },
    {
     "data": {
      "image/png": "[encoded data removed]",
      "text/plain": [
       "<Figure size 432x288 with 1 Axes>"
      ]
     },
     "metadata": {
      "needs_background": "light"
     },
     "output_type": "display_data"
    },
    {
     "data": {
      "image/png": "[encoded data removed]",
      "text/plain": [
       "<Figure size 432x288 with 1 Axes>"
      ]
     },
     "metadata": {
      "needs_background": "light"
     },
     "output_type": "display_data"
    }
   ],
   "source": [
    "plt.figure(0)\n",
    "plt.title(\"Alpha low noise\")\n",
    "print(f'RW mean = {np.mean(fake_samples[burnin:, 0])}')\n",
    "print(f'alpha ratio = {np.mean(fake_samples[burnin:, 0])/1.4415421678393674}')\n",
    "print(f'RW sd = {np.std(fake_samples[burnin:, 0])}')\n",
    "plt.plot(fake_samples[burnin:, 0])\n",
    "plt.xlim([0,n-burnin])\n",
    "print('\\n')\n",
    "\n",
    "plt.figure(1)\n",
    "plt.title(\"Beta low noise\")\n",
    "print(f'RW mean = {np.mean(fake_samples[burnin:, 1])}')\n",
    "print(f'beta ratio = {np.mean(fake_samples[burnin:, 1])/3.2047518572770777}')\n",
    "print(f'RW sd = {np.std(fake_samples[burnin:, 1])}')\n",
    "plt.plot(fake_samples[burnin:, 1])\n",
    "plt.xlim([0,n-burnin])\n",
    "print('\\n')\n",
    "\n",
    "print('mean to sd ration', np.mean(fake_samples[burnin:, 0])/np.std(fake_samples[burnin:, 0]))\n",
    "print('good mean to sd ratio',148.39001212239688)"
   ]
  },
  {
   "cell_type": "code",
   "execution_count": 31,
   "metadata": {},
   "outputs": [
    {
     "name": "stdout",
     "output_type": "stream",
     "text": [
      "Alpha ACF\n"
     ]
    },
    {
     "data": {
      "text/plain": [
       "<Figure size 432x288 with 0 Axes>"
      ]
     },
     "metadata": {},
     "output_type": "display_data"
    },
    {
     "data": {
      "image/png": "[encoded data removed]",
      "text/plain": [
       "<Figure size 432x288 with 1 Axes>"
      ]
     },
     "metadata": {
      "needs_background": "light"
     },
     "output_type": "display_data"
    },
    {
     "name": "stdout",
     "output_type": "stream",
     "text": [
      "Beta ACF\n"
     ]
    },
    {
     "data": {
      "text/plain": [
       "<Figure size 432x288 with 0 Axes>"
      ]
     },
     "metadata": {},
     "output_type": "display_data"
    },
    {
     "data": {
      "image/png": "[encoded data removed]",
      "text/plain": [
       "<Figure size 432x288 with 1 Axes>"
      ]
     },
     "metadata": {
      "needs_background": "light"
     },
     "output_type": "display_data"
    }
   ],
   "source": [
    "plt.figure(0)\n",
    "print('Alpha ACF')\n",
    "sm.graphics.tsa.plot_acf(fake_samples[burnin:,0], lags=50)\n",
    "plt.show()\n",
    "\n",
    "plt.figure(1)\n",
    "print('Beta ACF')\n",
    "sm.graphics.tsa.plot_acf(fake_samples[burnin:,1], lags=50)\n",
    "plt.show()"
   ]
  },
  {
   "cell_type": "markdown",
   "metadata": {},
   "source": [
    "### Produce posterior plots"
   ]
  },
  {
   "cell_type": "code",
   "execution_count": 20,
   "metadata": {},
   "outputs": [],
   "source": [
    "# Choose whether to save the plot or not\n",
    "low_save = True\n",
    "\n",
    "# Last iteration \n",
    "last_it = -1"
   ]
  },
  {
   "cell_type": "code",
   "execution_count": 21,
   "metadata": {},
   "outputs": [],
   "source": [
    "samples = np.loadtxt(os.path.join(rd,f\"data/output/{dataset}/inverse_problem/{constrained}_low_noise_theta_samples.txt\"))\n",
    "samples2 = np.loadtxt(os.path.join(rd,f\"data/output/{dataset}/inverse_problem/{constrained}_low_noise_logsize_samples.txt\"))\n",
    "samples3 = np.loadtxt(os.path.join(rd,f\"data/output/{dataset}/inverse_problem/{constrained}_low_noise_sign_samples.txt\"))\n",
    "\n",
    "if last_it == -1:\n",
    "    last_it = samples.shape[0]"
   ]
  },
  {
   "cell_type": "code",
   "execution_count": null,
   "metadata": {},
   "outputs": [],
   "source": [
    "plt.figure(0)\n",
    "plt.title(\"Alpha low noise\")\n",
    "plt.plot(samples[:last_it, 0])\n",
    "plt.xlim([0,last_it])"
   ]
  },
  {
   "cell_type": "code",
   "execution_count": null,
   "metadata": {},
   "outputs": [],
   "source": [
    "plt.figure(0)\n",
    "plt.title(\"Beta low noise\")\n",
    "plt.plot(samples[:last_it, 1])\n",
    "plt.xlim([0,last_it])"
   ]
  },
  {
   "cell_type": "code",
   "execution_count": null,
   "metadata": {},
   "outputs": [],
   "source": [
    "plt.figure(0)\n",
    "print('Alpha ACF')\n",
    "sm.graphics.tsa.plot_acf(samples[:last_it,0], lags=50)\n",
    "plt.show()\n",
    "\n",
    "plt.figure(1)\n",
    "print('Beta ACF')\n",
    "sm.graphics.tsa.plot_acf(samples[:last_it,1], lags=50)\n",
    "plt.show()"
   ]
  },
  {
   "cell_type": "code",
   "execution_count": null,
   "metadata": {
    "scrolled": true
   },
   "outputs": [],
   "source": [
    "print('Theta mean')\n",
    "print(np.mean(samples,axis=0))\n",
    "print('Theta sd')\n",
    "print(np.std(samples,axis=0))"
   ]
  },
  {
   "cell_type": "code",
   "execution_count": null,
   "metadata": {},
   "outputs": [],
   "source": [
    "np.exp(posterior_xd_mean+3*posterior_xd_sd)"
   ]
  },
  {
   "cell_type": "code",
   "execution_count": null,
   "metadata": {},
   "outputs": [],
   "source": [
    "np.exp(posterior_xd_mean-3*posterior_xd_sd)"
   ]
  },
  {
   "cell_type": "code",
   "execution_count": null,
   "metadata": {},
   "outputs": [],
   "source": [
    "# Posterior latent sizes\n",
    "posterior_xd_mean = np.mean(samples2,axis=0)\n",
    "posterior_xd_sd = np.std(samples2,axis=0)\n",
    "print('Posterior latent sizes mean')\n",
    "print(np.exp(posterior_xd_mean))\n",
    "print('Posterior latent sizes sd')\n",
    "print(posterior_xd_sd)\n",
    "print('Actual latent sizes')\n",
    "print(np.exp(xd))"
   ]
  },
  {
   "cell_type": "code",
   "execution_count": null,
   "metadata": {},
   "outputs": [],
   "source": [
    "# Set factor for plotting\n",
    "actual_factor = 1000\n",
    "latent_factor = 10000"
   ]
  },
  {
   "cell_type": "code",
   "execution_count": null,
   "metadata": {},
   "outputs": [],
   "source": [
    "fig,ax = plt.subplots(1,1,figsize=(20,20))\n",
    "ax.scatter(orig_locs[:, 0], orig_locs[:, 1], facecolor=\"None\",edgecolors='b', s=actual_factor*o, alpha=1,label=r'$O_i$')\n",
    "ax.scatter(dest_locs[:, 0], dest_locs[:, 1], facecolor=\"None\",edgecolors='g', s=latent_factor*np.exp(posterior_xd_mean+3*posterior_xd_sd), alpha=1,label=r'$\\hat{W}_j+3\\sigma$')\n",
    "ax.scatter(dest_locs[:, 0], dest_locs[:, 1], facecolor=\"None\",edgecolors='r', s=latent_factor*np.exp(posterior_xd_mean-3*posterior_xd_sd), alpha=1,label=r'$\\hat{W}_j-3\\sigma$')\n",
    "# Plot legend.\n",
    "lgnd = plt.legend(loc=\"upper right\", scatterpoints=1, fontsize=18)\n",
    "for i in range(len(lgnd.legendHandles)):\n",
    "    lgnd.legendHandles[i]._sizes = [120]\n",
    "plt.yticks([])\n",
    "plt.xticks([])\n",
    "plt.xlabel('Longitude',fontsize=25)\n",
    "plt.ylabel('Latitude',fontsize=25)\n",
    "\n",
    "london_boundary.boundary.plot(edgecolor='black',ax=ax,alpha=0.3)\n",
    "if low_save:\n",
    "    plt.savefig(\"../data/output/commuter_ward/inverse_problem/figures/low_noise_posterior_latent_sizes.png\",\n",
    "            dpi=1000, \n",
    "            bbox_inches='tight',transparent=True)"
   ]
  },
  {
   "cell_type": "code",
   "execution_count": null,
   "metadata": {},
   "outputs": [],
   "source": [
    "plt.figure(figsize=(10,10))\n",
    "sns.set(font_scale=1.5)\n",
    "ax = sns.scatterplot(x=posterior_xd_mean, y=xd, s=100)\n",
    "ax = ax.set(ylabel=r'$\\log(Y_j)$', xlabel=r'$E[X_j|Y_j]$')\n",
    "\n",
    "if low_save:\n",
    "    plt.savefig(\"../data/output/commuter_ward/inverse_problem/figures/low_noise_predictions_plot.png\",\n",
    "                dpi=1000, \n",
    "                bbox_inches='tight',\n",
    "                  transparent=True)"
   ]
  },
  {
   "cell_type": "code",
   "execution_count": null,
   "metadata": {},
   "outputs": [],
   "source": [
    "plt.figure(figsize=(10,10))\n",
    "sns.set(font_scale=1.5)\n",
    "ax = sns.scatterplot(x=posterior_xd_mean, y=abs(xd-posterior_xd_mean), s=100)\n",
    "ax = ax.set(ylabel=r'$\\log(Y_j)-E[X_j|Y_j]$', xlabel=r'$E[X_j|Y_j]$')\n",
    "\n",
    "if low_save:\n",
    "    plt.savefig(\"../data/output/commuter_ward/inverse_problem/figures/low_noise_residual_plot.png\",\n",
    "            dpi=1000, \n",
    "            bbox_inches='tight',\n",
    "            transparent=True)"
   ]
  },
  {
   "cell_type": "code",
   "execution_count": null,
   "metadata": {},
   "outputs": [],
   "source": [
    "np.corrcoef(posterior_xd,xd)[0,1]"
   ]
  },
  {
   "cell_type": "code",
   "execution_count": null,
   "metadata": {},
   "outputs": [],
   "source": [
    "sm.graphics.tsa.plot_acf(samples[:,0], lags=100)\n",
    "plt.show()"
   ]
  },
  {
   "cell_type": "code",
   "execution_count": null,
   "metadata": {},
   "outputs": [],
   "source": [
    "sm.graphics.tsa.plot_acf(samples[:,1], lags=100)\n",
    "plt.show()"
   ]
  },
  {
   "cell_type": "code",
   "execution_count": null,
   "metadata": {},
   "outputs": [],
   "source": [
    "print(np.mean(samples[::1500],axis=0))\n",
    "print(np.std(samples[::1500],axis=0))"
   ]
  },
  {
   "cell_type": "code",
   "execution_count": null,
   "metadata": {},
   "outputs": [],
   "source": [
    "# Define number of steps to skip based on ACF\n",
    "steps = 25"
   ]
  },
  {
   "cell_type": "code",
   "execution_count": null,
   "metadata": {
    "scrolled": false
   },
   "outputs": [],
   "source": [
    "plt.figure(figsize=(10,10))\n",
    "sns.set(font_scale=1.5)\n",
    "ax = sns.kdeplot(data=samples[::steps,0], label=r'$\\alpha$ posterior density',shade=True)\n",
    "ax = sns.kdeplot(data=samples[::steps,1], label=r'$\\beta$ posterior density',color='red',shade=True)\n",
    "plt.axhline(0.5, color='black',label=r'$\\alpha,\\beta$ prior density')\n",
    "ax1 = ax.set(xlim=(0, 2))\n",
    "ax.xaxis.set_major_locator(ticker.MultipleLocator(0.5))\n",
    "ax.xaxis.set_major_formatter(ticker.ScalarFormatter())\n",
    "\n",
    "labels = [r'$\\alpha$ posterior density', r'$\\beta$ posterior density', r'$\\alpha,\\beta$ prior density']\n",
    "handles, _ = ax.get_legend_handles_labels()\n",
    "plt.legend(handles = handles[0:], labels = labels)\n",
    "\n",
    "\n",
    "if low_save:\n",
    "    plt.savefig(\"../data/output/commuter_ward/inverse_problem/figures/low_noise_parameter_posterior.png\",\n",
    "            dpi=1000, \n",
    "            bbox_inches='tight',\n",
    "            transparent=True)\n"
   ]
  },
  {
   "cell_type": "markdown",
   "metadata": {},
   "source": [
    "## High noise"
   ]
  },
  {
   "cell_type": "code",
   "execution_count": null,
   "metadata": {},
   "outputs": [],
   "source": [
    "# Select starting point\n",
    "mcmc_start = 10000\n",
    "\n",
    "# Choose whether to save plots\n",
    "high_save = True"
   ]
  },
  {
   "cell_type": "code",
   "execution_count": null,
   "metadata": {},
   "outputs": [],
   "source": [
    "# Import samples\n",
    "high_samples = np.loadtxt(os.path.join(rd,f\"data/output/{dataset}/inverse_problem/{constrained}_high_noise_theta_samples.txt\"))\n",
    "high_samples2 = np.loadtxt(os.path.join(rd,f\"data/output/{dataset}/inverse_problem/{constrained}_high_noise_logsize_samples.txt\"))\n",
    "high_samples3 = np.loadtxt(os.path.join(rd,f\"data/output/{dataset}/inverse_problem/{constrained}_high_noise_sign_samples.txt\"))"
   ]
  },
  {
   "cell_type": "code",
   "execution_count": null,
   "metadata": {},
   "outputs": [],
   "source": [
    "# Start from mcmc_start\n",
    "high_samples = high_samples[mcmc_start:]\n",
    "high_samples2 = high_samples2[mcmc_start:]\n",
    "high_samples3 = high_samples3[mcmc_start:]"
   ]
  },
  {
   "cell_type": "code",
   "execution_count": null,
   "metadata": {},
   "outputs": [],
   "source": [
    "high_alpha_mean = np.dot(high_samples3, high_samples[:, 0])/np.sum(high_samples3)\n",
    "high_alpha_sd = np.sqrt(np.dot(high_samples3, high_samples[:, 0]**2)/np.sum(high_samples3) - high_alpha_mean**2)\n",
    "high_beta_mean = np.dot(high_samples3, high_samples[:, 1])/np.sum(high_samples3)\n",
    "high_beta_sd = np.sqrt(np.dot(high_samples3, high_samples[:, 1]**2)/np.sum(high_samples3) - high_beta_mean**2)\n",
    "\n",
    "print('Theta mean')\n",
    "print('alpha = ',high_alpha_mean)\n",
    "print('beta = ',high_beta_mean)\n",
    "print('Theta sd')\n",
    "print('alpha = ',high_alpha_sd)\n",
    "print('beta = ',high_beta_sd)"
   ]
  },
  {
   "cell_type": "code",
   "execution_count": null,
   "metadata": {},
   "outputs": [],
   "source": [
    "# Posterior latent sizes\n",
    "high_posterior_wd_mean = (np.exp(high_samples2)*high_samples3[:, np.newaxis]).sum(axis=0)/np.sum(high_samples3)\n",
    "high_posterior_wd_mean2 = (np.exp(2*high_samples2)*high_samples3[:, np.newaxis]).sum(axis=0)/np.sum(high_samples3)\n",
    "high_posterior_wd_sd = np.sqrt(high_posterior_xd_mean2 - high_posterior_xd_mean**2)\n",
    "high_posterior_xd_mean = np.log(high_posterior_wd_mean)\n",
    "\n",
    "print('Posterior latent sizes mean')\n",
    "print(np.exp(high_posterior_xd_mean))\n",
    "print('Posterior latent sizes sd')\n",
    "print(high_posterior_xd_sd)\n",
    "print('Actual latent sizes')\n",
    "print(np.exp(xd))"
   ]
  },
  {
   "cell_type": "code",
   "execution_count": null,
   "metadata": {},
   "outputs": [],
   "source": [
    "# Set factor for plotting\n",
    "actual_factor = 1000\n",
    "latent_factor = 10000"
   ]
  },
  {
   "cell_type": "code",
   "execution_count": null,
   "metadata": {},
   "outputs": [],
   "source": [
    "fig,ax = plt.subplots(1,1,figsize=(20,20))\n",
    "ax.scatter(orig_locs[:, 0], orig_locs[:, 1], facecolor=\"None\",edgecolors='b', s=actual_factor*o, alpha=1,label=r'$O_i$')\n",
    "ax.scatter(dest_locs[:, 0], dest_locs[:, 1], facecolor=\"None\",edgecolors='g', s=latent_factor*(high_posterior_wd_mean+3*high_posterior_wd_sd), alpha=1,label=r'$\\hat{Y}_j+3\\sigma$')\n",
    "ax.scatter(dest_locs[:, 0], dest_locs[:, 1], facecolor=\"None\",edgecolors='r', s=latent_factor*(high_posterior_wd_mean-3*high_posterior_wd_sd), alpha=1,label=r'$\\hat{Y}_j-3\\sigma$')\n",
    "# Plot legend.\n",
    "lgnd = plt.legend(loc=\"upper right\", scatterpoints=1, fontsize=18)\n",
    "for i in range(len(lgnd.legendHandles)):\n",
    "    lgnd.legendHandles[i]._sizes = [120]\n",
    "plt.yticks([])\n",
    "plt.xticks([])\n",
    "plt.xlabel('Longitude',fontsize=25)\n",
    "plt.ylabel('Latitude',fontsize=25)\n",
    "\n",
    "london_boundary.boundary.plot(edgecolor='black',ax=ax,alpha=0.3)\n",
    "\n",
    "if high_save:\n",
    "    plt.savefig(\"../data/output/commuter_ward/inverse_problem/figures/high_noise_posterior_latent_sizes.png\",\n",
    "            dpi=1000, \n",
    "            bbox_inches='tight',\n",
    "            transparent=True)"
   ]
  },
  {
   "cell_type": "code",
   "execution_count": null,
   "metadata": {},
   "outputs": [],
   "source": [
    "plt.figure(figsize=(10,10))\n",
    "sns.set(font_scale=1.5)\n",
    "ax = sns.scatterplot(x=high_posterior_xd_mean, y=xd, s=100)\n",
    "ax = ax.set(ylabel=r'$\\log(Y_j)$', xlabel=r'$E[X_j|Y_j]$')\n",
    "\n",
    "\n",
    "if high_save:\n",
    "    plt.savefig(\"../data/output/commuter_ward/inverse_problem/figures/high_noise_predictions_plot.png\",\n",
    "            dpi=1000, \n",
    "            bbox_inches='tight',\n",
    "            transparent=True)"
   ]
  },
  {
   "cell_type": "code",
   "execution_count": null,
   "metadata": {},
   "outputs": [],
   "source": [
    "plt.figure(figsize=(10,10))\n",
    "sns.set(font_scale=1.5)\n",
    "ax = sns.scatterplot(x=high_posterior_xd_mean, y=abs(xd-high_posterior_xd_mean), s=100)\n",
    "ax = ax.set(ylabel=r'$\\log(Y_j)-E[X_j|Y_j]$', xlabel=r'$E[X_j|Y_j]$')\n",
    "\n",
    "if high_save:\n",
    "    plt.savefig(\"../data/output/commuter_ward/inverse_problem/figures/high_noise_residual_plot.png\",\n",
    "            dpi=1000, \n",
    "            bbox_inches='tight',\n",
    "           transparent=True)"
   ]
  },
  {
   "cell_type": "code",
   "execution_count": null,
   "metadata": {},
   "outputs": [],
   "source": [
    "np.corrcoef(high_posterior_xd_mean,xd)[0,1]"
   ]
  },
  {
   "cell_type": "code",
   "execution_count": null,
   "metadata": {},
   "outputs": [],
   "source": [
    "sm.graphics.tsa.plot_acf(high_samples[:,0], lags=100)\n",
    "plt.show()"
   ]
  },
  {
   "cell_type": "code",
   "execution_count": null,
   "metadata": {},
   "outputs": [],
   "source": [
    "sm.graphics.tsa.plot_acf(high_samples[:,1], lags=200)\n",
    "plt.show()"
   ]
  },
  {
   "cell_type": "code",
   "execution_count": null,
   "metadata": {},
   "outputs": [],
   "source": [
    "# Define number of steps to skip based on ACF\n",
    "steps = 70"
   ]
  },
  {
   "cell_type": "code",
   "execution_count": null,
   "metadata": {},
   "outputs": [],
   "source": [
    "print(np.mean(high_samples[::steps],axis=0))\n",
    "print(np.std(high_samples[::steps],axis=0))"
   ]
  },
  {
   "cell_type": "code",
   "execution_count": null,
   "metadata": {},
   "outputs": [],
   "source": [
    "plt.figure(figsize=(10,10))\n",
    "sns.set(font_scale=1.5)\n",
    "ax1 = sns.kdeplot(data=high_samples[::steps,0], label=r'$\\pi(\\alpha|y,\\beta)$ posterior marginal',shade=True)\n",
    "ax2 = sns.kdeplot(data=high_samples[::steps,1], label=r'$\\pi(\\beta|y,\\alpha)$ posterior marginal',color='red',shade=True)\n",
    "ax3 = ax1.axhline(0.5, color='black',label=r'$\\alpha,\\beta$ prior')\n",
    "ax4 = ax1.axvline(np.mean(high_samples[::steps],axis=0)[0], color='blue',ls='--',label=r'$\\alpha$ posterior mean')\n",
    "ax5 = ax2.axvline(np.mean(high_samples[::steps],axis=0)[1], color='red',ls='--',label=r'$\\beta$ posterior mean')\n",
    "\n",
    "ax6 = ax1.set(xlim=(-0.1, 2))\n",
    "ax1.xaxis.set_major_locator(ticker.MultipleLocator(0.5))\n",
    "ax1.xaxis.set_major_formatter(ticker.ScalarFormatter())\n",
    "\n",
    "labels = [r'$\\pi(\\alpha|y,\\beta)$ posterior marginal', r'$\\pi(\\beta|y,\\alpha)$ posterior marginal', r'$\\alpha,\\beta$ prior', r'$\\alpha$ posterior mean', r'$\\beta$ posterior mean']\n",
    "handles, _ = ax1.get_legend_handles_labels()\n",
    "plt.legend(handles = handles[0:], labels = labels)"
   ]
  },
  {
   "cell_type": "markdown",
   "metadata": {},
   "source": [
    "# Compare population origin supply to borough commuter origin supply"
   ]
  },
  {
   "cell_type": "code",
   "execution_count": null,
   "metadata": {},
   "outputs": [],
   "source": [
    "# Import borough supply\n",
    "origin_supply_borough = np.loadtxt(os.path.join(rd,f'./data/input/commuter_borough/origin_supply.txt'))\n",
    "ob = origin_supply_borough/np.sum(origin_supply_borough)\n",
    "boroughs = np.loadtxt(os.path.join(rd,f'./data/input/commuter_borough/origins.txt'),dtype=str)\n",
    "wards = np.loadtxt(os.path.join(rd,f'./data/input/commuter_ward/origins.txt'),dtype=str)\n",
    "\n",
    "# Create borough df\n",
    "borough_df = pd.DataFrame(data=np.array([boroughs,ob]).T,columns=['borough','borough_origin'])\n",
    "\n",
    "# Import ward to borough map\n",
    "with open(os.path.join(rd,f'data/input/misc/ward_coordinates.json')) as infile:\n",
    "    ward_coords = json.load(infile)\n",
    "\n",
    "# Convert ward coordinates to dataframe\n",
    "ward_properties = [x['properties'] for x in ward_coords['features']]\n",
    "wards_df = pd.DataFrame.from_records(ward_properties)\n",
    "\n",
    "# Sort wards_df\n",
    "wards_df = wards_df.sort_values('ward_new')\n",
    "\n",
    "# Add ward origin supply\n",
    "wards_df['ward_origin'] = o\n",
    "\n",
    "# Join ward to borough df\n",
    "wards_df = wards_df[['ward_new','borough_new','ward_origin']]\n",
    "\n",
    "# Get ward origin supply by borough\n",
    "population_by_borough = wards_df.groupby('borough_new').sum().sort_values('borough_new')\n",
    "ow = population_by_borough['ward_origin'].values"
   ]
  },
  {
   "cell_type": "code",
   "execution_count": null,
   "metadata": {},
   "outputs": [],
   "source": [
    "ow"
   ]
  },
  {
   "cell_type": "code",
   "execution_count": null,
   "metadata": {},
   "outputs": [],
   "source": [
    "ob"
   ]
  },
  {
   "cell_type": "code",
   "execution_count": null,
   "metadata": {},
   "outputs": [],
   "source": [
    "np.corrcoef(ow,ob)[0,1]"
   ]
  },
  {
   "cell_type": "code",
   "execution_count": null,
   "metadata": {},
   "outputs": [],
   "source": [
    "ow/ob"
   ]
  },
  {
   "cell_type": "code",
   "execution_count": null,
   "metadata": {},
   "outputs": [],
   "source": [
    "np.log(ow)/np.log(ob)"
   ]
  },
  {
   "cell_type": "code",
   "execution_count": null,
   "metadata": {},
   "outputs": [],
   "source": [
    "factor = 1e5\n",
    "\n",
    "plt.figure(figsize=(20,20))\n",
    "plt.scatter(dest_locs[:, 1], dest_locs[:, 0], facecolor=\"None\",edgecolors='b', s=factor*ow, alpha=1,label='Ward orig supply')\n",
    "plt.scatter(dest_locs[:, 1], dest_locs[:, 0], facecolor=\"None\",edgecolors='g', s=factor*ob, alpha=1,label='Actual borough orig supply')\n",
    "# Plot legend.\n",
    "lgnd = plt.legend(loc=\"upper right\", scatterpoints=1, fontsize=10)\n",
    "lgnd.legendHandles[0]._sizes = [30]\n",
    "lgnd.legendHandles[1]._sizes = [30]"
   ]
  }
 ],
 "metadata": {
  "kernelspec": {
   "display_name": "MRes project",
   "language": "python",
   "name": "stdm"
  },
  "language_info": {
   "codemirror_mode": {
    "name": "ipython",
    "version": 3
   },
   "file_extension": ".py",
   "mimetype": "text/x-python",
   "name": "python",
   "nbconvert_exporter": "python",
   "pygments_lexer": "ipython3",
   "version": "3.7.5"
  }
 },
 "nbformat": 4,
 "nbformat_minor": 4
}
