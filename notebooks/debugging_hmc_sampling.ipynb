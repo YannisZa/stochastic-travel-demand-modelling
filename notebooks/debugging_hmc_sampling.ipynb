{
 "cells": [
  {
   "cell_type": "code",
   "execution_count": 78,
   "metadata": {},
   "outputs": [],
   "source": [
    "import os\n",
    "import sys\n",
    "import numpy as np\n",
    "import pandas as pd\n",
    "import matplotlib.pyplot as plt\n",
    "import copy\n",
    "from tqdm import tqdm\n",
    "import seaborn as sns; sns.set()"
   ]
  },
  {
   "cell_type": "markdown",
   "metadata": {},
   "source": [
    "# Potential function"
   ]
  },
  {
   "cell_type": "code",
   "execution_count": 2,
   "metadata": {},
   "outputs": [],
   "source": [
    "# As defined in C function\n",
    "def _logsumexp(xx,m):\n",
    "    _max = xx[0]\n",
    "    for j in range(m):\n",
    "        if xx[j] > _max:\n",
    "            _max = xx[j]\n",
    "\n",
    "    _sum = 0;\n",
    "    for j in range(m):\n",
    "        _sum += np.exp(xx[j] - _max);\n",
    "\n",
    "    return _max + np.log(_sum)\n",
    "\n",
    "def pot_value(x,params):\n",
    "    pot = 1\n",
    "    a = params[0]\n",
    "    b = params[1]\n",
    "    d = params[2]\n",
    "    g = params[3]\n",
    "    k = params[4]\n",
    "    e = params[5]\n",
    "\n",
    "    a_inv = 1./a\n",
    "\n",
    "    grad = np.zeros(M)\n",
    "    wksp = np.zeros(M)\n",
    "\n",
    "    utility = 0\n",
    "    for i in range(N):\n",
    "        for j in range(M):\n",
    "            wksp[j] = a*x[j] - b*c[i,j]\n",
    "        temp = _logsumexp(wksp,M)\n",
    "\n",
    "        utility += -e*a_inv*o[i]*temp;\n",
    "\n",
    "        for j in range(M):\n",
    "            grad[j] += -e*o[i]*np.exp(wksp[j]-temp)\n",
    "\n",
    "    for j in range(M):\n",
    "        grad[j] += k*np.exp(x[j]) - d\n",
    "        grad[j] *= g\n",
    "\n",
    "\n",
    "    # Compute cost and additional utilities\n",
    "    cost = k * np.sum(np.exp(x))\n",
    "    additional = -d * np.sum(x)\n",
    "\n",
    "    potential = g*e*(utility+cost+additional)\n",
    "\n",
    "    return potential,grad"
   ]
  },
  {
   "cell_type": "markdown",
   "metadata": {},
   "source": [
    "# Import data"
   ]
  },
  {
   "cell_type": "markdown",
   "metadata": {},
   "source": [
    "## Import specified dataset"
   ]
  },
  {
   "cell_type": "code",
   "execution_count": 3,
   "metadata": {},
   "outputs": [],
   "source": [
    "# Choose dataset\n",
    "dataset = \"synthetic\"\n",
    "# Define possible alphas\n",
    "alphas = [0.5,1.0,1.5,2.0]\n",
    "# Select index of alpha\n",
    "idx = 3\n",
    "# Select model ('singly' or 'doubly')\n",
    "model = 'singly'\n",
    "\n",
    "\n",
    "# Select burn in (in terms of number of iterations)\n",
    "burnin = 0"
   ]
  },
  {
   "cell_type": "code",
   "execution_count": 43,
   "metadata": {},
   "outputs": [],
   "source": [
    "# Import relevant data\n",
    "origin_supply = np.loadtxt(f'../data/input/{dataset}/origin_supply.txt')\n",
    "initial_destination_sizes = np.loadtxt(f'../data/input/{dataset}/initial_destination_sizes.txt')\n",
    "cost_matrix = np.loadtxt(f'../data/input/{dataset}/cost_matrix.txt')\n",
    "destinations = np.loadtxt(f'../data/input/{dataset}/destinations.txt',dtype='str')\n",
    "\n",
    "# Store dimensions\n",
    "N,M = cost_matrix.shape\n",
    "\n",
    "# Define log sizes\n",
    "xd = np.log(initial_destination_sizes/np.sum(initial_destination_sizes))\n",
    "# Define normalised cost_matrix\n",
    "c = cost_matrix/np.sum(cost_matrix)\n",
    "# Define normalised origin_supply\n",
    "o = origin_supply/np.sum(origin_supply)"
   ]
  },
  {
   "cell_type": "markdown",
   "metadata": {},
   "source": [
    "# Run HMC"
   ]
  },
  {
   "cell_type": "code",
   "execution_count": 141,
   "metadata": {},
   "outputs": [],
   "source": [
    "# Fix random seed\n",
    "np.random.seed(888)\n",
    "\n",
    "# Set theta for high-noise model's potential value parameters\n",
    "alpha = 2.0\n",
    "beta = 0.3*0.7e6\n",
    "_delta = 0.3\n",
    "gamma = 10000\n",
    "kappa = 1 + _delta\n",
    "delta = _delta/M\n",
    "\n",
    "# MCMC tuning parameters\n",
    "# Number of leapfrog steps\n",
    "L = 100\n",
    "# Leapfrog step size\n",
    "epsilon = 0.1\n",
    "# Number of iterations\n",
    "mcmc_n = 10000"
   ]
  },
  {
   "cell_type": "code",
   "execution_count": 142,
   "metadata": {
    "scrolled": false
   },
   "outputs": [
    {
     "name": "stderr",
     "output_type": "stream",
     "text": [
      "  0%|          | 4/10000 [00:00<11:11, 14.89it/s]/Users/Yannis/.pyenv/versions/stdm/lib/python3.7/site-packages/ipykernel_launcher.py:40: RuntimeWarning: overflow encountered in exp\n",
      "/Users/Yannis/.pyenv/versions/stdm/lib/python3.7/site-packages/ipykernel_launcher.py:45: RuntimeWarning: overflow encountered in exp\n",
      "  5%|▌         | 502/10000 [00:37<09:30, 16.64it/s]  "
     ]
    },
    {
     "name": "stdout",
     "output_type": "stream",
     "text": [
      "Iteration 500\n",
      "X AR:\n",
      "[0. 0. 0. 0. 0.]\n",
      "Swap AR:0.998003992015968\n"
     ]
    },
    {
     "name": "stderr",
     "output_type": "stream",
     "text": [
      " 10%|█         | 1002/10000 [01:10<12:43, 11.78it/s]"
     ]
    },
    {
     "name": "stdout",
     "output_type": "stream",
     "text": [
      "Iteration 1000\n",
      "X AR:\n",
      "[0. 0. 0. 0. 0.]\n",
      "Swap AR:0.999000999000999\n"
     ]
    },
    {
     "name": "stderr",
     "output_type": "stream",
     "text": [
      " 15%|█▌        | 1501/10000 [01:54<14:35,  9.70it/s]"
     ]
    },
    {
     "name": "stdout",
     "output_type": "stream",
     "text": [
      "Iteration 1500\n",
      "X AR:\n",
      "[0. 0. 0. 0. 0.]\n",
      "Swap AR:0.9993337774816788\n"
     ]
    },
    {
     "name": "stderr",
     "output_type": "stream",
     "text": [
      " 20%|██        | 2003/10000 [02:28<07:36, 17.52it/s]  "
     ]
    },
    {
     "name": "stdout",
     "output_type": "stream",
     "text": [
      "Iteration 2000\n",
      "X AR:\n",
      "[0. 0. 0. 0. 0.]\n",
      "Swap AR:0.9995002498750625\n"
     ]
    },
    {
     "name": "stderr",
     "output_type": "stream",
     "text": [
      " 25%|██▌       | 2503/10000 [02:58<07:19, 17.08it/s]"
     ]
    },
    {
     "name": "stdout",
     "output_type": "stream",
     "text": [
      "Iteration 2500\n",
      "X AR:\n",
      "[0. 0. 0. 0. 0.]\n",
      "Swap AR:0.9996001599360256\n"
     ]
    },
    {
     "name": "stderr",
     "output_type": "stream",
     "text": [
      " 30%|███       | 3002/10000 [03:33<06:51, 17.01it/s]"
     ]
    },
    {
     "name": "stdout",
     "output_type": "stream",
     "text": [
      "Iteration 3000\n",
      "X AR:\n",
      "[0. 0. 0. 0. 0.]\n",
      "Swap AR:0.9996667777407531\n"
     ]
    },
    {
     "name": "stderr",
     "output_type": "stream",
     "text": [
      " 35%|███▌      | 3503/10000 [04:01<05:41, 19.02it/s]"
     ]
    },
    {
     "name": "stdout",
     "output_type": "stream",
     "text": [
      "Iteration 3500\n",
      "X AR:\n",
      "[0. 0. 0. 0. 0.]\n",
      "Swap AR:0.9997143673236218\n"
     ]
    },
    {
     "name": "stderr",
     "output_type": "stream",
     "text": [
      " 40%|████      | 4003/10000 [04:27<04:57, 20.18it/s]"
     ]
    },
    {
     "name": "stdout",
     "output_type": "stream",
     "text": [
      "Iteration 4000\n",
      "X AR:\n",
      "[0. 0. 0. 0. 0.]\n",
      "Swap AR:0.9997500624843789\n"
     ]
    },
    {
     "name": "stderr",
     "output_type": "stream",
     "text": [
      " 45%|████▌     | 4502/10000 [04:55<05:52, 15.58it/s]"
     ]
    },
    {
     "name": "stdout",
     "output_type": "stream",
     "text": [
      "Iteration 4500\n",
      "X AR:\n",
      "[0. 0. 0. 0. 0.]\n",
      "Swap AR:0.9997778271495223\n"
     ]
    },
    {
     "name": "stderr",
     "output_type": "stream",
     "text": [
      " 50%|█████     | 5003/10000 [05:23<05:24, 15.39it/s]"
     ]
    },
    {
     "name": "stdout",
     "output_type": "stream",
     "text": [
      "Iteration 5000\n",
      "X AR:\n",
      "[0. 0. 0. 0. 0.]\n",
      "Swap AR:0.9998000399920016\n"
     ]
    },
    {
     "name": "stderr",
     "output_type": "stream",
     "text": [
      " 55%|█████▌    | 5503/10000 [05:54<04:52, 15.37it/s]"
     ]
    },
    {
     "name": "stdout",
     "output_type": "stream",
     "text": [
      "Iteration 5500\n",
      "X AR:\n",
      "[0. 0. 0. 0. 0.]\n",
      "Swap AR:0.9998182148700236\n"
     ]
    },
    {
     "name": "stderr",
     "output_type": "stream",
     "text": [
      " 60%|██████    | 6003/10000 [06:23<03:32, 18.82it/s]"
     ]
    },
    {
     "name": "stdout",
     "output_type": "stream",
     "text": [
      "Iteration 6000\n",
      "X AR:\n",
      "[0. 0. 0. 0. 0.]\n",
      "Swap AR:0.9998333611064822\n"
     ]
    },
    {
     "name": "stderr",
     "output_type": "stream",
     "text": [
      " 65%|██████▌   | 6502/10000 [06:51<04:43, 12.33it/s]"
     ]
    },
    {
     "name": "stdout",
     "output_type": "stream",
     "text": [
      "Iteration 6500\n",
      "X AR:\n",
      "[0. 0. 0. 0. 0.]\n",
      "Swap AR:0.9998461775111521\n"
     ]
    },
    {
     "name": "stderr",
     "output_type": "stream",
     "text": [
      " 70%|███████   | 7003/10000 [07:23<02:57, 16.84it/s]"
     ]
    },
    {
     "name": "stdout",
     "output_type": "stream",
     "text": [
      "Iteration 7000\n",
      "X AR:\n",
      "[0. 0. 0. 0. 0.]\n",
      "Swap AR:0.999857163262391\n"
     ]
    },
    {
     "name": "stderr",
     "output_type": "stream",
     "text": [
      " 75%|███████▌  | 7503/10000 [07:52<02:25, 17.14it/s]"
     ]
    },
    {
     "name": "stdout",
     "output_type": "stream",
     "text": [
      "Iteration 7500\n",
      "X AR:\n",
      "[0. 0. 0. 0. 0.]\n",
      "Swap AR:0.9998666844420744\n"
     ]
    },
    {
     "name": "stderr",
     "output_type": "stream",
     "text": [
      " 80%|████████  | 8002/10000 [08:20<01:58, 16.93it/s]"
     ]
    },
    {
     "name": "stdout",
     "output_type": "stream",
     "text": [
      "Iteration 8000\n",
      "X AR:\n",
      "[0. 0. 0. 0. 0.]\n",
      "Swap AR:0.9998750156230471\n"
     ]
    },
    {
     "name": "stderr",
     "output_type": "stream",
     "text": [
      " 85%|████████▌ | 8502/10000 [08:50<01:28, 16.85it/s]"
     ]
    },
    {
     "name": "stdout",
     "output_type": "stream",
     "text": [
      "Iteration 8500\n",
      "X AR:\n",
      "[0. 0. 0. 0. 0.]\n",
      "Swap AR:0.9998823667803788\n"
     ]
    },
    {
     "name": "stderr",
     "output_type": "stream",
     "text": [
      " 90%|█████████ | 9003/10000 [09:16<00:49, 19.95it/s]"
     ]
    },
    {
     "name": "stdout",
     "output_type": "stream",
     "text": [
      "Iteration 9000\n",
      "X AR:\n",
      "[0. 0. 0. 0. 0.]\n",
      "Swap AR:0.9998889012331963\n"
     ]
    },
    {
     "name": "stderr",
     "output_type": "stream",
     "text": [
      " 95%|█████████▌| 9502/10000 [09:46<00:26, 18.71it/s]"
     ]
    },
    {
     "name": "stdout",
     "output_type": "stream",
     "text": [
      "Iteration 9500\n",
      "X AR:\n",
      "[0. 0. 0. 0. 0.]\n",
      "Swap AR:0.9998947479212714\n"
     ]
    },
    {
     "name": "stderr",
     "output_type": "stream",
     "text": [
      "100%|██████████| 10000/10000 [10:14<00:00, 16.26it/s]"
     ]
    },
    {
     "name": "stdout",
     "output_type": "stream",
     "text": [
      "Iteration 10000\n",
      "X AR:\n",
      "[0. 0. 0. 0. 0.]\n",
      "Swap AR:0.9999000099990001\n"
     ]
    },
    {
     "name": "stderr",
     "output_type": "stream",
     "text": [
      "\n"
     ]
    }
   ],
   "source": [
    "# Convert to np array\n",
    "theta = np.array([alpha,beta,delta,gamma,kappa,1])\n",
    "\n",
    "# Inverse temperatures that go into potential energy of Hamiltonian dynamics\n",
    "inverse_temperatures = np.array([1., 1./2., 1./4., 1./8., 1./16.])\n",
    "temp_n = len(inverse_temperatures)\n",
    "\n",
    "# Array to store X values sampled at each iteration\n",
    "samples = np.empty((mcmc_n, M))\n",
    "\n",
    "# Initialize MCMC\n",
    "xx = -np.log(M)*np.ones((temp_n, M))\n",
    "\n",
    "# Initiliase arrays for potential value and its gradient\n",
    "V = np.empty(temp_n)\n",
    "gradV = np.empty((temp_n, M))\n",
    "positions = np.empty((mcmc_n+1, M))\n",
    "positions[0,:] = xx[0]\n",
    "\n",
    "# Get potential value and its gradient for the initial choice of theta and x\n",
    "for j in range(temp_n):\n",
    "    V[j], gradV[j] = pot_value(xx[j],theta)\n",
    "\n",
    "# Counts to keep track of accept rates\n",
    "ac = np.zeros(temp_n)\n",
    "pc = np.zeros(temp_n)\n",
    "acs = 0\n",
    "pcs = 1\n",
    "\n",
    "\n",
    "# Iterator for number of mcmc runs\n",
    "n = 0\n",
    "\n",
    "# MCMC algorithm\n",
    "for i in tqdm(range(mcmc_n)):\n",
    "    for j in range(temp_n):\n",
    "        # Initialise leapfrog integrator for HMC proposal\n",
    "\n",
    "        ''' HMC parameter/function correspondence to spatial interaction model\n",
    "        q = x : position or log destination sizes\n",
    "        U(x) = gamma*V(x|theta)*(1/T) :  potential energy or potential value given parameter theta times inverse temperature\n",
    "\n",
    "        Note that the potential value function returns gamma*V(x|theta)\n",
    "        '''\n",
    "\n",
    "        # X-Proposal (position q is the log size vector X)\n",
    "        x_p = xx[j]\n",
    "\n",
    "        # Initialise momentum\n",
    "        p = np.random.normal(0., 1., M)\n",
    "        # Set current momentum\n",
    "        p_p = p\n",
    "        # Get potential value and its Jacobian\n",
    "        V_p, gradV_p = V[j], gradV[j]\n",
    "        # Make a half step for momentum in the beginning\n",
    "        # inverse_temps[j]*gradV_p = grad V(x|theta)*(1/T)\n",
    "        p_p -= 0.5*epsilon*inverse_temperatures[j]*gradV_p\n",
    "\n",
    "        # Hamiltonian total energy function = kinetic energy + potential energy\n",
    "        # at the beginning of trajectory\n",
    "        # Kinetic energy K(p) = p^TM^{−1}p / 2 with M being the identity matrix\n",
    "        H = 0.5*np.dot(p, p) + inverse_temperatures[j]*V[j]\n",
    "\n",
    "        # Alternate full steps for position and momentum\n",
    "        for l in range(L):\n",
    "            # Make a full step for the position\n",
    "            x_p += epsilon*p_p\n",
    "            # Update potential value and its gradient\n",
    "            V_p, gradV_p = pot_value(x_p,theta)\n",
    "            # Make a full step for the momentum except at the end of trajectory\n",
    "            if (l != (L-1)):\n",
    "                p_p -= 0.5*epsilon*inverse_temperatures[j]*gradV_p\n",
    "\n",
    "        # Make a falf step for momentum at the end.\n",
    "        p_p -= 0.5*epsilon*inverse_temperatures[j]*gradV_p\n",
    "\n",
    "        # Negate momentum\n",
    "        p_p *= (-1)\n",
    "        \n",
    "        # Store positions\n",
    "#         n += 1\n",
    "#         positions[n,:] = x_p\n",
    "\n",
    "        # Increment proposal count\n",
    "        pc[j] += 1\n",
    "\n",
    "        # Compute Hamiltonian total energy function at the end of trajectory\n",
    "        H_p = 0.5*np.dot(p_p, p_p) + inverse_temperatures[j]*V_p\n",
    "\n",
    "        # Accept/reject X by either returning the position at the end of the trajectory or the initial position\n",
    "        if np.log(np.random.uniform(0, 1)) < H - H_p:\n",
    "            xx[j] = x_p\n",
    "            V[j], gradV[j] = V_p, gradV_p\n",
    "            ac[j] += 1\n",
    "\n",
    "    # Perform a swap\n",
    "    pcs += 1\n",
    "    j0 = np.random.randint(0, temp_n-1)\n",
    "    j1 = j0+1\n",
    "    logA = (inverse_temperatures[j1]-inverse_temperatures[j0])*(-V[j1] + V[j0])\n",
    "    if np.log(np.random.uniform(0, 1)) < logA:\n",
    "        xx[[j0, j1]] = xx[[j1, j0]]\n",
    "        V[[j0, j1]] = V[[j1, j0]]\n",
    "        gradV[[j0, j1]] = gradV[[j1, j0]]\n",
    "        acs += 1\n",
    "\n",
    "    # Update stored Markov-chain\n",
    "    samples[i] = xx[0]\n",
    "\n",
    "    # Savedown and output details every 100 iterations\n",
    "    if (i+1) % (int(0.05*mcmc_n)) == 0:\n",
    "        print(\"Iteration \" + str(i+1))\n",
    "        print(\"X AR:\")\n",
    "        print(ac/pc)\n",
    "        print(\"Swap AR:\" + str(float(acs)/float(pcs)))"
   ]
  },
  {
   "cell_type": "markdown",
   "metadata": {},
   "source": [
    "# Visualise posterior samples"
   ]
  },
  {
   "cell_type": "markdown",
   "metadata": {},
   "source": [
    "## Specified dataset"
   ]
  },
  {
   "cell_type": "code",
   "execution_count": 132,
   "metadata": {},
   "outputs": [],
   "source": [
    "# Select dimension of samples to visualise \n",
    "dim = 0\n",
    "\n",
    "assert dim >= 0 and dim <= samples.shape[1]"
   ]
  },
  {
   "cell_type": "code",
   "execution_count": 133,
   "metadata": {},
   "outputs": [
    {
     "data": {
      "image/png": "[encoded data removed]",
      "text/plain": [
       "<Figure size 864x1008 with 1 Axes>"
      ]
     },
     "metadata": {},
     "output_type": "display_data"
    }
   ],
   "source": [
    "# Plot samples\n",
    "plt.figure(figsize=(12, 14)) \n",
    "\n",
    "ax = plt.subplot(111)    \n",
    "ax.spines[\"top\"].set_visible(False)    \n",
    "ax.spines[\"bottom\"].set_visible(False)    \n",
    "ax.spines[\"right\"].set_visible(False)\n",
    "ax.spines[\"left\"].set_visible(False)\n",
    "  \n",
    "# Ensure that the axis ticks only show up on the bottom and left of the plot.    \n",
    "# Ticks on the right and top of the plot are generally unnecessary chartjunk.    \n",
    "ax.get_xaxis().tick_top()    \n",
    "ax.get_yaxis().tick_left()    \n",
    "  \n",
    "plt.scatter(range(1,samples.shape[0]+1), samples[:,dim], lw=0.5, color=\"black\", alpha=0.3)    \n",
    "\n",
    "plt.show()"
   ]
  },
  {
   "cell_type": "code",
   "execution_count": 136,
   "metadata": {},
   "outputs": [
    {
     "data": {
      "text/plain": [
       "array([-1.92328770e+61, -3.66405487e+77])"
      ]
     },
     "execution_count": 136,
     "metadata": {},
     "output_type": "execute_result"
    }
   ],
   "source": [
    "# Compute discrepancy between actual and estimated latents\n",
    "estimated_sizes = np.sum(samples,axis=0)\n",
    "estimated_sizes"
   ]
  },
  {
   "cell_type": "code",
   "execution_count": 137,
   "metadata": {},
   "outputs": [
    {
     "data": {
      "text/plain": [
       "array([-1.09861229, -0.40546511])"
      ]
     },
     "execution_count": 137,
     "metadata": {},
     "output_type": "execute_result"
    }
   ],
   "source": [
    "xd"
   ]
  },
  {
   "cell_type": "markdown",
   "metadata": {},
   "source": [
    "## Posterior sample scatter plot"
   ]
  },
  {
   "cell_type": "code",
   "execution_count": 138,
   "metadata": {},
   "outputs": [
    {
     "data": {
      "text/plain": [
       "(-1.6284688302730554e+76, -1.2199031482286857)"
      ]
     },
     "execution_count": 138,
     "metadata": {},
     "output_type": "execute_result"
    },
    {
     "data": {
      "image/png": "[encoded data removed]",
      "text/plain": [
       "<Figure size 720x720 with 1 Axes>"
      ]
     },
     "metadata": {},
     "output_type": "display_data"
    }
   ],
   "source": [
    "plt.figure(figsize=(10,10))\n",
    "plt.scatter(samples[:,0],samples[:,1],alpha=0.2)\n",
    "plt.scatter(xd[0],xd[1],color='red',s=100)\n",
    "plt.scatter(np.mean(samples[:,0]),np.mean(samples[:,1]),color='green',s=100)\n",
    "plt.xlabel(destinations[0])\n",
    "plt.ylabel(destinations[1])\n",
    "plt.annotate(s='True',xy=(xd[0],xd[1]))\n",
    "plt.annotate(s='Estimated',xy=(np.mean(samples[:,0]),np.mean(samples[:,1])))\n",
    "plt.xlim([np.min(samples[:,0])*(4/5), np.max(samples[:,0])*(5/4)])\n",
    "plt.ylim([np.min(samples[:,1])*(4/5), np.max(samples[:,1])*(5/4)])"
   ]
  },
  {
   "cell_type": "markdown",
   "metadata": {},
   "source": [
    "### Sample from a Normal centered around destination demands"
   ]
  },
  {
   "cell_type": "code",
   "execution_count": 85,
   "metadata": {},
   "outputs": [],
   "source": [
    "if model == 'doubly':\n",
    "    # Import destination demand\n",
    "    dest_demand = np.loadtxt(f\"../data/input/{dataset}/destination_demand.txt\")\n",
    "\n",
    "    # Sample from normal\n",
    "    baseline_latent_samples = np.random.multivariate_normal(dest_demand[:,0], 0.2*np.identity(dest_demand[:,0].shape[0]), 10000)\n",
    "    baseline_latents = np.sum(baseline_latent_samples,axis=0)\n",
    "\n",
    "    # Normalise and take logs\n",
    "    baseline_latents = np.log(baseline_latents/np.sum(baseline_latents))\n",
    "    \n",
    "    print('Naive baseline destination sizes sampled from a Normal centered around destination demand - log normalised')\n",
    "    baseline_latents"
   ]
  },
  {
   "cell_type": "code",
   "execution_count": 86,
   "metadata": {},
   "outputs": [
    {
     "name": "stdout",
     "output_type": "stream",
     "text": [
      "HMC sampled latent destination sizes - log normalised\n"
     ]
    },
    {
     "data": {
      "text/plain": [
       "array([-3992.84575066, -4498.84236433])"
      ]
     },
     "execution_count": 86,
     "metadata": {},
     "output_type": "execute_result"
    }
   ],
   "source": [
    "print('HMC sampled latent destination sizes - log normalised')\n",
    "estimated_sizes"
   ]
  },
  {
   "cell_type": "code",
   "execution_count": 95,
   "metadata": {},
   "outputs": [
    {
     "name": "stdout",
     "output_type": "stream",
     "text": [
      "Actual destination sizes log normalised\n"
     ]
    },
    {
     "data": {
      "text/plain": [
       "array([-1.09861229, -0.40546511])"
      ]
     },
     "execution_count": 95,
     "metadata": {},
     "output_type": "execute_result"
    }
   ],
   "source": [
    "print('Actual destination sizes log normalised')\n",
    "xd"
   ]
  },
  {
   "cell_type": "code",
   "execution_count": 91,
   "metadata": {},
   "outputs": [
    {
     "name": "stdout",
     "output_type": "stream",
     "text": [
      "Ratio of HMC sampled latent sizes to actual sizes\n"
     ]
    },
    {
     "data": {
      "text/plain": [
       "array([ 3634.44482812, 11095.51049983])"
      ]
     },
     "execution_count": 91,
     "metadata": {},
     "output_type": "execute_result"
    }
   ],
   "source": [
    "print(\"Ratio of HMC sampled latent sizes to actual sizes\")\n",
    "estimated_sizes/xd"
   ]
  },
  {
   "cell_type": "code",
   "execution_count": 93,
   "metadata": {},
   "outputs": [],
   "source": [
    "if model == 'doubly':\n",
    "    print(\"Ratio of baseline destination sizes to actual destination sizes\")\n",
    "    print(baseline_latents/xd)"
   ]
  },
  {
   "cell_type": "markdown",
   "metadata": {},
   "source": [
    "## Retail data"
   ]
  },
  {
   "cell_type": "code",
   "execution_count": null,
   "metadata": {},
   "outputs": [],
   "source": [
    "# Select dimension of samples to visualise \n",
    "dim = 4\n",
    "\n",
    "assert dim >= 0 and dim <= retail_latents.shape[1]"
   ]
  },
  {
   "cell_type": "code",
   "execution_count": null,
   "metadata": {},
   "outputs": [],
   "source": [
    "# Plot samples\n",
    "plt.figure(figsize=(12, 14)) \n",
    "\n",
    "ax = plt.subplot(111)    \n",
    "ax.spines[\"top\"].set_visible(False)    \n",
    "ax.spines[\"bottom\"].set_visible(False)    \n",
    "ax.spines[\"right\"].set_visible(False)\n",
    "ax.spines[\"left\"].set_visible(False)\n",
    "  \n",
    "# Ensure that the axis ticks only show up on the bottom and left of the plot.    \n",
    "# Ticks on the right and top of the plot are generally unnecessary chartjunk.    \n",
    "ax.get_xaxis().tick_top()    \n",
    "ax.get_yaxis().tick_left()    \n",
    "  \n",
    "plt.scatter(range(1,retail_latents.shape[0]+1), retail_latents[:,dim], lw=0.5, color=\"black\", alpha=0.3)    \n",
    "\n",
    "plt.show()"
   ]
  },
  {
   "cell_type": "markdown",
   "metadata": {},
   "source": [
    "# Measure discrepancy between estimated and actual latent sizes"
   ]
  },
  {
   "cell_type": "code",
   "execution_count": null,
   "metadata": {},
   "outputs": [],
   "source": [
    "# Compute discrepancy between actual and estimated latents\n",
    "retail_estimated_sizes = np.sum(retail_latents,axis=0)"
   ]
  },
  {
   "cell_type": "code",
   "execution_count": null,
   "metadata": {},
   "outputs": [],
   "source": [
    "retail_estimated_sizes"
   ]
  },
  {
   "cell_type": "code",
   "execution_count": null,
   "metadata": {},
   "outputs": [],
   "source": [
    "retail_xd0"
   ]
  },
  {
   "cell_type": "code",
   "execution_count": null,
   "metadata": {},
   "outputs": [],
   "source": [
    "retail_estimated_sizes/retail_xd0"
   ]
  }
 ],
 "metadata": {
  "kernelspec": {
   "display_name": "MRes project",
   "language": "python",
   "name": "stdm"
  },
  "language_info": {
   "codemirror_mode": {
    "name": "ipython",
    "version": 3
   },
   "file_extension": ".py",
   "mimetype": "text/x-python",
   "name": "python",
   "nbconvert_exporter": "python",
   "pygments_lexer": "ipython3",
   "version": "3.7.5"
  }
 },
 "nbformat": 4,
 "nbformat_minor": 4
}
