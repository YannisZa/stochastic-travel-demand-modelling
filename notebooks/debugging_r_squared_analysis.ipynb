{
 "cells": [
  {
   "cell_type": "code",
   "execution_count": 38,
   "metadata": {},
   "outputs": [],
   "source": [
    "import copy\n",
    "import json\n",
    "import numpy as np\n",
    "import pandas as pd\n",
    "import geopandas as gpd\n",
    "import matplotlib.pyplot as plt\n",
    "\n",
    "from tqdm import tqdm\n",
    "from scipy.special import logsumexp\n",
    "from shapely.geometry import shape\n",
    "from scipy.optimize import minimize"
   ]
  },
  {
   "cell_type": "markdown",
   "metadata": {},
   "source": [
    "# Import data"
   ]
  },
  {
   "cell_type": "code",
   "execution_count": 8,
   "metadata": {},
   "outputs": [],
   "source": [
    "# Select dataset\n",
    "dataset = \"retail\""
   ]
  },
  {
   "cell_type": "code",
   "execution_count": 9,
   "metadata": {},
   "outputs": [],
   "source": [
    "# Import relevant data\n",
    "origin_supply = np.loadtxt(f'../data/input/{dataset}/origin_supply.txt')\n",
    "initial_destination_sizes = np.loadtxt(f'../data/input/{dataset}/origin_supply.txt')\n",
    "cost_matrix = np.loadtxt(f'../data/input/{dataset}/cost_matrix.txt')\n",
    "\n",
    "N,M = cost_matrix.shape"
   ]
  },
  {
   "cell_type": "markdown",
   "metadata": {},
   "source": [
    "# Compute flows and use them to assert model results"
   ]
  },
  {
   "cell_type": "code",
   "execution_count": 10,
   "metadata": {},
   "outputs": [],
   "source": [
    "# Set parameters\n",
    "alpha = 0.02\n",
    "beta = 1.34\n",
    "_delta = 0.3\n",
    "gamma = 1#1e4\n",
    "epsilon = 1\n",
    "\n",
    "\n",
    "# Define theta\n",
    "delta = _delta/M\n",
    "kappa = 1 + _delta\n",
    "theta = [alpha,beta,delta,gamma,kappa,epsilon]\n",
    "\n",
    "# Define log sizes\n",
    "xd = np.log(initial_destination_sizes/np.sum(initial_destination_sizes))\n",
    "# Define normalised cost_matrix\n",
    "cost_matrix_normalised = cost_matrix/np.sum(cost_matrix)\n",
    "# Define normalised origin_supply\n",
    "origin_supply_normalised = origin_supply/np.sum(origin_supply)"
   ]
  },
  {
   "cell_type": "code",
   "execution_count": 27,
   "metadata": {},
   "outputs": [],
   "source": [
    "# As defined in C function\n",
    "def _logsumexp(xx):\n",
    "    _max = xx[0]\n",
    "    for j in range(M):\n",
    "        if xx[j] > _max:\n",
    "            _max = xx[j]\n",
    "\n",
    "    _sum = 0;\n",
    "    for j in range(M):\n",
    "        _sum += np.exp(xx[j] - _max);\n",
    "\n",
    "    return _max + np.log(_sum)"
   ]
  },
  {
   "cell_type": "code",
   "execution_count": 30,
   "metadata": {},
   "outputs": [],
   "source": [
    "def pot_value(x,params):\n",
    "    pot = 1\n",
    "    a = params[0]\n",
    "    b = params[1]\n",
    "    d = params[2]\n",
    "    g = params[3]\n",
    "    k = params[4]\n",
    "    e = params[5]\n",
    "    a_inv = 1./a\n",
    "    \n",
    "    grad = np.zeros(M)\n",
    "    wksp = np.zeros(M)\n",
    "    \n",
    "    utility = 0\n",
    "    for i in range(N):\n",
    "        for j in range(M):\n",
    "            wksp[j] = a*x[j] - b*cost_matrix_normalised[i,j]\n",
    "        temp = _logsumexp(wksp)\n",
    "\n",
    "        utility += -e*a_inv*origin_supply_normalised[i]*temp;\n",
    "        \n",
    "        for j in range(M):\n",
    "            grad[j] += -e*origin_supply_normalised[i]*np.exp(wksp[j]-temp)\n",
    "            \n",
    "    for j in range(M):\n",
    "        grad[j] += k*np.exp(x[j]) - d\n",
    "        grad[j] *= g\n",
    "\n",
    "        \n",
    "    # Compute cost and additional utilities\n",
    "    cost = k * np.sum(np.exp(x))\n",
    "    additional = -d * np.sum(x)\n",
    "\n",
    "    potential = g*e*(utility+cost+additional)\n",
    "        \n",
    "    return potential,grad"
   ]
  },
  {
   "cell_type": "code",
   "execution_count": 31,
   "metadata": {},
   "outputs": [
    {
     "name": "stderr",
     "output_type": "stream",
     "text": [
      "  0%|          | 0/2 [00:00<?, ?it/s]"
     ]
    },
    {
     "name": "stdout",
     "output_type": "stream",
     "text": [
      "alpha = 1.0 beta = 700000.0 delta = 0.006122448979591836 gamma = 1 kappa = 1.3 epsilon = 1\n",
      "gradient [-0.04187757 -0.018064   -0.02065708 -0.0354578  -0.01825572 -0.01474878\n",
      " -0.04075882 -0.02912634 -0.03628925 -0.01945857 -0.02373785 -0.02511214\n",
      " -0.02170729 -0.02047367 -0.0143006  -0.02842481 -0.02395669 -0.01967427\n",
      " -0.04359305 -0.01833123 -0.03933676 -0.01984871 -0.0263105  -0.01836294\n",
      " -0.02104194 -0.03157874 -0.01920425 -0.02375046 -0.02240443 -0.03178481\n",
      " -0.03253261 -0.02826137 -0.02771056 -0.03008141 -0.02199911 -0.02247814\n",
      " -0.02072452 -0.0220571  -0.01906589 -0.0195424  -0.02559621 -0.02309683\n",
      " -0.02437345 -0.02758678 -0.01814483 -0.01358945 -0.02314677 -0.01788586\n",
      " -0.02034267]\n"
     ]
    },
    {
     "name": "stderr",
     "output_type": "stream",
     "text": [
      "\n"
     ]
    },
    {
     "ename": "ValueError",
     "evalue": "0-th dimension must be fixed to 625 but got 49\n",
     "output_type": "error",
     "traceback": [
      "\u001b[0;31m---------------------------------------------------------------------------\u001b[0m",
      "\u001b[0;31mValueError\u001b[0m                                Traceback (most recent call last)",
      "\u001b[0;32m<ipython-input-31-9af4bd45e18f>\u001b[0m in \u001b[0;36m<module>\u001b[0;34m\u001b[0m\n\u001b[1;32m     17\u001b[0m         \u001b[0mprint\u001b[0m\u001b[0;34m(\u001b[0m\u001b[0;34m'alpha ='\u001b[0m\u001b[0;34m,\u001b[0m\u001b[0mtheta\u001b[0m\u001b[0;34m[\u001b[0m\u001b[0;36m0\u001b[0m\u001b[0;34m]\u001b[0m\u001b[0;34m,\u001b[0m\u001b[0;34m'beta ='\u001b[0m\u001b[0;34m,\u001b[0m\u001b[0mtheta\u001b[0m\u001b[0;34m[\u001b[0m\u001b[0;36m1\u001b[0m\u001b[0;34m]\u001b[0m\u001b[0;34m,\u001b[0m\u001b[0;34m'delta ='\u001b[0m\u001b[0;34m,\u001b[0m\u001b[0mtheta\u001b[0m\u001b[0;34m[\u001b[0m\u001b[0;36m2\u001b[0m\u001b[0;34m]\u001b[0m\u001b[0;34m,\u001b[0m\u001b[0;34m'gamma ='\u001b[0m\u001b[0;34m,\u001b[0m\u001b[0mtheta\u001b[0m\u001b[0;34m[\u001b[0m\u001b[0;36m3\u001b[0m\u001b[0;34m]\u001b[0m\u001b[0;34m,\u001b[0m\u001b[0;34m'kappa ='\u001b[0m\u001b[0;34m,\u001b[0m\u001b[0mtheta\u001b[0m\u001b[0;34m[\u001b[0m\u001b[0;36m4\u001b[0m\u001b[0;34m]\u001b[0m\u001b[0;34m,\u001b[0m\u001b[0;34m'epsilon ='\u001b[0m\u001b[0;34m,\u001b[0m\u001b[0mtheta\u001b[0m\u001b[0;34m[\u001b[0m\u001b[0;36m5\u001b[0m\u001b[0;34m]\u001b[0m\u001b[0;34m)\u001b[0m\u001b[0;34m\u001b[0m\u001b[0;34m\u001b[0m\u001b[0m\n\u001b[1;32m     18\u001b[0m         \u001b[0mprint\u001b[0m\u001b[0;34m(\u001b[0m\u001b[0;34m'gradient'\u001b[0m\u001b[0;34m,\u001b[0m\u001b[0mgradient\u001b[0m\u001b[0;34m)\u001b[0m\u001b[0;34m\u001b[0m\u001b[0;34m\u001b[0m\u001b[0m\n\u001b[0;32m---> 19\u001b[0;31m         \u001b[0mw_pred\u001b[0m \u001b[0;34m=\u001b[0m \u001b[0mnp\u001b[0m\u001b[0;34m.\u001b[0m\u001b[0mexp\u001b[0m\u001b[0;34m(\u001b[0m\u001b[0mminimize\u001b[0m\u001b[0;34m(\u001b[0m\u001b[0mpot_value\u001b[0m\u001b[0;34m,\u001b[0m \u001b[0mxd\u001b[0m\u001b[0;34m,\u001b[0m \u001b[0mmethod\u001b[0m\u001b[0;34m=\u001b[0m\u001b[0;34m'L-BFGS-B'\u001b[0m\u001b[0;34m,\u001b[0m \u001b[0mjac\u001b[0m\u001b[0;34m=\u001b[0m\u001b[0;32mTrue\u001b[0m\u001b[0;34m,\u001b[0m \u001b[0margs\u001b[0m\u001b[0;34m=\u001b[0m\u001b[0;34m(\u001b[0m\u001b[0mtheta\u001b[0m\u001b[0;34m)\u001b[0m\u001b[0;34m,\u001b[0m \u001b[0moptions\u001b[0m\u001b[0;34m=\u001b[0m\u001b[0;34m{\u001b[0m\u001b[0;34m'disp'\u001b[0m\u001b[0;34m:\u001b[0m \u001b[0;32mFalse\u001b[0m\u001b[0;34m}\u001b[0m\u001b[0;34m)\u001b[0m\u001b[0;34m.\u001b[0m\u001b[0mx\u001b[0m\u001b[0;34m)\u001b[0m\u001b[0;34m\u001b[0m\u001b[0;34m\u001b[0m\u001b[0m\n\u001b[0m\u001b[1;32m     20\u001b[0m         \u001b[0mpotentials\u001b[0m\u001b[0;34m[\u001b[0m\u001b[0mi\u001b[0m\u001b[0;34m,\u001b[0m\u001b[0mj\u001b[0m\u001b[0;34m]\u001b[0m \u001b[0;34m=\u001b[0m \u001b[0mpotential\u001b[0m\u001b[0;34m\u001b[0m\u001b[0;34m\u001b[0m\u001b[0m\n",
      "\u001b[0;32m~/.pyenv/versions/stdm/lib/python3.7/site-packages/scipy/optimize/_minimize.py\u001b[0m in \u001b[0;36mminimize\u001b[0;34m(fun, x0, args, method, jac, hess, hessp, bounds, constraints, tol, callback, options)\u001b[0m\n\u001b[1;32m    608\u001b[0m     \u001b[0;32melif\u001b[0m \u001b[0mmeth\u001b[0m \u001b[0;34m==\u001b[0m \u001b[0;34m'l-bfgs-b'\u001b[0m\u001b[0;34m:\u001b[0m\u001b[0;34m\u001b[0m\u001b[0;34m\u001b[0m\u001b[0m\n\u001b[1;32m    609\u001b[0m         return _minimize_lbfgsb(fun, x0, args, jac, bounds,\n\u001b[0;32m--> 610\u001b[0;31m                                 callback=callback, **options)\n\u001b[0m\u001b[1;32m    611\u001b[0m     \u001b[0;32melif\u001b[0m \u001b[0mmeth\u001b[0m \u001b[0;34m==\u001b[0m \u001b[0;34m'tnc'\u001b[0m\u001b[0;34m:\u001b[0m\u001b[0;34m\u001b[0m\u001b[0;34m\u001b[0m\u001b[0m\n\u001b[1;32m    612\u001b[0m         return _minimize_tnc(fun, x0, args, jac, bounds, callback=callback,\n",
      "\u001b[0;32m~/.pyenv/versions/stdm/lib/python3.7/site-packages/scipy/optimize/lbfgsb.py\u001b[0m in \u001b[0;36m_minimize_lbfgsb\u001b[0;34m(fun, x0, args, jac, bounds, disp, maxcor, ftol, gtol, eps, maxfun, maxiter, iprint, callback, maxls, **unknown_options)\u001b[0m\n\u001b[1;32m    336\u001b[0m         _lbfgsb.setulb(m, x, low_bnd, upper_bnd, nbd, f, g, factr,\n\u001b[1;32m    337\u001b[0m                        \u001b[0mpgtol\u001b[0m\u001b[0;34m,\u001b[0m \u001b[0mwa\u001b[0m\u001b[0;34m,\u001b[0m \u001b[0miwa\u001b[0m\u001b[0;34m,\u001b[0m \u001b[0mtask\u001b[0m\u001b[0;34m,\u001b[0m \u001b[0miprint\u001b[0m\u001b[0;34m,\u001b[0m \u001b[0mcsave\u001b[0m\u001b[0;34m,\u001b[0m \u001b[0mlsave\u001b[0m\u001b[0;34m,\u001b[0m\u001b[0;34m\u001b[0m\u001b[0;34m\u001b[0m\u001b[0m\n\u001b[0;32m--> 338\u001b[0;31m                        isave, dsave, maxls)\n\u001b[0m\u001b[1;32m    339\u001b[0m         \u001b[0mtask_str\u001b[0m \u001b[0;34m=\u001b[0m \u001b[0mtask\u001b[0m\u001b[0;34m.\u001b[0m\u001b[0mtostring\u001b[0m\u001b[0;34m(\u001b[0m\u001b[0;34m)\u001b[0m\u001b[0;34m\u001b[0m\u001b[0;34m\u001b[0m\u001b[0m\n\u001b[1;32m    340\u001b[0m         \u001b[0;32mif\u001b[0m \u001b[0mtask_str\u001b[0m\u001b[0;34m.\u001b[0m\u001b[0mstartswith\u001b[0m\u001b[0;34m(\u001b[0m\u001b[0;34mb'FG'\u001b[0m\u001b[0;34m)\u001b[0m\u001b[0;34m:\u001b[0m\u001b[0;34m\u001b[0m\u001b[0;34m\u001b[0m\u001b[0m\n",
      "\u001b[0;31mValueError\u001b[0m: 0-th dimension must be fixed to 625 but got 49\n"
     ]
    }
   ],
   "source": [
    "# Set grid size\n",
    "grid_n = 2\n",
    "amin,amax = (0,2)\n",
    "bmin,bmax = (0,1.4e6)\n",
    "potentials = np.zeros((grid_n,grid_n))\n",
    "\n",
    "# Loop and find potential function value for given alphas and betas\n",
    "alpha_values = np.linspace(amin, amax, grid_n+1)[1:]\n",
    "beta_values = np.linspace(bmin, bmax, grid_n+1)[1:]\n",
    "\n",
    "for i in tqdm(range(grid_n)):\n",
    "    for j in range(grid_n):\n",
    "        theta[0] = alpha_values[i]\n",
    "        theta[1] = beta_values[j]\n",
    "        potential,gradient = pot_value(xd,theta)\n",
    "        \n",
    "        print('alpha =',theta[0],'beta =',theta[1],'delta =',theta[2],'gamma =',theta[3],'kappa =',theta[4],'epsilon =',theta[5])\n",
    "        print('gradient',gradient)\n",
    "        w_pred = np.exp(minimize(pot_value, xd, method='L-BFGS-B', jac=True, args=(theta), options={'disp': False}).x)\n",
    "        potentials[i,j] = potential"
   ]
  },
  {
   "cell_type": "markdown",
   "metadata": {},
   "source": [
    "# Visualise $R^2$"
   ]
  },
  {
   "cell_type": "markdown",
   "metadata": {},
   "source": [
    "## Commuter borough"
   ]
  },
  {
   "cell_type": "code",
   "execution_count": 36,
   "metadata": {},
   "outputs": [
    {
     "name": "stdout",
     "output_type": "stream",
     "text": [
      "Fitted alpha and beta values:\n",
      "1.08 0.08 0.5052418847038942\n"
     ]
    }
   ],
   "source": [
    "r2_values = np.loadtxt('../data/output/commuter_borough/inverse_problem/singly_rsquared_analysis_100.txt')\n",
    "with open('../data/output/commuter_borough/inverse_problem/figures/singly_rsquared_analysis_gamma_100_parameters.json') as json_file:\n",
    "    metadata = json.load(json_file)\n",
    "grid_n = metadata['grid_size']\n",
    "amin = metadata['amin']\n",
    "amax = metadata['amax']\n",
    "bmin = metadata['bmin']\n",
    "bmax = metadata['bmax']\n",
    "alpha_values = np.linspace(amin, amax, grid_n+1)[1:]\n",
    "beta_values = np.linspace(bmin, bmax, grid_n+1)[1:]\n",
    "XX, YY = np.meshgrid(alpha_values, beta_values)\n",
    "\n",
    "idx = np.unravel_index(r2_values.argmax(), r2_values.shape)\n",
    "print(\"Fitted alpha and beta values:\")\n",
    "print(XX[idx], YY[idx]*amax/bmax, r2_values[idx])"
   ]
  },
  {
   "cell_type": "code",
   "execution_count": 37,
   "metadata": {},
   "outputs": [
    {
     "data": {
      "image/png": "[encoded data removed]",
      "text/plain": [
       "<Figure size 640x640 with 2 Axes>"
      ]
     },
     "metadata": {},
     "output_type": "display_data"
    }
   ],
   "source": [
    "plt.style.use('classic')\n",
    "fig = plt.figure(figsize=(8,8))\n",
    "fig.tight_layout(pad=0.5)\n",
    "plt.pcolor(XX, YY*amax/bmax, r2_values)\n",
    "plt.xlim([np.min(XX), np.max(XX)])\n",
    "plt.ylim([np.min(YY)*amax/bmax, np.max(YY)*amax/bmax])\n",
    "plt.colorbar()\n",
    "plt.savefig('../data/output/commuter_borough/inverse_problem/figures/singly_rsquared_analysis_gamma_100.png')"
   ]
  },
  {
   "cell_type": "code",
   "execution_count": null,
   "metadata": {},
   "outputs": [],
   "source": []
  }
 ],
 "metadata": {
  "kernelspec": {
   "display_name": "MRes project",
   "language": "python",
   "name": "stdm"
  },
  "language_info": {
   "codemirror_mode": {
    "name": "ipython",
    "version": 3
   },
   "file_extension": ".py",
   "mimetype": "text/x-python",
   "name": "python",
   "nbconvert_exporter": "python",
   "pygments_lexer": "ipython3",
   "version": "3.7.5"
  }
 },
 "nbformat": 4,
 "nbformat_minor": 4
}
