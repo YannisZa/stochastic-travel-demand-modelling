{
 "cells": [
  {
   "cell_type": "code",
   "execution_count": 51,
   "metadata": {},
   "outputs": [],
   "source": [
    "import copy\n",
    "import json\n",
    "import numpy as np\n",
    "import pandas as pd\n",
    "import geopandas as gpd\n",
    "import matplotlib.pyplot as plt\n",
    "\n",
    "from tqdm import tqdm\n",
    "from scipy.special import logsumexp\n",
    "from shapely.geometry import shape\n",
    "from scipy.optimize import minimize"
   ]
  },
  {
   "cell_type": "markdown",
   "metadata": {},
   "source": [
    "# Import data"
   ]
  },
  {
   "cell_type": "code",
   "execution_count": 52,
   "metadata": {},
   "outputs": [],
   "source": [
    "# Select dataset\n",
    "dataset = \"synthetic\""
   ]
  },
  {
   "cell_type": "code",
   "execution_count": 53,
   "metadata": {},
   "outputs": [],
   "source": [
    "# Import relevant data\n",
    "origin_supply = np.loadtxt(f'../data/input/{dataset}/origin_supply.txt')\n",
    "initial_destination_sizes = np.loadtxt(f'../data/input/{dataset}/initial_destination_sizes.txt')\n",
    "cost_matrix = np.loadtxt(f'../data/input/{dataset}/cost_matrix.txt')\n",
    "\n",
    "N,M = cost_matrix.shape"
   ]
  },
  {
   "cell_type": "code",
   "execution_count": 54,
   "metadata": {},
   "outputs": [],
   "source": [
    "# Define log sizes\n",
    "xd = np.log(initial_destination_sizes/np.sum(initial_destination_sizes))\n",
    "# Define normalised cost_matrix\n",
    "c = cost_matrix/np.sum(cost_matrix)\n",
    "# Define normalised origin_supply\n",
    "o = origin_supply/np.sum(origin_supply)"
   ]
  },
  {
   "cell_type": "markdown",
   "metadata": {},
   "source": [
    "# Compute flows and use them to assert model results"
   ]
  },
  {
   "cell_type": "code",
   "execution_count": 55,
   "metadata": {},
   "outputs": [],
   "source": [
    "# Set parameters\n",
    "alpha = 0.02\n",
    "beta = 1.34\n",
    "_delta = 0.3\n",
    "gamma = 1#1e4\n",
    "epsilon = 1\n",
    "\n",
    "\n",
    "# Define theta\n",
    "delta = _delta/M\n",
    "kappa = 1 + _delta\n",
    "theta = [alpha,beta,delta,gamma,kappa,epsilon]"
   ]
  },
  {
   "cell_type": "code",
   "execution_count": 56,
   "metadata": {},
   "outputs": [],
   "source": [
    "# As defined in C function\n",
    "def _logsumexp(xx):\n",
    "    _max = xx[0]\n",
    "    for j in range(M):\n",
    "        if xx[j] > _max:\n",
    "            _max = xx[j]\n",
    "\n",
    "    _sum = 0;\n",
    "    for j in range(M):\n",
    "        _sum += np.exp(xx[j] - _max);\n",
    "\n",
    "    return _max + np.log(_sum)"
   ]
  },
  {
   "cell_type": "code",
   "execution_count": 57,
   "metadata": {},
   "outputs": [],
   "source": [
    "def pot_value(x,params):\n",
    "    pot = 1\n",
    "    a = params[0]\n",
    "    b = params[1]\n",
    "    d = params[2]\n",
    "    g = params[3]\n",
    "    k = params[4]\n",
    "    e = params[5]\n",
    "    a_inv = 1./a\n",
    "    \n",
    "    grad = np.zeros(M)\n",
    "    wksp = np.zeros(M)\n",
    "    \n",
    "    utility = 0\n",
    "    for i in range(N):\n",
    "        for j in range(M):\n",
    "            wksp[j] = a*x[j] - b*cost_matrix_normalised[i,j]\n",
    "        temp = _logsumexp(wksp)\n",
    "\n",
    "        utility += -e*a_inv*origin_supply_normalised[i]*temp;\n",
    "        \n",
    "        for j in range(M):\n",
    "            grad[j] += -e*origin_supply_normalised[i]*np.exp(wksp[j]-temp)\n",
    "            \n",
    "    for j in range(M):\n",
    "        grad[j] += k*np.exp(x[j]) - d\n",
    "        grad[j] *= g\n",
    "\n",
    "        \n",
    "    # Compute cost and additional utilities\n",
    "    cost = k * np.sum(np.exp(x))\n",
    "    additional = -d * np.sum(x)\n",
    "\n",
    "    potential = g*e*(utility+cost+additional)\n",
    "        \n",
    "    return potential,grad"
   ]
  },
  {
   "cell_type": "code",
   "execution_count": 89,
   "metadata": {
    "scrolled": true
   },
   "outputs": [
    {
     "name": "stderr",
     "output_type": "stream",
     "text": [
      "100%|██████████| 100/100 [00:14<00:00,  7.10it/s]\n"
     ]
    }
   ],
   "source": [
    "# Set grid size\n",
    "grid_n = 100\n",
    "amin,amax = (0,2)\n",
    "bmin,bmax = (0,100)\n",
    "potentials = np.zeros((grid_n,grid_n))\n",
    "r2_values = np.zeros((grid_n, grid_n))\n",
    "\n",
    "# Loop and find potential function value for given alphas and betas\n",
    "alpha_values = np.linspace(amin, amax, grid_n+1)[1:]\n",
    "beta_values = np.linspace(bmin, bmax, grid_n+1)[1:]\n",
    "XX, YY = np.meshgrid(alpha_values, beta_values)\n",
    "\n",
    "# Total sum squares\n",
    "w_data = np.exp(xd)\n",
    "w_data_centred = w_data - np.mean(w_data)\n",
    "ss_tot = np.dot(w_data_centred, w_data_centred)\n",
    "\n",
    "for i in tqdm(range(grid_n)):\n",
    "    for j in range(grid_n):\n",
    "        theta[0] = XX[i, j]\n",
    "        theta[1] = YY[i, j]\n",
    "        try:\n",
    "            potential,gradient = pot_value(xd,theta)\n",
    "\n",
    "    #         print('alpha =',theta[0],'beta =',theta[1],'delta =',theta[2],'gamma =',theta[3],'kappa =',theta[4],'epsilon =',theta[5])\n",
    "    #         print('gradient',gradient)\n",
    "            w_pred = np.exp(minimize(pot_value, xd, method='L-BFGS-B', jac=True, args=(theta), options={'disp': False}).x)\n",
    "\n",
    "#             print(w_pred)\n",
    "            res = w_pred - w_data\n",
    "            ss_res = np.dot(res, res)\n",
    "\n",
    "            # Regression sum squares\n",
    "            r2_values[i, j] = 1. - ss_res/ss_tot\n",
    "\n",
    "        except:\n",
    "            continue\n",
    "\n",
    "        # If minimize fails set value to previous, otherwise update previous\n",
    "        if r2_values[i, j] == 0:\n",
    "            r2_values[i, j] = last_r2\n",
    "            potentials[i, j] = pot_value(np.log(w_pred),theta)[0]\n",
    "        else:\n",
    "            last_r2 = r2_values[i, j]\n",
    "            last_potential = potentials[i, j]"
   ]
  },
  {
   "cell_type": "code",
   "execution_count": 93,
   "metadata": {},
   "outputs": [
    {
     "name": "stdout",
     "output_type": "stream",
     "text": [
      "Fitted alpha and beta values:\n",
      "1.98 0.08\n",
      "R^2 and potential value:\n",
      "1.0 0.0\n"
     ]
    }
   ],
   "source": [
    "idx = np.unravel_index(r2_values.argmax(), r2_values.shape)\n",
    "\n",
    "print(\"Fitted alpha and beta values:\")\n",
    "print(XX[idx], YY[idx]*amax/(bmax))\n",
    "print(\"R^2 and potential value:\")\n",
    "print(r2_values[idx],potentials[idx])"
   ]
  },
  {
   "cell_type": "markdown",
   "metadata": {},
   "source": [
    "# Visualise $R^2$"
   ]
  },
  {
   "cell_type": "markdown",
   "metadata": {},
   "source": [
    "## Commuter borough"
   ]
  },
  {
   "cell_type": "code",
   "execution_count": 92,
   "metadata": {},
   "outputs": [
    {
     "data": {
      "text/plain": [
       "<matplotlib.colorbar.Colorbar at 0x11d2b7d90>"
      ]
     },
     "execution_count": 92,
     "metadata": {},
     "output_type": "execute_result"
    },
    {
     "data": {
      "image/png": "[encoded data removed]",
      "text/plain": [
       "<Figure size 640x640 with 2 Axes>"
      ]
     },
     "metadata": {},
     "output_type": "display_data"
    }
   ],
   "source": [
    "plt.style.use('classic')\n",
    "fig = plt.figure(figsize=(8,8))\n",
    "fig.tight_layout(pad=0.5)\n",
    "plt.pcolor(XX, YY*amax/bmax, r2_values)\n",
    "plt.xlim([np.min(XX), np.max(XX)])\n",
    "plt.ylim([np.min(YY)*amax/bmax, np.max(YY)*amax/bmax])\n",
    "plt.colorbar()"
   ]
  },
  {
   "cell_type": "markdown",
   "metadata": {},
   "source": [
    "# Compute flows"
   ]
  },
  {
   "cell_type": "code",
   "execution_count": 107,
   "metadata": {},
   "outputs": [],
   "source": [
    "# Initialise flows\n",
    "T = np.zeros((N,M))\n",
    "That = np.zeros((N,M))\n",
    "\n",
    "# Read optimal parameters\n",
    "with open(f'../data/output/{dataset}/inverse_problem/figures/singly_rsquared_analysis_gamma_100_parameters.json') as json_file:\n",
    "    params = json.load(json_file)\n",
    "    \n",
    "alpha = params['fitted_alpha']\n",
    "beta = params['fitted_beta']*(params['bmax']/params['amax'])\n",
    "\n",
    "# Update parameters to fitted values\n",
    "theta[0] = alpha\n",
    "theta[1] = beta\n",
    "\n",
    "# Get best predictions\n",
    "what = np.exp(minimize(pot_value, xd, method='L-BFGS-B', jac=True, args=(theta), options={'disp': False}).x)\n",
    "xhat = np.log(w_pred)"
   ]
  },
  {
   "cell_type": "code",
   "execution_count": 108,
   "metadata": {},
   "outputs": [],
   "source": [
    "# Construct flow matrix\n",
    "for i in range(N):\n",
    "    for j in range(M):\n",
    "        _sum = 0\n",
    "        _sum_hat = 0 \n",
    "        for jj in range(M):\n",
    "            _sum += np.exp(alpha*xd[j]-beta*c[i,jj])\n",
    "            _sum_hat += np.exp(alpha*xhat[j]-beta*c[i,jj])\n",
    "            \n",
    "        T[i,j] = o[i]*np.exp(alpha*xd[j]-beta*c[i,j]) / _sum\n",
    "        \n",
    "        That[i,j] = o[i]*np.exp(alpha*xhat[j]-beta*c[i,j]) / _sum_hat\n",
    "        "
   ]
  },
  {
   "cell_type": "code",
   "execution_count": 109,
   "metadata": {},
   "outputs": [
    {
     "data": {
      "text/plain": [
       "array([[0.20310585, 0.13022749],\n",
       "       [0.20310585, 0.13022749],\n",
       "       [0.20310585, 0.13022749]])"
      ]
     },
     "execution_count": 109,
     "metadata": {},
     "output_type": "execute_result"
    }
   ],
   "source": [
    "T"
   ]
  },
  {
   "cell_type": "code",
   "execution_count": 110,
   "metadata": {},
   "outputs": [
    {
     "data": {
      "text/plain": [
       "array([[0.20310585, 0.13022749],\n",
       "       [0.20310585, 0.13022749],\n",
       "       [0.20310585, 0.13022749]])"
      ]
     },
     "execution_count": 110,
     "metadata": {},
     "output_type": "execute_result"
    }
   ],
   "source": [
    "That"
   ]
  },
  {
   "cell_type": "code",
   "execution_count": 117,
   "metadata": {},
   "outputs": [
    {
     "data": {
      "text/plain": [
       "1.98"
      ]
     },
     "execution_count": 117,
     "metadata": {},
     "output_type": "execute_result"
    }
   ],
   "source": [
    "alpha"
   ]
  },
  {
   "cell_type": "code",
   "execution_count": 116,
   "metadata": {},
   "outputs": [
    {
     "data": {
      "text/plain": [
       "4.0"
      ]
     },
     "execution_count": 116,
     "metadata": {},
     "output_type": "execute_result"
    }
   ],
   "source": [
    "beta"
   ]
  },
  {
   "cell_type": "code",
   "execution_count": 113,
   "metadata": {},
   "outputs": [
    {
     "data": {
      "text/plain": [
       "array([-1.09861229, -0.40546511])"
      ]
     },
     "execution_count": 113,
     "metadata": {},
     "output_type": "execute_result"
    }
   ],
   "source": [
    "xd"
   ]
  },
  {
   "cell_type": "code",
   "execution_count": 114,
   "metadata": {},
   "outputs": [
    {
     "data": {
      "text/plain": [
       "array([-1.09861229, -0.40546511])"
      ]
     },
     "execution_count": 114,
     "metadata": {},
     "output_type": "execute_result"
    }
   ],
   "source": [
    "xhat"
   ]
  }
 ],
 "metadata": {
  "kernelspec": {
   "display_name": "MRes project",
   "language": "python",
   "name": "stdm"
  },
  "language_info": {
   "codemirror_mode": {
    "name": "ipython",
    "version": 3
   },
   "file_extension": ".py",
   "mimetype": "text/x-python",
   "name": "python",
   "nbconvert_exporter": "python",
   "pygments_lexer": "ipython3",
   "version": "3.7.5"
  }
 },
 "nbformat": 4,
 "nbformat_minor": 4
}
