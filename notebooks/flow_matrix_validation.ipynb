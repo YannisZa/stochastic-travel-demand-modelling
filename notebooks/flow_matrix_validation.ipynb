{
 "cells": [
  {
   "cell_type": "code",
   "execution_count": 141,
   "metadata": {},
   "outputs": [
    {
     "name": "stderr",
     "output_type": "stream",
     "text": [
      "/Users/Yannis/.pyenv/versions/3.7.5/lib/python3.7/_collections_abc.py:841: MatplotlibDeprecationWarning: \n",
      "The text.latex.unicode rcparam was deprecated in Matplotlib 3.0 and will be removed in 3.2.\n",
      "  self[key] = other[key]\n"
     ]
    }
   ],
   "source": [
    "import os\n",
    "import sys\n",
    "import copy\n",
    "import json\n",
    "import pysal\n",
    "import numpy as np\n",
    "import pandas as pd\n",
    "import seaborn as sns\n",
    "import geopandas as gpd\n",
    "import matplotlib.pyplot as plt\n",
    "\n",
    "from tqdm import tqdm\n",
    "from scipy.special import logsumexp\n",
    "from shapely.geometry import shape\n",
    "from scipy.optimize import minimize\n",
    "\n",
    "#Direct input \n",
    "plt.rcParams['text.latex.preamble']=[r\"\\usepackage{lmodern}\"]\n",
    "#Options\n",
    "params = {'text.usetex' : True,\n",
    "          'font.size' : 20,\n",
    "          'legend.fontsize': 20,\n",
    "          'legend.handlelength': 2,\n",
    "          'font.family' : 'sans-serif',\n",
    "          'font.sans-serif':['Helvetica'],\n",
    "          'text.latex.unicode': True,\n",
    "          }\n",
    "plt.rcParams.update(params) \n",
    "\n",
    "cwd = os.getcwd()\n",
    "rd = os.path.join(cwd.split('stochastic-travel-demand-modelling/', 1)[0])\n",
    "if not rd.endswith('stochastic-travel-demand-modelling'):\n",
    "    rd = os.path.join(cwd.split('stochastic-travel-demand-modelling/', 1)[0],'stochastic-travel-demand-modelling')\n",
    "\n",
    "if rd not in sys.path:\n",
    "    sys.path.append(rd)\n",
    "\n",
    "from models.doubly_constrained.spatial_interaction_model import SpatialInteraction as DSIM"
   ]
  },
  {
   "cell_type": "markdown",
   "metadata": {},
   "source": [
    "# Import data"
   ]
  },
  {
   "cell_type": "code",
   "execution_count": 2,
   "metadata": {},
   "outputs": [],
   "source": [
    "# Select dataset\n",
    "dataset = \"commuter_ward\" #\"synthetic\"\n",
    "constrained = 'singly'\n",
    "gamma = 100\n",
    "\n",
    "# Cost matrix file\n",
    "cm = ''\n",
    "\n",
    "cost_matrix_file_extension = ''\n",
    "if cm == 'sn':\n",
    "    cost_matrix_file_extension = '_small_network'\n",
    "\n",
    "filename = f\"{constrained}_rsquared_estimated_flows_gamma_{str(gamma)}\""
   ]
  },
  {
   "cell_type": "code",
   "execution_count": 3,
   "metadata": {},
   "outputs": [],
   "source": [
    "# Import relevant data\n",
    "origin_supply = np.loadtxt(f'../data/input/{dataset}/origin_supply.txt')\n",
    "borough_origin_supply = np.loadtxt(f'../data/input/{dataset}/origin_supply_borough.txt')\n",
    "initial_destination_sizes = np.loadtxt(f'../data/input/{dataset}/initial_destination_sizes.txt')\n",
    "naive_cost_matrix = np.loadtxt(f'../data/input/{dataset}/cost_matrix.txt')\n",
    "informative_cost_matrix = np.loadtxt(f'../data/input/{dataset}/cost_matrix_small_network.txt')\n",
    "wards = np.loadtxt(f'../data/input/{dataset}/origins.txt',dtype='str')\n",
    "boroughs = np.loadtxt(f'../data/input/{dataset}/destinations.txt',dtype='str')\n",
    "naive_cost_matrix_borough = np.loadtxt('../data/input/commuter_ward/cost_matrix_borough.txt')\n",
    "informative_cost_matrix_borough = np.loadtxt('../data/input/commuter_ward/cost_matrix_small_network_borough.txt')\n",
    "\n",
    "# Normalse data\n",
    "o = origin_supply/np.sum(origin_supply)\n",
    "ob = borough_origin_supply/np.sum(borough_origin_supply)\n",
    "xd = np.log(initial_destination_sizes/np.sum(initial_destination_sizes))\n",
    "wd = np.exp(xd)\n",
    "cn = naive_cost_matrix/np.sum(naive_cost_matrix)\n",
    "ci = informative_cost_matrix/np.sum(informative_cost_matrix)\n",
    "cib = informative_cost_matrix_borough/np.sum(informative_cost_matrix_borough)\n",
    "cnb = naive_cost_matrix_borough/np.sum(naive_cost_matrix_borough)\n",
    "\n",
    "# Import actual and estimated matrix\n",
    "actual_matrix = np.loadtxt(f'../data/validation/commuter/borough_od_matrix.txt')\n",
    "t = actual_matrix/np.sum(actual_matrix)\n",
    "\n",
    "N,M = naive_cost_matrix.shape"
   ]
  },
  {
   "cell_type": "code",
   "execution_count": 127,
   "metadata": {},
   "outputs": [],
   "source": [
    "gamma = -1\n",
    "delta = 0.01178781925343811\n",
    "kappa = 1 + delta*M\n",
    "epsilon = 1\n",
    "theta = np.array([-1,-1,delta,gamma,kappa,epsilon])"
   ]
  },
  {
   "cell_type": "markdown",
   "metadata": {},
   "source": [
    "# Visualise matrices\n",
    "\n",
    "## Actual flow matrix - borough level"
   ]
  },
  {
   "cell_type": "code",
   "execution_count": 4,
   "metadata": {},
   "outputs": [],
   "source": [
    "# # Change font scaling\n",
    "# sns.set(font_scale=1)\n",
    "# # Set plot size\n",
    "# plt.figure(figsize=(20,20))\n",
    "# # Add heatmap\n",
    "# flow_heatmap = sns.heatmap(estimated_matrix,\n",
    "#                             annot=True,\n",
    "#                             cmap=\"coolwarm\",\n",
    "#                             fmt='d',\n",
    "#                             xticklabels=destinations,\n",
    "#                             yticklabels=origins)\n",
    "# # Add x,y axes labels\n",
    "# plt.xlabel(\"Destination\",fontsize=18)\n",
    "# plt.ylabel(\"Origin\",fontsize=18)\n",
    "# # Add title\n",
    "# plt.title('{} origin destination flows of {} data'.format(method.title().replace('_',' '),dataset), fontsize=18)\n",
    "# # Increase tick font size\n",
    "# plt.tick_params(labelsize=16)\n",
    "\n",
    "# # Save figure to output\n",
    "# plt.savefig('../data/output/{}/{}/figures/{}.png'.format(dataset,method.lower(),filename))"
   ]
  },
  {
   "cell_type": "code",
   "execution_count": 5,
   "metadata": {},
   "outputs": [],
   "source": [
    "# # Change font scaling\n",
    "# sns.set(font_scale=1)\n",
    "# # Set plot size\n",
    "# plt.figure(figsize=(20,20))\n",
    "# # Add heatmap\n",
    "# flow_heatmap = sns.heatmap(t,\n",
    "#                             annot=True,\n",
    "#                             cmap=\"coolwarm\",\n",
    "#                             xticklabels=boroughs,\n",
    "#                             yticklabels=boroughs)\n",
    "# # Add x,y axes labels\n",
    "# plt.xlabel(\"Destination\",fontsize=18)\n",
    "# plt.ylabel(\"Origin\",fontsize=18)\n",
    "# # Add title\n",
    "# plt.title(f'Origin demand flows of {dataset} data', fontsize=18)\n",
    "# # Increase tick font size\n",
    "# plt.tick_params(labelsize=8)"
   ]
  },
  {
   "cell_type": "markdown",
   "metadata": {},
   "source": [
    "# Necessary functions"
   ]
  },
  {
   "cell_type": "code",
   "execution_count": 6,
   "metadata": {},
   "outputs": [],
   "source": [
    "def SRMSE(t_hat:np.array,t_actual:np.array):\n",
    "    \"\"\" Computes standardised root mean square error. See equation (22) of\n",
    "    \"A primer for working with the Spatial Interaction modeling (SpInt) module\n",
    "    in the python spatial analysis library (PySAL)\" for more details.\n",
    "\n",
    "    Parameters\n",
    "    ----------\n",
    "    t_hat : np.array [NxM]\n",
    "        Estimated flows.\n",
    "    t_actual : np.array [NxM]\n",
    "        Actual flows.\n",
    "\n",
    "    Returns\n",
    "    -------\n",
    "    float\n",
    "        Standardised root mean square error of t_hat.\n",
    "\n",
    "    \"\"\"\n",
    "    if t_actual.shape[0] != t_hat.shape[0]:\n",
    "        raise ValueError(f'Actual flows have {t_actual.shape[0]} rows whereas \\hat{T} has {t_hat.shape[0]}.')\n",
    "    if t_actual.shape[1] != t_hat.shape[1]:\n",
    "        raise ValueError(f'Actual flows have {t_actual.shape[1]} columns whereas \\hat{T} has {t_hat.shape[1]}.')\n",
    "\n",
    "    n,m = t_actual.shape\n",
    "    \n",
    "    return ((np.sum((t_actual - t_hat)**2) / (n*m))**.5) / (np.sum(t_actual) / (n*m))\n"
   ]
  },
  {
   "cell_type": "code",
   "execution_count": 7,
   "metadata": {},
   "outputs": [],
   "source": [
    "# def SSI(t_hat:np.array,t_actual:np.array):\n",
    "#     \"\"\" Computes Sorensen similarity index (SSI). See equation (23) of\n",
    "#     \"A primer for working with the Spatial Interaction modeling (SpInt) module\n",
    "#     in the python spatial analysis library (PySAL)\" for more details.\n",
    "\n",
    "#     Parameters\n",
    "#     ----------\n",
    "#     t_hat : np.array [NxM]\n",
    "#         Estimated flows.\n",
    "#     t_actual : np.array [NxM]\n",
    "#         Actual flows.\n",
    "\n",
    "#     Returns\n",
    "#     -------\n",
    "#     float\n",
    "#         Standardised root mean square error of t_hat.\n",
    "\n",
    "#     \"\"\"\n",
    "#     if t_actual.shape[0] != t_hat.shape[0]:\n",
    "#         raise ValueError(f'Actual flows have {t_actual.shape[0]} rows whereas \\hat{T} has {t_hat.shape[0]}.')\n",
    "#     if t_actual.shape[1] != t_hat.shape[1]:\n",
    "#         raise ValueError(f'Actual flows have {t_actual.shape[1]} columns whereas \\hat{T} has {t_hat.shape[1]}.')\n",
    "\n",
    "#     n,m = t_actual.shape\n",
    "    \n",
    "#     TThat = np.hstack([t_actual, t_hat])\n",
    "#     num = 2.0 * np.min(TThat, axis=1)\n",
    "#     den = t_hat + t_actual\n",
    "#     return (1.0 / n) * (np.sum(num.reshape((-1, 1)) / den.reshape((-1, 1))))\n"
   ]
  },
  {
   "cell_type": "code",
   "execution_count": 8,
   "metadata": {},
   "outputs": [],
   "source": [
    "def reshape_data(f,origin_sup,dest_size,cost_mat):\n",
    "    od_data = pd.DataFrame(columns=['Origin','Destination','Cost','Flow','OriginSupply','DestinationSize'])\n",
    "    # Loop over origins and destinations to populate dataframe\n",
    "    for i,orig in tqdm(enumerate(boroughs),total=len(boroughs)):\n",
    "        for j,dest in enumerate(boroughs):\n",
    "            # Add row properties\n",
    "            new_row = pd.Series({\"Origin\": orig,\n",
    "                                 \"Destination\": dest,\n",
    "                                 \"Cost\": cost_mat[i,j],\n",
    "                                 \"Flow\": f[i,j],\n",
    "                                 \"OriginSupply\": origin_sup[i],\n",
    "                                 \"DestinationSize\":dest_size[j]})\n",
    "            # Append row to dataframe\n",
    "            od_data = od_data.append(new_row, ignore_index=True)\n",
    "\n",
    "    # Get flatten data and et column types appropriately\n",
    "    orig_supply_flat = od_data.OriginSupply.values.astype('float64')\n",
    "    dest_size_flat = od_data.DestinationSize.values.astype('float64')\n",
    "    cost_flat = od_data.Cost.values.astype('float64')\n",
    "    flow = od_data.Flow.values.astype('float64')\n",
    "    \n",
    "    return flow,orig_supply_flat,dest_size_flat,cost_flat\n"
   ]
  },
  {
   "cell_type": "markdown",
   "metadata": {},
   "source": [
    "# Poisson regression"
   ]
  },
  {
   "cell_type": "markdown",
   "metadata": {},
   "source": [
    "## Naive cost matrix"
   ]
  },
  {
   "cell_type": "code",
   "execution_count": 128,
   "metadata": {},
   "outputs": [
    {
     "name": "stderr",
     "output_type": "stream",
     "text": [
      "100%|██████████| 33/33 [00:06<00:00,  4.89it/s]\n"
     ]
    },
    {
     "name": "stdout",
     "output_type": "stream",
     "text": [
      "Optimised parameters---------------------\n",
      "Distance coefficient =  0.007654806730313268\n",
      "Production coefficient =  1.3914583504484792\n",
      "y-intercept (constant) =  -10.380219883947248\n"
     ]
    }
   ],
   "source": [
    "# Reshape data\n",
    "flows_flat,origing_supply_flat,destination_size_flat,cost_matrix_naive_flat = reshape_data(t,ob,kappa*wd,cnb)\n",
    "flows_flat = (0.7e6*flows_flat).astype('int')\n",
    "cost_matrix_naive_flat = (0.7e6*cost_matrix_naive_flat)\n",
    "destination_size_flat = (0.7e6*destination_size_flat)\n",
    "origing_supply_flat = (0.7e6*origing_supply_flat)\n",
    "\n",
    "# Train regression model using PySAL\n",
    "model_naive = pysal.model.spint.Production(flows_flat,origing_supply_flat,destination_size_flat,cost_matrix_naive_flat, 'exp')\n",
    "\n",
    "# Reconstruct inferred flow matrix from model vector\n",
    "pysal_flows_naive = model_naive.yhat.reshape((M,M))\n",
    "pysal_flows_naive_normalised = pysal_flows_naive/np.sum(pysal_flows_naive)\n",
    "\n",
    "# Print optimised parameters\n",
    "print('Optimised parameters---------------------')\n",
    "print('Distance coefficient = ',-model_naive.params[-2:][1])\n",
    "print('Production coefficient = ',model_naive.params[-2:][0])\n",
    "print('y-intercept (constant) = ',model_naive.params[0])"
   ]
  },
  {
   "cell_type": "code",
   "execution_count": 129,
   "metadata": {},
   "outputs": [
    {
     "data": {
      "text/plain": [
       "1.0033691952685477"
      ]
     },
     "execution_count": 129,
     "metadata": {},
     "output_type": "execute_result"
    }
   ],
   "source": [
    "SRMSE(pysal_flows_naive_normalised,t)"
   ]
  },
  {
   "cell_type": "markdown",
   "metadata": {},
   "source": [
    "## Informative cost matrix"
   ]
  },
  {
   "cell_type": "code",
   "execution_count": 130,
   "metadata": {},
   "outputs": [
    {
     "name": "stderr",
     "output_type": "stream",
     "text": [
      "100%|██████████| 33/33 [00:10<00:00,  3.22it/s]\n"
     ]
    },
    {
     "name": "stdout",
     "output_type": "stream",
     "text": [
      "Optimised parameters---------------------\n",
      "Distance coefficient =  0.007654806730313268\n",
      "Production coefficient =  1.3914583504484792\n",
      "y-intercept (constant) =  -10.380219883947248\n"
     ]
    }
   ],
   "source": [
    "# Reshape data\n",
    "flows_flat,origing_supply_flat,destination_size_flat,cost_matrix_informative_flat = reshape_data(t,ob,kappa*wd,cib)\n",
    "flows_flat = (0.7e6*flows_flat).astype('int')\n",
    "cost_matrix_informative_flat = (0.7e6*cost_matrix_informative_flat)\n",
    "destination_size_flat = (0.7e6*destination_size_flat)\n",
    "origing_supply_flat = (0.7e6*origing_supply_flat)\n",
    "\n",
    "# Train regression model using PySAL\n",
    "model_informative = pysal.model.spint.Production(flows_flat,origing_supply_flat,destination_size_flat,cost_matrix_informative_flat, 'exp')\n",
    "# \n",
    "# Reconstruct inferred flow matrix from model vector\n",
    "pysal_flows_informative = model_informative.yhat.reshape((M,M))\n",
    "pysal_flows_informative_normalised = pysal_flows_informative/np.sum(pysal_flows_informative)\n",
    "\n",
    "# Print optimised parameters\n",
    "print('Optimised parameters---------------------')\n",
    "print('Distance coefficient = ',-model_naive.params[-2:][1])\n",
    "print('Production coefficient = ',model_naive.params[-2:][0])\n",
    "print('y-intercept (constant) = ',model_naive.params[0])"
   ]
  },
  {
   "cell_type": "code",
   "execution_count": 131,
   "metadata": {},
   "outputs": [
    {
     "data": {
      "text/plain": [
       "1.1279180381426877"
      ]
     },
     "execution_count": 131,
     "metadata": {},
     "output_type": "execute_result"
    }
   ],
   "source": [
    "SRMSE(pysal_flows_informative_normalised,t)"
   ]
  },
  {
   "cell_type": "markdown",
   "metadata": {},
   "source": [
    "# Iterative proportional fitting"
   ]
  },
  {
   "cell_type": "markdown",
   "metadata": {},
   "source": [
    "## Naive cost matrix"
   ]
  },
  {
   "cell_type": "code",
   "execution_count": 158,
   "metadata": {},
   "outputs": [],
   "source": [
    "alpha_naive_deter = 1.144\n",
    "beta_naive_deter = 56000 # 0.08\n",
    "theta_naive_deter = copy.deepcopy(theta)\n",
    "theta_naive_deter[0] = alpha_naive_deter\n",
    "theta_naive_deter[1] = beta_naive_deter\n",
    "\n",
    "alpha_naive_low = 1.14\n",
    "beta_naive_low = 14000 # 0.02\n",
    "theta_naive_low = copy.deepcopy(theta)\n",
    "theta_naive_low[0] = alpha_naive_low\n",
    "theta_naive_low[1] = beta_naive_low\n",
    "\n",
    "alpha_naive_high = 0.24\n",
    "beta_naive_high = 56000 # 0.08\n",
    "theta_naive_high = copy.deepcopy(theta)\n",
    "theta_naive_high[0] = alpha_naive_high\n",
    "theta_naive_high[1] = beta_naive_high\n",
    "\n",
    "alpha_naive_high_mcmc = 0.2551254382399649\n",
    "beta_naive_high_mcmc = 0.2070918948256356\n",
    "theta_naive_high_mcmc = copy.deepcopy(theta)\n",
    "theta_naive_high_mcmc[0] = alpha_naive_high_mcmc\n",
    "theta_naive_high_mcmc[1] = beta_naive_high_mcmc"
   ]
  },
  {
   "cell_type": "code",
   "execution_count": 175,
   "metadata": {},
   "outputs": [],
   "source": [
    "T_naive_deter = np.zeros((M,M))\n",
    "\n",
    "# Construct flow matrix\n",
    "dsi = DSIM('synthetic',cm)\n",
    "\n",
    "value = dsi.infer_flows_ipf_procedure(T_naive_deter,\n",
    "                                ob,\n",
    "                                wd*kappa,  \n",
    "                                cnb,\n",
    "                                wd,\n",
    "                                np.ones(M),\n",
    "                                np.ones(M),\n",
    "                                M,\n",
    "                                M,\n",
    "                                theta_naive_deter,\n",
    "                                890,\n",
    "                                0.000000001,\n",
    "                                False)"
   ]
  },
  {
   "cell_type": "code",
   "execution_count": 176,
   "metadata": {},
   "outputs": [
    {
     "data": {
      "text/plain": [
       "1.244369585099479"
      ]
     },
     "execution_count": 176,
     "metadata": {},
     "output_type": "execute_result"
    }
   ],
   "source": [
    "np.sum(T_naive_deter)"
   ]
  },
  {
   "cell_type": "code",
   "execution_count": 177,
   "metadata": {},
   "outputs": [
    {
     "data": {
      "text/plain": [
       "3.670486323216487"
      ]
     },
     "execution_count": 177,
     "metadata": {},
     "output_type": "execute_result"
    }
   ],
   "source": [
    "SRMSE(T_naive_deter,t)"
   ]
  },
  {
   "cell_type": "code",
   "execution_count": 191,
   "metadata": {},
   "outputs": [],
   "source": [
    "T_naive_low = np.zeros((M,M))\n",
    "\n",
    "# Construct flow matrix\n",
    "dsi = DSIM('synthetic',cm)\n",
    "\n",
    "# value = dsi.infer_flows_ipf_procedure_singly(T_naive_low,\n",
    "#                                 ob,\n",
    "#                                 cnb,\n",
    "#                                 wd,\n",
    "#                                 np.ones(M),\n",
    "#                                 np.ones(M),\n",
    "#                                 M,\n",
    "#                                 M,\n",
    "#                                 theta_naive_low,\n",
    "#                                 84,\n",
    "#                                 0.000000001,\n",
    "#                                 False)\n",
    "value = dsi.infer_flows_ipf_procedure(T_naive_low,\n",
    "                                ob,\n",
    "                                wd*kappa,  \n",
    "                                cnb,\n",
    "                                wd,\n",
    "                                np.ones(M),\n",
    "                                np.ones(M),\n",
    "                                M,\n",
    "                                M,\n",
    "                                theta_naive_low,\n",
    "                                910,\n",
    "                                0.000000001,\n",
    "                                False)"
   ]
  },
  {
   "cell_type": "code",
   "execution_count": 192,
   "metadata": {},
   "outputs": [
    {
     "data": {
      "text/plain": [
       "1.1750815420142944"
      ]
     },
     "execution_count": 192,
     "metadata": {},
     "output_type": "execute_result"
    }
   ],
   "source": [
    "np.sum(T_naive_low)"
   ]
  },
  {
   "cell_type": "code",
   "execution_count": 193,
   "metadata": {},
   "outputs": [
    {
     "data": {
      "text/plain": [
       "2.4465134576428555"
      ]
     },
     "execution_count": 193,
     "metadata": {},
     "output_type": "execute_result"
    }
   ],
   "source": [
    "SRMSE(T_naive_low,t)"
   ]
  },
  {
   "cell_type": "code",
   "execution_count": 212,
   "metadata": {},
   "outputs": [],
   "source": [
    "T_naive_high = np.zeros((M,M))\n",
    "\n",
    "# Construct flow matrix\n",
    "si = DSIM('synthetic',cm)\n",
    "\n",
    "# value = si.infer_flows_ipf_procedure_singly(T_naive_high,\n",
    "#                                 ob,\n",
    "#                                 wd,\n",
    "#                                 cnb,\n",
    "#                                 np.ones(M),\n",
    "#                                 np.ones(M),\n",
    "#                                 M,\n",
    "#                                 M,\n",
    "#                                 theta_naive_high,\n",
    "#                                 10000,\n",
    "#                                 0.000000001,\n",
    "#                                 False)\n",
    "value = dsi.infer_flows_ipf_procedure(T_naive_high,\n",
    "                                ob,\n",
    "                                wd*kappa,  \n",
    "                                cnb,\n",
    "                                wd,\n",
    "                                np.ones(M),\n",
    "                                np.ones(M),\n",
    "                                M,\n",
    "                                M,\n",
    "                                theta_naive_high,\n",
    "                                890,\n",
    "                                0.000000001,\n",
    "                                False)"
   ]
  },
  {
   "cell_type": "code",
   "execution_count": 213,
   "metadata": {},
   "outputs": [
    {
     "data": {
      "text/plain": [
       "1.2443695850994787"
      ]
     },
     "execution_count": 213,
     "metadata": {},
     "output_type": "execute_result"
    }
   ],
   "source": [
    "np.sum(T_naive_high)"
   ]
  },
  {
   "cell_type": "code",
   "execution_count": 214,
   "metadata": {},
   "outputs": [
    {
     "data": {
      "text/plain": [
       "3.670486323216487"
      ]
     },
     "execution_count": 214,
     "metadata": {},
     "output_type": "execute_result"
    }
   ],
   "source": [
    "SRMSE(T_naive_high,t)"
   ]
  },
  {
   "cell_type": "code",
   "execution_count": 224,
   "metadata": {},
   "outputs": [],
   "source": [
    "T_naive_high_mcmc = np.zeros((M,M))\n",
    "\n",
    "# Construct flow matrix\n",
    "si = DSIM('synthetic',cm)\n",
    "\n",
    "# value = si.infer_flows_ipf_procedure_singly(T_naive_high,\n",
    "#                                 ob,\n",
    "#                                 wd,\n",
    "#                                 cnb,\n",
    "#                                 np.ones(M),\n",
    "#                                 np.ones(M),\n",
    "#                                 M,\n",
    "#                                 M,\n",
    "#                                 theta_naive_high,\n",
    "#                                 10000,\n",
    "#                                 0.000000001,\n",
    "#                                 False)\n",
    "value = dsi.infer_flows_ipf_procedure(T_naive_high_mcmc,\n",
    "                                ob,\n",
    "                                wd*kappa,  \n",
    "                                cnb,\n",
    "                                wd,\n",
    "                                np.ones(M),\n",
    "                                np.ones(M),\n",
    "                                M,\n",
    "                                M,\n",
    "                                theta_naive_high_mcmc,\n",
    "                                1100,\n",
    "                                0.000000001,\n",
    "                                False)"
   ]
  },
  {
   "cell_type": "code",
   "execution_count": 225,
   "metadata": {},
   "outputs": [
    {
     "data": {
      "text/plain": [
       "1.0109053674281487"
      ]
     },
     "execution_count": 225,
     "metadata": {},
     "output_type": "execute_result"
    }
   ],
   "source": [
    "np.sum(T_naive_high_mcmc)"
   ]
  },
  {
   "cell_type": "code",
   "execution_count": 226,
   "metadata": {},
   "outputs": [
    {
     "data": {
      "text/plain": [
       "2.197973332950276"
      ]
     },
     "execution_count": 226,
     "metadata": {},
     "output_type": "execute_result"
    }
   ],
   "source": [
    "SRMSE(T_naive_high_mcmc,t)"
   ]
  },
  {
   "cell_type": "markdown",
   "metadata": {},
   "source": [
    "## Informative cost matrix"
   ]
  },
  {
   "cell_type": "code",
   "execution_count": 227,
   "metadata": {},
   "outputs": [],
   "source": [
    "alpha_informative_deter = 1.122\n",
    "beta_informative_deter = 47600 # 0.068\n",
    "theta_informative_deter = copy.deepcopy(theta)\n",
    "theta_informative_deter[0] = alpha_informative_deter\n",
    "theta_informative_deter[1] = beta_informative_deter\n",
    "\n",
    "alpha_informative_low = 1.12\n",
    "beta_informative_low = 14000 # 0.02\n",
    "theta_informative_low = copy.deepcopy(theta)\n",
    "theta_informative_low[0] = alpha_informative_low\n",
    "theta_informative_low[1] = beta_informative_low\n",
    "\n",
    "alpha_informative_high = 0.24\n",
    "beta_informative_high = 42000 # 0.06\n",
    "theta_informative_high = copy.deepcopy(theta)\n",
    "theta_informative_high[0] = alpha_informative_high\n",
    "theta_informative_high[1] = beta_informative_high\n",
    "\n",
    "# alpha_informative_high_mcmc = \n",
    "# beta_informative_high_mcmc = \n",
    "# theta_informative_high_mcmc = copy.deepcopy(theta)\n",
    "# theta_informative_high_mcmc[0] = alpha_informative_high_mcmc\n",
    "# theta_informative_high_mcmc[1] = beta_informative_high_mcmc"
   ]
  },
  {
   "cell_type": "code",
   "execution_count": 232,
   "metadata": {},
   "outputs": [],
   "source": [
    "T_informative_deter = np.zeros((M,M))\n",
    "\n",
    "# Construct flow matrix\n",
    "dsi = DSIM('synthetic',cm)\n",
    "\n",
    "value = dsi.infer_flows_ipf_procedure(T_informative_deter,\n",
    "                                ob,\n",
    "                                wd*kappa,  \n",
    "                                cnb,\n",
    "                                wd,\n",
    "                                np.ones(M),\n",
    "                                np.ones(M),\n",
    "                                M,\n",
    "                                M,\n",
    "                                theta_informative_deter,\n",
    "                                900,\n",
    "                                0.000000001,\n",
    "                                False)"
   ]
  },
  {
   "cell_type": "code",
   "execution_count": 234,
   "metadata": {},
   "outputs": [
    {
     "data": {
      "text/plain": [
       "1.2401875135216511"
      ]
     },
     "execution_count": 234,
     "metadata": {},
     "output_type": "execute_result"
    }
   ],
   "source": [
    "np.sum(T_informative_deter)"
   ]
  },
  {
   "cell_type": "code",
   "execution_count": 235,
   "metadata": {},
   "outputs": [
    {
     "data": {
      "text/plain": [
       "3.579756793452732"
      ]
     },
     "execution_count": 235,
     "metadata": {},
     "output_type": "execute_result"
    }
   ],
   "source": [
    "SRMSE(T_informative_deter,t)"
   ]
  },
  {
   "cell_type": "code",
   "execution_count": 246,
   "metadata": {},
   "outputs": [],
   "source": [
    "T_informative_low = np.zeros((M,M))\n",
    "\n",
    "# Construct flow matrix\n",
    "dsi = DSIM('synthetic',cm)\n",
    "\n",
    "value = dsi.infer_flows_ipf_procedure(T_informative_low,\n",
    "                                ob,\n",
    "                                wd*kappa,  \n",
    "                                cnb,\n",
    "                                wd,\n",
    "                                np.ones(M),\n",
    "                                np.ones(M),\n",
    "                                M,\n",
    "                                M,\n",
    "                                theta_informative_low,\n",
    "                                930,\n",
    "                                0.000000001,\n",
    "                                False)"
   ]
  },
  {
   "cell_type": "code",
   "execution_count": 248,
   "metadata": {},
   "outputs": [
    {
     "data": {
      "text/plain": [
       "1.1750815420142944"
      ]
     },
     "execution_count": 248,
     "metadata": {},
     "output_type": "execute_result"
    }
   ],
   "source": [
    "np.sum(T_informative_low)"
   ]
  },
  {
   "cell_type": "code",
   "execution_count": 250,
   "metadata": {},
   "outputs": [
    {
     "data": {
      "text/plain": [
       "2.4465134576428555"
      ]
     },
     "execution_count": 250,
     "metadata": {},
     "output_type": "execute_result"
    }
   ],
   "source": [
    "SRMSE(T_informative_low,t)"
   ]
  },
  {
   "cell_type": "code",
   "execution_count": 265,
   "metadata": {},
   "outputs": [],
   "source": [
    "T_informative_high = np.zeros((M,M))\n",
    "\n",
    "# Construct flow matrix\n",
    "dsi = DSIM('synthetic',cm)\n",
    "\n",
    "value = dsi.infer_flows_ipf_procedure(T_informative_high,\n",
    "                                ob,\n",
    "                                wd*kappa,  \n",
    "                                cnb,\n",
    "                                wd,\n",
    "                                np.ones(M),\n",
    "                                np.ones(M),\n",
    "                                M,\n",
    "                                M,\n",
    "                                theta_informative_high,\n",
    "                                900,\n",
    "                                0.000000001,\n",
    "                                False)"
   ]
  },
  {
   "cell_type": "code",
   "execution_count": 266,
   "metadata": {},
   "outputs": [
    {
     "data": {
      "text/plain": [
       "1.2365800931596564"
      ]
     },
     "execution_count": 266,
     "metadata": {},
     "output_type": "execute_result"
    }
   ],
   "source": [
    "np.sum(T_informative_high)"
   ]
  },
  {
   "cell_type": "code",
   "execution_count": 267,
   "metadata": {},
   "outputs": [
    {
     "data": {
      "text/plain": [
       "3.5036072499432267"
      ]
     },
     "execution_count": 267,
     "metadata": {},
     "output_type": "execute_result"
    }
   ],
   "source": [
    "SRMSE(T_informative_high,t)"
   ]
  },
  {
   "cell_type": "code",
   "execution_count": 268,
   "metadata": {},
   "outputs": [],
   "source": [
    "# T_informative_high_mcmc = np.zeros((M,M))\n",
    "\n",
    "# # Construct flow matrix\n",
    "# dsi = DSIM('synthetic',cm)\n",
    "\n",
    "# value = dsi.infer_flows_ipf_procedure(T_informative_high_mcmc,\n",
    "#                                 ob,\n",
    "#                                 wd*kappa,  \n",
    "#                                 cnb,\n",
    "#                                 wd,\n",
    "#                                 np.ones(M),\n",
    "#                                 np.ones(M),\n",
    "#                                 M,\n",
    "#                                 M,\n",
    "#                                 theta_informative_high_mcmc,\n",
    "#                                 800,\n",
    "#                                 0.000000001,\n",
    "#                                 False)"
   ]
  },
  {
   "cell_type": "code",
   "execution_count": 269,
   "metadata": {},
   "outputs": [],
   "source": [
    "# np.sum(T_informative_high_mcmc)"
   ]
  },
  {
   "cell_type": "code",
   "execution_count": 270,
   "metadata": {},
   "outputs": [],
   "source": [
    "# SRMSE(T_informative_high_mcmc,t)"
   ]
  },
  {
   "cell_type": "markdown",
   "metadata": {},
   "source": [
    "## Compare cost matrices"
   ]
  },
  {
   "cell_type": "code",
   "execution_count": 147,
   "metadata": {},
   "outputs": [
    {
     "data": {
      "image/png": "[encoded data removed]",
      "text/plain": [
       "<Figure size 720x720 with 1 Axes>"
      ]
     },
     "metadata": {
      "needs_background": "light"
     },
     "output_type": "display_data"
    }
   ],
   "source": [
    "plt.figure(figsize=(10,10))\n",
    "plt.xlabel(r'$c_{\\textrm{euclidean}}[i,i]$')\n",
    "plt.ylabel(r'$c_{\\textrm{newtwork}}[i,i]$')\n",
    "plt.scatter(x=np.diagonal(cn),y=np.diagonal(ci))\n",
    "plt.plot(np.linspace(0,8e-5,1000),np.linspace(0,8e-5,1000))\n",
    "\n",
    "plt.savefig(f\"../data/output/commuter_ward/actual/figures/cost_matrices_diagonals.png\",\n",
    "            dpi=1000, \n",
    "            bbox_inches='tight',transparent=True)"
   ]
  },
  {
   "cell_type": "code",
   "execution_count": 154,
   "metadata": {},
   "outputs": [
    {
     "data": {
      "text/plain": [
       "2.5763575707860964"
      ]
     },
     "execution_count": 154,
     "metadata": {},
     "output_type": "execute_result"
    }
   ],
   "source": [
    "SRMSE(cib,t)"
   ]
  },
  {
   "cell_type": "code",
   "execution_count": 155,
   "metadata": {},
   "outputs": [
    {
     "data": {
      "text/plain": [
       "2.487622881193811"
      ]
     },
     "execution_count": 155,
     "metadata": {},
     "output_type": "execute_result"
    }
   ],
   "source": [
    "SRMSE(cnb,t)"
   ]
  }
 ],
 "metadata": {
  "kernelspec": {
   "display_name": "MRes project",
   "language": "python",
   "name": "stdm"
  },
  "language_info": {
   "codemirror_mode": {
    "name": "ipython",
    "version": 3
   },
   "file_extension": ".py",
   "mimetype": "text/x-python",
   "name": "python",
   "nbconvert_exporter": "python",
   "pygments_lexer": "ipython3",
   "version": "3.7.5"
  }
 },
 "nbformat": 4,
 "nbformat_minor": 4
}
