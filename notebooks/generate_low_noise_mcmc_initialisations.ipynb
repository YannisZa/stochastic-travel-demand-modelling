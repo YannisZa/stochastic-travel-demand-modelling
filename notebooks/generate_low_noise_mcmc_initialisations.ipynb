{
 "cells": [
  {
   "cell_type": "code",
   "execution_count": 52,
   "metadata": {},
   "outputs": [],
   "source": [
    "import os\n",
    "import sys\n",
    "import copy\n",
    "import json\n",
    "import numpy as np\n",
    "import pandas as pd\n",
    "import matplotlib.pyplot as plt\n",
    "\n",
    "from tqdm import tqdm\n",
    "\n",
    "# Get current working directory and project root directory\n",
    "cwd = os.getcwd()\n",
    "wd = os.path.join(cwd.split('stochastic-travel-demand-modelling/', 1)[0])\n",
    "if not wd.endswith('stochastic-travel-demand-modelling'):\n",
    "    wd = os.path.join(cwd.split('stochastic-travel-demand-modelling/', 1)[0],'stochastic-travel-demand-modelling')\n",
    "\n",
    "if wd not in sys.path:\n",
    "    sys.path.append(wd)\n",
    "\n",
    "from models.singly_constrained.spatial_interaction_model import SpatialInteraction\n",
    "\n",
    "# Fix seed\n",
    "np.random.seed(885)"
   ]
  },
  {
   "cell_type": "markdown",
   "metadata": {},
   "source": [
    "# Import data"
   ]
  },
  {
   "cell_type": "code",
   "execution_count": 77,
   "metadata": {},
   "outputs": [],
   "source": [
    "# Select dataset\n",
    "dataset = 'commuter_ward' # 'retail', 'commuter_ward', 'commuter_borough'\n",
    "\n",
    "# Select cost matrix type\n",
    "cost_matrix_file = 'sn'\n",
    "\n",
    "\n",
    "if cost_matrix_file == 'sn':\n",
    "    cost_matrix_file = '_small_network'\n",
    "\n",
    "# Select model\n",
    "constrained = 'singly'"
   ]
  },
  {
   "cell_type": "code",
   "execution_count": 78,
   "metadata": {},
   "outputs": [],
   "source": [
    "# Import commuter Borough to Borough data\n",
    "cost_matrix = np.loadtxt(os.path.join(wd,f'data/input/{dataset}/cost_matrix{cost_matrix_file}.txt'))\n",
    "origin_supply = np.loadtxt(os.path.join(wd,f'./data/input/{dataset}/origin_supply.txt'))\n",
    "initial_destination_sizes = np.loadtxt(os.path.join(wd,f'./data/input/{dataset}/initial_destination_sizes.txt'))\n",
    "\n",
    "# Normalise origin supply, cost matrix and destination sizes\n",
    "o = origin_supply/np.sum(origin_supply)\n",
    "c = cost_matrix/np.sum(cost_matrix)\n",
    "xd = np.log(initial_destination_sizes/np.sum(initial_destination_sizes))\n",
    "\n",
    "# Get origin and destination locations\n",
    "origin_locs = np.loadtxt(os.path.join(wd,f'./data/input/{dataset}/origin_locations.txt'))\n",
    "destination_locs = np.loadtxt(os.path.join(wd,f'./data/input/{dataset}/destination_locations.txt'))\n",
    "\n",
    "# Read Laplace optimisation parameters\n",
    "with open(f'../data/output/{dataset}/laplace/figures/{constrained}_laplace_analysis{cost_matrix_file}_gamma_10000_parameters.json') as json_file:\n",
    "    laplace_low_noise_opt_params = json.load(json_file)\n",
    "with open(f'../data/output/{dataset}/laplace/figures/{constrained}_laplace_analysis{cost_matrix_file}_gamma_100_parameters.json') as json_file:\n",
    "    laplace_high_noise_opt_params = json.load(json_file)\n",
    "    \n",
    "# Get dimensions\n",
    "N,M = cost_matrix.shape\n",
    "\n",
    "# Construct parameter vector for low noise regime\n",
    "alpha1 = laplace_low_noise_opt_params['fitted_alpha']\n",
    "beta1 = laplace_low_noise_opt_params['fitted_scaled_beta']\n",
    "theta_low_noise = np.array([alpha1,beta1])\n",
    "\n",
    "# Construct parameter vector for high noise regime\n",
    "alpha2 = laplace_high_noise_opt_params['fitted_alpha']\n",
    "beta2 = laplace_high_noise_opt_params['fitted_scaled_beta']\n",
    "theta_high_noise = np.array([alpha2,beta2])"
   ]
  },
  {
   "cell_type": "markdown",
   "metadata": {},
   "source": [
    "# Generate initialisations for MCMC sampling\n",
    "\n",
    "## Low noise"
   ]
  },
  {
   "cell_type": "code",
   "execution_count": 79,
   "metadata": {},
   "outputs": [],
   "source": [
    "# # Manually set theta_low_noise\n",
    "theta_low_noise[0] = 1.13#1.1400000000000001\n",
    "theta_low_noise[1] = 0.03# 0.028571429"
   ]
  },
  {
   "cell_type": "code",
   "execution_count": 94,
   "metadata": {},
   "outputs": [],
   "source": [
    "# Select number of samples to generate\n",
    "n = 100\n",
    "# Select mcmc start\n",
    "mcmc_start = 0\n",
    "\n",
    "# Generate\n",
    "# theta_low_init = np.random.lognormal(mean=np.log(theta_low_noise),sigma=np.ones(2)*0.1,size=(n,2))\n",
    "# theta_low_init = np.random.lognormal(mean=np.log(theta_low_noise),sigma=np.ones(2)*[0.01,0.1],size=(n,2))\n",
    "theta_low_init[:,:] = theta_low_noise\n",
    "\n",
    "# Generate samples from Log Normal distribution cenet\n",
    "x_low_init = np.log(np.random.lognormal(mean=xd,sigma=np.ones(M)*0.01,size=(n,M)))\n",
    "sums = [np.sum(x) for x in x_low_init]\n",
    "\n",
    "# Generate vector of ones for the sign samples\n",
    "sign_low_init = np.ones((n))"
   ]
  },
  {
   "cell_type": "markdown",
   "metadata": {},
   "source": [
    "## Theta update step size tuning"
   ]
  },
  {
   "cell_type": "code",
   "execution_count": 95,
   "metadata": {},
   "outputs": [],
   "source": [
    "# # Theta update step size tuning\n",
    "# Ap = np.array([[ 0.00749674,  0.00182529], [ 0.00182529,  0.00709968]])\n",
    "# step = 0.008699999999999998\n",
    "# idx = 0\n",
    "# first_proposal = theta_low_init[idx] + step*np.dot(Ap, np.random.normal(0, 1, 2))\n",
    "\n",
    "# print('Theta opt')\n",
    "# print(theta_low_noise)\n",
    "\n",
    "# print('Theta init')\n",
    "# print(theta_low_init[idx])\n",
    "\n",
    "# print('First theta transition') \n",
    "# print(first_proposal)"
   ]
  },
  {
   "cell_type": "markdown",
   "metadata": {},
   "source": [
    "## Printing initialisations"
   ]
  },
  {
   "cell_type": "code",
   "execution_count": 96,
   "metadata": {},
   "outputs": [
    {
     "data": {
      "text/plain": [
       "array([1.13, 0.03])"
      ]
     },
     "execution_count": 96,
     "metadata": {},
     "output_type": "execute_result"
    }
   ],
   "source": [
    "theta_low_init[1,:]"
   ]
  },
  {
   "cell_type": "code",
   "execution_count": 97,
   "metadata": {},
   "outputs": [
    {
     "name": "stdout",
     "output_type": "stream",
     "text": [
      "Theta\n",
      "[1.13 0.03]\n",
      "Theta init\n",
      "[[1.13 0.03]]\n"
     ]
    }
   ],
   "source": [
    "print('Theta')\n",
    "print(theta_low_noise)\n",
    "print('Theta init')\n",
    "print(theta_low_init[:mcmc_start+1])"
   ]
  },
  {
   "cell_type": "code",
   "execution_count": 98,
   "metadata": {},
   "outputs": [],
   "source": [
    "# actual_theta_initial = np.loadtxt(os.path.join(wd,f\"data/output/{dataset}/inverse_problem/{constrained}_low_noise_theta_samples_initial.txt\"))\n",
    "# print(actual_theta_initial[:mcmc_start+1])"
   ]
  },
  {
   "cell_type": "code",
   "execution_count": 99,
   "metadata": {},
   "outputs": [
    {
     "name": "stdout",
     "output_type": "stream",
     "text": [
      "Log size init\n",
      "[[-4.44116539 -3.50373751 -4.12121294 -3.67362012 -3.70894925 -2.74577481\n",
      "  -2.58576564 -3.39635834 -3.53394771 -3.72243948 -4.17446069 -3.73727609\n",
      "  -3.61407898 -4.10718793 -4.05527423 -3.95986591 -3.2155449  -3.42222651\n",
      "  -3.30526146 -3.42146968 -4.04048543 -3.55810663 -4.10855448 -4.0382357\n",
      "  -4.04369112 -4.01099537 -3.99725462 -3.18872654 -4.08710529 -3.32544413\n",
      "  -4.19145243 -3.59898394 -2.02488663]]\n",
      "True log size\n",
      "[-4.44068855 -3.50241891 -4.11218448 -3.6760824  -3.69347415 -2.74609283\n",
      " -2.60367249 -3.37981659 -3.53183279 -3.72014239 -4.16699272 -3.74754137\n",
      " -3.61748824 -4.11218448 -4.04764596 -3.95233578 -3.20931677 -3.4190373\n",
      " -3.30570861 -3.42572629 -4.02295335 -3.56213814 -4.11218448 -4.03522344\n",
      " -4.06022474 -4.02295335 -3.98702134 -3.18264852 -4.08586717 -3.31167878\n",
      " -4.19556609 -3.60939103 -2.01294031]\n"
     ]
    }
   ],
   "source": [
    "print('Log size init')\n",
    "print(x_low_init[:mcmc_start+1])\n",
    "\n",
    "print('True log size')\n",
    "print(xd)"
   ]
  },
  {
   "cell_type": "markdown",
   "metadata": {},
   "source": [
    "## Visualise init samples of log destination sizes"
   ]
  },
  {
   "cell_type": "code",
   "execution_count": 100,
   "metadata": {
    "scrolled": false
   },
   "outputs": [
    {
     "data": {
      "text/plain": [
       "<matplotlib.legend.Legend at 0x12118d750>"
      ]
     },
     "execution_count": 100,
     "metadata": {},
     "output_type": "execute_result"
    },
    {
     "data": {
      "image/png": "[encoded data removed]",
      "text/plain": [
       "<Figure size 720x720 with 1 Axes>"
      ]
     },
     "metadata": {
      "needs_background": "light"
     },
     "output_type": "display_data"
    },
    {
     "data": {
      "image/png": "[encoded data removed]",
      "text/plain": [
       "<Figure size 720x720 with 1 Axes>"
      ]
     },
     "metadata": {
      "needs_background": "light"
     },
     "output_type": "display_data"
    }
   ],
   "source": [
    "xx = x_low_init[:mcmc_start+1][0]\n",
    "\n",
    "plt.figure(0,figsize=(10,10))\n",
    "plt.title(\"True X\")\n",
    "plt.scatter(origin_locs[:, 1], origin_locs[:, 0], color='w',edgecolors='b',s=100*o, alpha=0.5,label='Origin supply')\n",
    "plt.scatter(destination_locs[:, 1], destination_locs[:, 0], color='w',edgecolors='r', s=1000*np.exp(xd),label='Latent dest sizes')\n",
    "plt.legend()\n",
    "\n",
    "plt.figure(1,figsize=(10,10))\n",
    "plt.title(\"MCMC X initialisation\")\n",
    "plt.scatter(origin_locs[:, 1], origin_locs[:, 0], color='w',edgecolors='b',s=100*o, alpha=0.5,label='Origin supply')\n",
    "plt.scatter(destination_locs[:, 1], destination_locs[:, 0], color='w',edgecolors='r', s=1000*np.exp(xx),label='Latent dest sizes')\n",
    "plt.legend()"
   ]
  },
  {
   "cell_type": "markdown",
   "metadata": {},
   "source": [
    "# Export initilisations"
   ]
  },
  {
   "cell_type": "code",
   "execution_count": 101,
   "metadata": {},
   "outputs": [
    {
     "data": {
      "text/plain": [
       "'data/output/commuter_ward/inverse_problem/singly_low_noise_theta_samples_small_network_initial.txt'"
      ]
     },
     "execution_count": 101,
     "metadata": {},
     "output_type": "execute_result"
    }
   ],
   "source": [
    "f\"data/output/{dataset}/inverse_problem/{constrained}_low_noise_theta_samples{cost_matrix_file}_initial.txt\""
   ]
  },
  {
   "cell_type": "code",
   "execution_count": 102,
   "metadata": {},
   "outputs": [
    {
     "data": {
      "text/plain": [
       "array([[1.13, 0.03],\n",
       "       [1.13, 0.03],\n",
       "       [1.13, 0.03],\n",
       "       [1.13, 0.03],\n",
       "       [1.13, 0.03],\n",
       "       [1.13, 0.03],\n",
       "       [1.13, 0.03],\n",
       "       [1.13, 0.03],\n",
       "       [1.13, 0.03],\n",
       "       [1.13, 0.03],\n",
       "       [1.13, 0.03],\n",
       "       [1.13, 0.03],\n",
       "       [1.13, 0.03],\n",
       "       [1.13, 0.03],\n",
       "       [1.13, 0.03],\n",
       "       [1.13, 0.03],\n",
       "       [1.13, 0.03],\n",
       "       [1.13, 0.03],\n",
       "       [1.13, 0.03],\n",
       "       [1.13, 0.03],\n",
       "       [1.13, 0.03],\n",
       "       [1.13, 0.03],\n",
       "       [1.13, 0.03],\n",
       "       [1.13, 0.03],\n",
       "       [1.13, 0.03],\n",
       "       [1.13, 0.03],\n",
       "       [1.13, 0.03],\n",
       "       [1.13, 0.03],\n",
       "       [1.13, 0.03],\n",
       "       [1.13, 0.03],\n",
       "       [1.13, 0.03],\n",
       "       [1.13, 0.03],\n",
       "       [1.13, 0.03],\n",
       "       [1.13, 0.03],\n",
       "       [1.13, 0.03],\n",
       "       [1.13, 0.03],\n",
       "       [1.13, 0.03],\n",
       "       [1.13, 0.03],\n",
       "       [1.13, 0.03],\n",
       "       [1.13, 0.03],\n",
       "       [1.13, 0.03],\n",
       "       [1.13, 0.03],\n",
       "       [1.13, 0.03],\n",
       "       [1.13, 0.03],\n",
       "       [1.13, 0.03],\n",
       "       [1.13, 0.03],\n",
       "       [1.13, 0.03],\n",
       "       [1.13, 0.03],\n",
       "       [1.13, 0.03],\n",
       "       [1.13, 0.03],\n",
       "       [1.13, 0.03],\n",
       "       [1.13, 0.03],\n",
       "       [1.13, 0.03],\n",
       "       [1.13, 0.03],\n",
       "       [1.13, 0.03],\n",
       "       [1.13, 0.03],\n",
       "       [1.13, 0.03],\n",
       "       [1.13, 0.03],\n",
       "       [1.13, 0.03],\n",
       "       [1.13, 0.03],\n",
       "       [1.13, 0.03],\n",
       "       [1.13, 0.03],\n",
       "       [1.13, 0.03],\n",
       "       [1.13, 0.03],\n",
       "       [1.13, 0.03],\n",
       "       [1.13, 0.03],\n",
       "       [1.13, 0.03],\n",
       "       [1.13, 0.03],\n",
       "       [1.13, 0.03],\n",
       "       [1.13, 0.03],\n",
       "       [1.13, 0.03],\n",
       "       [1.13, 0.03],\n",
       "       [1.13, 0.03],\n",
       "       [1.13, 0.03],\n",
       "       [1.13, 0.03],\n",
       "       [1.13, 0.03],\n",
       "       [1.13, 0.03],\n",
       "       [1.13, 0.03],\n",
       "       [1.13, 0.03],\n",
       "       [1.13, 0.03],\n",
       "       [1.13, 0.03],\n",
       "       [1.13, 0.03],\n",
       "       [1.13, 0.03],\n",
       "       [1.13, 0.03],\n",
       "       [1.13, 0.03],\n",
       "       [1.13, 0.03],\n",
       "       [1.13, 0.03],\n",
       "       [1.13, 0.03],\n",
       "       [1.13, 0.03],\n",
       "       [1.13, 0.03],\n",
       "       [1.13, 0.03],\n",
       "       [1.13, 0.03],\n",
       "       [1.13, 0.03],\n",
       "       [1.13, 0.03],\n",
       "       [1.13, 0.03],\n",
       "       [1.13, 0.03],\n",
       "       [1.13, 0.03],\n",
       "       [1.13, 0.03],\n",
       "       [1.13, 0.03],\n",
       "       [1.13, 0.03]])"
      ]
     },
     "execution_count": 102,
     "metadata": {},
     "output_type": "execute_result"
    }
   ],
   "source": [
    "theta_low_init"
   ]
  },
  {
   "cell_type": "code",
   "execution_count": 103,
   "metadata": {},
   "outputs": [],
   "source": [
    "np.savetxt(os.path.join(wd,f\"data/output/{dataset}/inverse_problem/{constrained}_low_noise_theta_samples{cost_matrix_file}_initial.txt\"),theta_low_init)\n",
    "np.savetxt(os.path.join(wd,f\"data/output/{dataset}/inverse_problem/{constrained}_low_noise_logsize_samples{cost_matrix_file}_initial.txt\"),x_low_init)\n",
    "np.savetxt(os.path.join(wd,f\"data/output/{dataset}/inverse_problem/{constrained}_low_noise_sign_samples{cost_matrix_file}_initial.txt\"),sign_low_init)\n"
   ]
  },
  {
   "cell_type": "code",
   "execution_count": 106,
   "metadata": {},
   "outputs": [
    {
     "data": {
      "text/plain": [
       "'data/output/commuter_ward/inverse_problem/singly_low_noise_theta_samples_small_network_initial.txt'"
      ]
     },
     "execution_count": 106,
     "metadata": {},
     "output_type": "execute_result"
    }
   ],
   "source": [
    "f\"data/output/{dataset}/inverse_problem/{constrained}_low_noise_theta_samples{cost_matrix_file}_initial.txt\""
   ]
  }
 ],
 "metadata": {
  "kernelspec": {
   "display_name": "MRes project",
   "language": "python",
   "name": "stdm"
  },
  "language_info": {
   "codemirror_mode": {
    "name": "ipython",
    "version": 3
   },
   "file_extension": ".py",
   "mimetype": "text/x-python",
   "name": "python",
   "nbconvert_exporter": "python",
   "pygments_lexer": "ipython3",
   "version": "3.7.5"
  }
 },
 "nbformat": 4,
 "nbformat_minor": 4
}
