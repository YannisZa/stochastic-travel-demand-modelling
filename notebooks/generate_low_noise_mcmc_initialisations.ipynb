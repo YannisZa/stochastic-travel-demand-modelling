{
 "cells": [
  {
   "cell_type": "code",
   "execution_count": 1,
   "metadata": {},
   "outputs": [],
   "source": [
    "import os\n",
    "import sys\n",
    "import copy\n",
    "import json\n",
    "import numpy as np\n",
    "import pandas as pd\n",
    "import matplotlib.pyplot as plt\n",
    "\n",
    "from tqdm import tqdm\n",
    "\n",
    "# Get current working directory and project root directory\n",
    "cwd = os.getcwd()\n",
    "wd = os.path.join(cwd.split('stochastic-travel-demand-modelling/', 1)[0])\n",
    "if not wd.endswith('stochastic-travel-demand-modelling'):\n",
    "    wd = os.path.join(cwd.split('stochastic-travel-demand-modelling/', 1)[0],'stochastic-travel-demand-modelling')\n",
    "\n",
    "if wd not in sys.path:\n",
    "    sys.path.append(wd)\n",
    "\n",
    "from models.singly_constrained.spatial_interaction_model import SpatialInteraction\n",
    "\n",
    "# Fix seed\n",
    "np.random.seed(885)"
   ]
  },
  {
   "cell_type": "markdown",
   "metadata": {},
   "source": [
    "# Import data"
   ]
  },
  {
   "cell_type": "code",
   "execution_count": 6,
   "metadata": {},
   "outputs": [],
   "source": [
    "# Select dataset\n",
    "dataset = 'commuter_ward' # 'retail', 'commuter_ward', 'commuter_borough'\n",
    "\n",
    "# Select cost matrix type\n",
    "cost_matrix_file = ''\n",
    "if cost_matrix_file == 'sn':\n",
    "    cost_matrix_file = '_'+cost_matrix_file\n",
    "\n",
    "# Select model\n",
    "constrained = 'singly'"
   ]
  },
  {
   "cell_type": "code",
   "execution_count": 7,
   "metadata": {},
   "outputs": [],
   "source": [
    "# Import commuter Borough to Borough data\n",
    "cost_matrix = np.loadtxt(os.path.join(wd,f'data/input/{dataset}/cost_matrix{cost_matrix_file}.txt'))\n",
    "origin_supply = np.loadtxt(os.path.join(wd,f'./data/input/{dataset}/origin_supply.txt'))\n",
    "initial_destination_sizes = np.loadtxt(os.path.join(wd,f'./data/input/{dataset}/initial_destination_sizes.txt'))\n",
    "\n",
    "# Normalise origin supply, cost matrix and destination sizes\n",
    "o = origin_supply/np.sum(origin_supply)\n",
    "c = cost_matrix/np.sum(cost_matrix)\n",
    "xd = np.log(initial_destination_sizes/np.sum(initial_destination_sizes))\n",
    "\n",
    "# Get origin and destination locations\n",
    "origin_locs = np.loadtxt(os.path.join(wd,f'./data/input/{dataset}/origin_locations.txt'))\n",
    "destination_locs = np.loadtxt(os.path.join(wd,f'./data/input/{dataset}/destination_locations.txt'))\n",
    "\n",
    "# Read Laplace optimisation parameters\n",
    "with open(f'../data/output/{dataset}/laplace/figures/{constrained}_laplace_analysis_gamma_10000_parameters.json') as json_file:\n",
    "    laplace_low_noise_opt_params = json.load(json_file)\n",
    "with open(f'../data/output/{dataset}/laplace/figures/{constrained}_laplace_analysis_gamma_100_parameters.json') as json_file:\n",
    "    laplace_high_noise_opt_params = json.load(json_file)\n",
    "    \n",
    "# Get dimensions\n",
    "N,M = cost_matrix.shape\n",
    "\n",
    "# Construct parameter vector for low noise regime\n",
    "alpha1 = laplace_low_noise_opt_params['fitted_alpha']\n",
    "beta1 = laplace_low_noise_opt_params['fitted_scaled_beta']\n",
    "theta_low_noise = np.array([alpha1,beta1])\n",
    "\n",
    "# Construct parameter vector for high noise regime\n",
    "alpha2 = laplace_high_noise_opt_params['fitted_alpha']\n",
    "beta2 = laplace_high_noise_opt_params['fitted_scaled_beta']\n",
    "theta_high_noise = np.array([alpha2,beta2])"
   ]
  },
  {
   "cell_type": "markdown",
   "metadata": {},
   "source": [
    "# Generate initialisations for MCMC sampling\n",
    "\n",
    "## Low noise"
   ]
  },
  {
   "cell_type": "code",
   "execution_count": 8,
   "metadata": {},
   "outputs": [],
   "source": [
    "# # # Manually set theta_low_noise\n",
    "# theta_low_noise[0] = 0.1\n",
    "# theta_low_noise[1] = 1.7"
   ]
  },
  {
   "cell_type": "code",
   "execution_count": 9,
   "metadata": {},
   "outputs": [],
   "source": [
    "# Select number of samples to generate\n",
    "n = 100\n",
    "# Select mcmc start\n",
    "mcmc_start = 1\n",
    "\n",
    "# Generate\n",
    "theta_low_init = np.random.lognormal(mean=np.log(theta_low_noise),sigma=np.ones(2)*[0.001,0.1],size=(n,2))\n",
    "\n",
    "# Generate samples from Log Normal distribution cenet\n",
    "x_low_init = np.log(np.random.lognormal(mean=xd,sigma=np.ones(M)*0.01,size=(n,M)))\n",
    "sums = [np.sum(x) for x in x_low_init]\n",
    "\n",
    "# Generate vector of ones for the sign samples\n",
    "sign_low_init = np.ones((n))"
   ]
  },
  {
   "cell_type": "markdown",
   "metadata": {},
   "source": [
    "## Theta update step size tuning"
   ]
  },
  {
   "cell_type": "code",
   "execution_count": 10,
   "metadata": {},
   "outputs": [
    {
     "name": "stdout",
     "output_type": "stream",
     "text": [
      "Theta opt\n",
      "[1.14 0.02]\n",
      "Theta init\n",
      "[1.14008136 0.01992068]\n",
      "First theta transition\n",
      "[1.14017639 0.01993854]\n"
     ]
    }
   ],
   "source": [
    "# Theta update step size tuning\n",
    "Ap = np.array([[ 0.00749674,  0.00182529], [ 0.00182529,  0.00709968]])\n",
    "step = 0.008699999999999998\n",
    "idx = 0\n",
    "first_proposal = theta_low_init[idx] + step*np.dot(Ap, np.random.normal(0, 1, 2))\n",
    "\n",
    "print('Theta opt')\n",
    "print(theta_low_noise)\n",
    "\n",
    "print('Theta init')\n",
    "print(theta_low_init[idx])\n",
    "\n",
    "print('First theta transition') \n",
    "print(first_proposal)"
   ]
  },
  {
   "cell_type": "markdown",
   "metadata": {},
   "source": [
    "## Printing initialisations"
   ]
  },
  {
   "cell_type": "code",
   "execution_count": 435,
   "metadata": {},
   "outputs": [
    {
     "name": "stdout",
     "output_type": "stream",
     "text": [
      "Theta\n",
      "[0.1 1.7]\n",
      "Theta init\n",
      "[[0.09984291 1.72791445]\n",
      " [0.09991047 1.85165745]]\n"
     ]
    }
   ],
   "source": [
    "print('Theta')\n",
    "print(theta_low_noise)\n",
    "print('Theta init')\n",
    "print(theta_low_init[:mcmc_start+1])"
   ]
  },
  {
   "cell_type": "code",
   "execution_count": 436,
   "metadata": {},
   "outputs": [],
   "source": [
    "# actual_theta_initial = np.loadtxt(os.path.join(wd,f\"data/output/{dataset}/inverse_problem/{constrained}_low_noise_theta_samples_initial.txt\"))\n",
    "# print(actual_theta_initial[:mcmc_start+1])"
   ]
  },
  {
   "cell_type": "code",
   "execution_count": 437,
   "metadata": {},
   "outputs": [
    {
     "name": "stdout",
     "output_type": "stream",
     "text": [
      "Log size init\n",
      "[[-0.65796659 -0.76354931]\n",
      " [-0.63646815 -0.73546448]]\n",
      "True log size\n",
      "[-0.64662716 -0.74193734]\n"
     ]
    }
   ],
   "source": [
    "print('Log size init')\n",
    "print(x_low_init[:mcmc_start+1])\n",
    "\n",
    "print('True log size')\n",
    "print(xd)"
   ]
  },
  {
   "cell_type": "markdown",
   "metadata": {},
   "source": [
    "## Visualise init samples of log destination sizes"
   ]
  },
  {
   "cell_type": "code",
   "execution_count": 438,
   "metadata": {
    "scrolled": false
   },
   "outputs": [
    {
     "data": {
      "text/plain": [
       "<matplotlib.legend.Legend at 0x115e62750>"
      ]
     },
     "execution_count": 438,
     "metadata": {},
     "output_type": "execute_result"
    },
    {
     "data": {
      "image/png": "[encoded data removed]",
      "text/plain": [
       "<Figure size 720x720 with 1 Axes>"
      ]
     },
     "metadata": {
      "needs_background": "light"
     },
     "output_type": "display_data"
    },
    {
     "data": {
      "image/png": "[encoded data removed]",
      "text/plain": [
       "<Figure size 720x720 with 1 Axes>"
      ]
     },
     "metadata": {
      "needs_background": "light"
     },
     "output_type": "display_data"
    },
    {
     "data": {
      "image/png": "[encoded data removed]",
      "text/plain": [
       "<Figure size 720x720 with 1 Axes>"
      ]
     },
     "metadata": {
      "needs_background": "light"
     },
     "output_type": "display_data"
    }
   ],
   "source": [
    "xx1 = x_low_init[:mcmc_start+1][0]\n",
    "xx2 = x_low_init[:mcmc_start+1][1]\n",
    "\n",
    "plt.figure(0,figsize=(10,10))\n",
    "plt.title(\"True X\")\n",
    "plt.scatter(origin_locs[:, 1], origin_locs[:, 0], color='w',edgecolors='b',s=100*o, alpha=0.5,label='Origin supply')\n",
    "plt.scatter(destination_locs[:, 1], destination_locs[:, 0], color='w',edgecolors='r', s=1000*np.exp(xd),label='Latent dest sizes')\n",
    "plt.legend()\n",
    "\n",
    "plt.figure(1,figsize=(10,10))\n",
    "plt.title(\"MCMC X initialisation 1\")\n",
    "plt.scatter(origin_locs[:, 1], origin_locs[:, 0], color='w',edgecolors='b',s=100*o, alpha=0.5,label='Origin supply')\n",
    "plt.scatter(destination_locs[:, 1], destination_locs[:, 0], color='w',edgecolors='r', s=1000*np.exp(xx1),label='Latent dest sizes')\n",
    "plt.legend()\n",
    "\n",
    "plt.figure(2,figsize=(10,10))\n",
    "plt.title(\"MCMC X initialisation 2\")\n",
    "plt.scatter(origin_locs[:, 1], origin_locs[:, 0], color='w',edgecolors='b',s=100*o, alpha=0.5,label='Origin supply')\n",
    "plt.scatter(destination_locs[:, 1], destination_locs[:, 0], color='w',edgecolors='r', s=1000*np.exp(xx2),label='Latent dest sizes')\n",
    "plt.legend()"
   ]
  },
  {
   "cell_type": "markdown",
   "metadata": {},
   "source": [
    "# Export initilisations"
   ]
  },
  {
   "cell_type": "code",
   "execution_count": 439,
   "metadata": {},
   "outputs": [],
   "source": [
    "np.savetxt(os.path.join(wd,f\"data/output/{dataset}/inverse_problem/{constrained}_low_noise_theta_samples_initial.txt\"),theta_low_init)\n",
    "np.savetxt(os.path.join(wd,f\"data/output/{dataset}/inverse_problem/{constrained}_low_noise_logsize_samples_initial.txt\"),x_low_init)\n",
    "np.savetxt(os.path.join(wd,f\"data/output/{dataset}/inverse_problem/{constrained}_low_noise_sign_samples_initial.txt\"),sign_low_init)\n",
    "\n",
    "# np.savetxt(os.path.join(wd,f\"data/output/{dataset}/inverse_problem/{constrained}_high_noise_theta_samples_initial.txt\"),theta_high_init)\n",
    "# np.savetxt(os.path.join(wd,f\"data/output/{dataset}/inverse_problem/{constrained}_high_noise_logsize_samples_initial.txt\"),x_high_init)\n",
    "# np.savetxt(os.path.join(wd,f\"data/output/{dataset}/inverse_problem/{constrained}_high_noise_sign_samples_initial.txt\"),sign_high_init)"
   ]
  }
 ],
 "metadata": {
  "kernelspec": {
   "display_name": "MRes project",
   "language": "python",
   "name": "stdm"
  },
  "language_info": {
   "codemirror_mode": {
    "name": "ipython",
    "version": 3
   },
   "file_extension": ".py",
   "mimetype": "text/x-python",
   "name": "python",
   "nbconvert_exporter": "python",
   "pygments_lexer": "ipython3",
   "version": "3.7.5"
  }
 },
 "nbformat": 4,
 "nbformat_minor": 4
}
