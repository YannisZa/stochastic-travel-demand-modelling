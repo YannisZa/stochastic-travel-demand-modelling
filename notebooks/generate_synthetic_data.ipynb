{
 "cells": [
  {
   "cell_type": "code",
   "execution_count": 356,
   "metadata": {},
   "outputs": [],
   "source": [
    "import os\n",
    "import sys\n",
    "import copy\n",
    "import json\n",
    "import numpy as np\n",
    "import pandas as pd\n",
    "import geopandas as gpd\n",
    "import matplotlib.pyplot as plt\n",
    "\n",
    "from tqdm import tqdm\n",
    "from scipy.special import logsumexp\n",
    "from shapely.geometry import shape\n",
    "from scipy.optimize import minimize\n",
    "\n",
    "np.random.seed(888)\n",
    "\n",
    "%matplotlib inline"
   ]
  },
  {
   "cell_type": "code",
   "execution_count": 357,
   "metadata": {},
   "outputs": [],
   "source": [
    "# Get current working directory\n",
    "cwd = os.getcwd()\n",
    "# Remove all children directories\n",
    "rd = os.path.join(cwd.split('stochastic-travel-demand-modelling/', 1)[0])\n",
    "# Make sure directory ends with project's name\n",
    "if not rd.endswith('stochastic-travel-demand-modelling'):\n",
    "    rd = os.path.join(rd,'stochastic-travel-demand-modelling/')\n",
    "    \n",
    "sys.path.append('..')\n",
    "\n",
    "from models.doubly_constrained.spatial_interaction_model import SpatialInteraction as DSIM"
   ]
  },
  {
   "cell_type": "markdown",
   "metadata": {},
   "source": [
    "# Create data\n",
    "\n",
    "## Origin and destination locations"
   ]
  },
  {
   "cell_type": "code",
   "execution_count": 358,
   "metadata": {},
   "outputs": [],
   "source": [
    "# Set artificial info for destination sizes\n",
    "dataset = 'synthetic'\n",
    "var = 'dummy'\n",
    "filepath = '../data/input/synthetic'\n",
    "init_year = 0\n",
    "final_year = 5"
   ]
  },
  {
   "cell_type": "code",
   "execution_count": 359,
   "metadata": {},
   "outputs": [],
   "source": [
    "# Import processed ward coordinates\n",
    "ward_coordinates = gpd.read_file(\"../data/input/misc/ward_coordinates.json\")\n",
    "n_locs = ward_coordinates.shape[0]\n",
    "# Manually create coordinates\n",
    "# origins = [\n",
    "#     {\n",
    "#       \"type\": \"Feature\",\n",
    "#       \"properties\": {\"name\":\"homerton\"},\n",
    "#       \"geometry\": {\n",
    "#         \"type\": \"Point\",\n",
    "#         \"coordinates\": [\n",
    "#           0.15106201171874997,\n",
    "#           52.175510777101074\n",
    "#         ]\n",
    "#       }\n",
    "#     },\n",
    "#     {\n",
    "#       \"type\": \"Feature\",\n",
    "#       \"properties\": {\"name\":\"hughes_hall\"},\n",
    "#       \"geometry\": {\n",
    "#         \"type\": \"Point\",\n",
    "#         \"coordinates\": [\n",
    "#           0.13355255126953125,\n",
    "#           52.19950596108069\n",
    "#         ]\n",
    "#       }\n",
    "#     },\n",
    "#     {\n",
    "#       \"type\": \"Feature\",\n",
    "#       \"properties\": {\"name\":\"newnham\"},\n",
    "#       \"geometry\": {\n",
    "#         \"type\": \"Point\",\n",
    "#         \"coordinates\": [\n",
    "#           0.10282516479492186,\n",
    "#           52.196138997125985\n",
    "#         ]\n",
    "#       }\n",
    "#     }\n",
    "#   ]\n",
    "\n",
    "# destinations = [\n",
    "#     {\n",
    "#       \"type\": \"Feature\",\n",
    "#       \"properties\": {\"name\":\"west_cam\"},\n",
    "#       \"geometry\": {\n",
    "#         \"type\": \"Point\",\n",
    "#         \"coordinates\": [\n",
    "#           0.08050918579101562,\n",
    "#           52.212760902425885\n",
    "#         ]\n",
    "#       }\n",
    "#     },\n",
    "#     {\n",
    "#       \"type\": \"Feature\",\n",
    "#       \"properties\": {\"name\":\"central_cam\"},\n",
    "#       \"geometry\": {\n",
    "#         \"type\": \"Point\",\n",
    "#         \"coordinates\": [\n",
    "#           0.12205123901367186,\n",
    "#           52.20424032262008\n",
    "#         ]\n",
    "#       }\n",
    "#     }\n",
    "# ]\n",
    "\n",
    "# # Get origin and destination locations\n",
    "# origin_locs = [[shape(x['geometry']).x,shape(x['geometry']).y] for x in origins]\n",
    "# destination_locs = [[shape(x['geometry']).x,shape(x['geometry']).y] for x in destinations]\n",
    "\n",
    "# # Get origin and destination names\n",
    "# origin_names = [x['properties']['name'] for x in origins]\n",
    "# destination_names = [x['properties']['name'] for x in destinations]"
   ]
  },
  {
   "cell_type": "code",
   "execution_count": 360,
   "metadata": {},
   "outputs": [],
   "source": [
    "# Take subset of origins and destinations \n",
    "N = 10\n",
    "M = 10\n",
    "\n",
    "\n",
    "if N == 1:\n",
    "    origins = [ward_coordinates[['ward_new','geometry']][0].values]\n",
    "else:\n",
    "    origins = ward_coordinates[['ward_new','geometry']][0:N].values\n",
    "if M == 1: \n",
    "    destinations = [ward_coordinates[['ward_new','geometry']][0].values]\n",
    "else:\n",
    "    destinations = ward_coordinates[['ward_new','geometry']][0:M].values\n",
    "    \n",
    "    \n",
    "# Get origin and destination locations\n",
    "origin_locs = [[x[1].centroid.x,x[1].centroid.y] for x in origins]\n",
    "destination_locs = [[x[1].centroid.x,x[1].centroid.y] for x in destinations]\n",
    "\n",
    "# # Get origin and destination names\n",
    "origin_names = [x[0] for x in origins]\n",
    "destination_names = [x[0] for x in destinations]"
   ]
  },
  {
   "cell_type": "markdown",
   "metadata": {},
   "source": [
    "## Set true parameters"
   ]
  },
  {
   "cell_type": "code",
   "execution_count": 369,
   "metadata": {},
   "outputs": [],
   "source": [
    "# Set true alpha and beta\n",
    "true_alpha = 1.5#1.1\n",
    "true_beta = 4\n",
    "true_delta = 0\n",
    "true_kappa = 1\n",
    "true_gamma = 10000"
   ]
  },
  {
   "cell_type": "markdown",
   "metadata": {},
   "source": [
    "## Create origin-destination data"
   ]
  },
  {
   "cell_type": "code",
   "execution_count": 370,
   "metadata": {},
   "outputs": [],
   "source": [
    "# Set cost matrix\n",
    "cost_matrix = np.ones((N,M))\n",
    "if N != 2 and M != 2:\n",
    "    cost_matrix = np.random.randint(1,(N+1)*(M+1), size=(N,M))\n",
    "    #     for j in range(M):\n",
    "#         cost_matrix[:,j] = np.ones(N)*np.random.randint(1,M+1, size=1)\n",
    "else:\n",
    "    cost_matrix[0,1] = 2\n",
    "    cost_matrix[1,0] = 2\n",
    "\n",
    "# Normalise cost matrix\n",
    "c = cost_matrix/np.sum(cost_matrix)\n",
    "\n",
    "# Set origin supply\n",
    "origin_supply = np.random.randint(1,(N+1)*(M+1), size=(N)) #np.ones(N)\n",
    "o = origin_supply/np.sum(origin_supply)\n",
    "\n",
    "# Set destination demand\n",
    "destination_demand = np.random.randint(1,(N+1)*(M+1), size=(M))\n",
    "d = destination_demand/np.sum(destination_demand)\n",
    "\n",
    "# Set destination sizes\n",
    "initial_destination_sizes = true_kappa * destination_demand\n",
    "xd = np.log(initial_destination_sizes/np.sum(initial_destination_sizes))\n",
    "\n",
    "\n",
    "# # Construct flow matrix\n",
    "T = np.zeros((N,M))\n",
    "\n",
    "# Define parameters\n",
    "theta = np.array([true_alpha, true_beta, true_delta, true_gamma, true_kappa, 1])\n"
   ]
  },
  {
   "cell_type": "code",
   "execution_count": 371,
   "metadata": {},
   "outputs": [
    {
     "name": "stdout",
     "output_type": "stream",
     "text": [
      "<class 'numpy.ndarray'>\n",
      "(10,)\n"
     ]
    }
   ],
   "source": [
    "# Construct flow matrix\n",
    "si = DSIM(dataset)\n",
    "\n",
    "value = si.infer_flows_ipf_procedure(T,\n",
    "                                o,\n",
    "                                d,\n",
    "                                c,\n",
    "                                np.exp(xd),\n",
    "                                np.ones(N),\n",
    "                                np.ones(M),\n",
    "                                N,\n",
    "                                M,\n",
    "                                theta,\n",
    "                                10000,\n",
    "                                0.000000001,\n",
    "                                False)\n",
    "\n",
    "# for i in range(N):\n",
    "#     for j in range(M):\n",
    "#         _sum = 0\n",
    "#         # Compute denominator\n",
    "#         for jj in range(M):\n",
    "#             _sum += np.exp(true_alpha*xd[j]-true_beta*c[i,jj])\n",
    "#         # Compute estimated flow\n",
    "#         T[i,j] = o[i]*np.exp(true_alpha*xd[j]-true_beta*c[i,j]) / _sum"
   ]
  },
  {
   "cell_type": "code",
   "execution_count": 372,
   "metadata": {},
   "outputs": [
    {
     "name": "stdout",
     "output_type": "stream",
     "text": [
      "Cost matrix\n",
      "          0         1         2         3         4         5         6  \\\n",
      "0  0.010340  0.001292  0.001846  0.004062  0.002216  0.008493  0.014032   \n",
      "1  0.006647  0.020679  0.009970  0.012371  0.014032  0.009232  0.004062   \n",
      "2  0.020679  0.005170  0.004247  0.019387  0.006462  0.021603  0.008124   \n",
      "3  0.021603  0.001477  0.000185  0.007755  0.000923  0.008309  0.012186   \n",
      "4  0.008493  0.014586  0.011078  0.009047  0.019387  0.016802  0.021603   \n",
      "5  0.000554  0.005539  0.003139  0.012186  0.020864  0.004247  0.017541   \n",
      "6  0.009601  0.007570  0.009232  0.009232  0.004247  0.012186  0.001292   \n",
      "7  0.007386  0.017910  0.017910  0.000739  0.006278  0.007386  0.016802   \n",
      "8  0.005355  0.011448  0.007755  0.001662  0.007386  0.000369  0.015694   \n",
      "9  0.018648  0.014586  0.001846  0.001662  0.002770  0.008493  0.009601   \n",
      "\n",
      "          7         8         9  \n",
      "0  0.019572  0.003877  0.008678  \n",
      "1  0.020679  0.015694  0.013294  \n",
      "2  0.016433  0.001477  0.014956  \n",
      "3  0.004062  0.012001  0.015510  \n",
      "4  0.004431  0.015325  0.008678  \n",
      "5  0.002216  0.014586  0.016433  \n",
      "6  0.007016  0.014586  0.007386  \n",
      "7  0.009047  0.017356  0.017171  \n",
      "8  0.018648  0.014586  0.003877  \n",
      "9  0.009970  0.001846  0.013109  \n",
      "Flow matrix\n",
      "          0         1         2         3         4         5         6  \\\n",
      "0  0.023067  0.018602  0.016236  0.006052  0.025027  0.003537  0.009203   \n",
      "1  0.030645  0.022533  0.020574  0.007663  0.031249  0.004616  0.012537   \n",
      "2  0.009406  0.007784  0.006834  0.002419  0.010457  0.001426  0.004005   \n",
      "3  0.006168  0.005199  0.004572  0.001668  0.007037  0.000990  0.002593   \n",
      "4  0.007158  0.005433  0.004820  0.001827  0.007197  0.001054  0.002750   \n",
      "5  0.028939  0.022063  0.019487  0.007068  0.028023  0.004340  0.010948   \n",
      "6  0.006728  0.005275  0.004584  0.001724  0.007219  0.001013  0.002816   \n",
      "7  0.024032  0.017921  0.015677  0.006314  0.025353  0.003657  0.009371   \n",
      "8  0.006337  0.004810  0.004270  0.001645  0.006602  0.000984  0.002462   \n",
      "9  0.015414  0.012185  0.011216  0.004221  0.017251  0.002443  0.006471   \n",
      "\n",
      "          7         8         9  \n",
      "0  0.019495  0.009331  0.017982  \n",
      "1  0.025406  0.011651  0.023108  \n",
      "2  0.008390  0.004004  0.007453  \n",
      "3  0.005802  0.002527  0.004894  \n",
      "4  0.006380  0.002746  0.005539  \n",
      "5  0.025209  0.010785  0.021031  \n",
      "6  0.005961  0.002600  0.005256  \n",
      "7  0.020935  0.009103  0.017896  \n",
      "8  0.005269  0.002408  0.004936  \n",
      "9  0.013995  0.006499  0.012204  \n"
     ]
    }
   ],
   "source": [
    "print('Cost matrix')\n",
    "print(pd.DataFrame(c))\n",
    "\n",
    "print('Flow matrix')\n",
    "print(pd.DataFrame(T))"
   ]
  },
  {
   "cell_type": "code",
   "execution_count": 373,
   "metadata": {},
   "outputs": [
    {
     "name": "stdout",
     "output_type": "stream",
     "text": [
      "estimated destination demand\n",
      "[0.15789474 0.12180451 0.10827068 0.0406015  0.16541353 0.02406015\n",
      " 0.06315789 0.1368421  0.06165414 0.12030075]\n",
      "actual destination demand\n",
      "[0.15789474 0.12180451 0.10827068 0.0406015  0.16541353 0.02406015\n",
      " 0.06315789 0.13684211 0.06165414 0.12030075]\n",
      "actual destination sizes\n",
      "[0.15789474 0.12180451 0.10827068 0.0406015  0.16541353 0.02406015\n",
      " 0.06315789 0.13684211 0.06165414 0.12030075]\n"
     ]
    }
   ],
   "source": [
    "print('estimated destination demand')\n",
    "print(np.sum(T,axis=0))\n",
    "print('actual destination demand')\n",
    "print(d)\n",
    "print('actual destination sizes')\n",
    "print(np.exp(xd)/true_kappa)"
   ]
  },
  {
   "cell_type": "code",
   "execution_count": 374,
   "metadata": {},
   "outputs": [
    {
     "name": "stdout",
     "output_type": "stream",
     "text": [
      "estimated origin supply\n",
      "[0.14853195 0.18998273 0.06217617 0.04145078 0.04490501 0.17789292\n",
      " 0.04317789 0.15025907 0.03972366 0.10189983]\n",
      "actual origin supply\n",
      "[0.14853195 0.18998273 0.06217617 0.04145078 0.04490501 0.17789292\n",
      " 0.04317789 0.15025907 0.03972366 0.10189983]\n"
     ]
    }
   ],
   "source": [
    "print('estimated origin supply')\n",
    "print(np.sum(T,axis=1))\n",
    "print('actual origin supply')\n",
    "print(o)"
   ]
  },
  {
   "cell_type": "markdown",
   "metadata": {},
   "source": [
    "# Verify equilibria number and stability\n",
    "\n",
    "This is based on \n",
    "- [1]: page 478 of Rijk, F. J. A., & Vorst, A. C. F. (1983). On the Uniqueness and Existence of Equilibrium Points in an Urban Retail Model. Environment and Planning A: Economy and Space, 15(4), 475–482. https://doi.org/10.1068/a150475\n",
    "- [2]: page 391 of Rijk, F. J. A., & Vorst, A. C. F. (1983). Equilibrium points in an urban retail model and their connection with dynamical systems. Regional Science and Urban Economics, 13(3), 383–399. https://doi.org/10.1016/0166-0462(83)90024-8"
   ]
  },
  {
   "cell_type": "code",
   "execution_count": 375,
   "metadata": {},
   "outputs": [],
   "source": [
    "if M == 2 and N == 2:\n",
    "    cost = true_kappa*(c[0,0]**2 + c[0,1]**2)\n",
    "    a = true_kappa*(c[0,0]*c[0,1])\n",
    "    p = cost/(2*a)\n",
    "    p0 = np.ones((M)) * N/(2*true_kappa)\n",
    "    \n",
    "    if c[0,1] != c[1,0]:\n",
    "        raise ValueError(f\"This is not a symmetric cost matrix {c}\")\n",
    "    \n",
    "    if 0 < true_alpha and true_alpha <= 0.5:\n",
    "        # Obtained from [1]\n",
    "        print('There is exactly 1 unique possible solution to this dynamical system.')\n",
    "    elif true_alpha < 1 or true_alpha >= (0.5*(1+p)):\n",
    "        # Obtained from [1,2]\n",
    "        print('There is exactly 1 possible solution to this dynamical system.')\n",
    "    elif true_alpha > 1 and true_alpha < (0.5*(1+p)): \n",
    "        # Obtained from [2]\n",
    "        print('There is exactly 3 possible solutions to this dynamical system.')\n",
    "    else:\n",
    "        print('This is an unknown case.')\n",
    "        \n",
    "    if true_alpha > (0.5*(1+p)):\n",
    "        print(f'P0 {p0} is unstable.')\n",
    "    elif true_alpha < (0.5*(1+p)): \n",
    "        print(f'P0 {p0} is stable.')\n",
    "    else:\n",
    "        print('This is an unknown case.')\n",
    "        \n",
    "    print(true_alpha,0.5*(1+p),p)\n",
    "    \n",
    "    print(np.min(np.exp(xd)))\n",
    "    "
   ]
  },
  {
   "cell_type": "markdown",
   "metadata": {},
   "source": [
    "# Export data to file"
   ]
  },
  {
   "cell_type": "code",
   "execution_count": 376,
   "metadata": {},
   "outputs": [],
   "source": [
    "# Export cost matrix\n",
    "np.savetxt(f'../data/input/{dataset}/cost_matrix.txt',cost_matrix)\n",
    "\n",
    "# Export flow matrix\n",
    "np.savetxt(f'../data/input/{dataset}/od_matrix.txt',T)\n",
    "\n",
    "# Export origin-related data to txt\n",
    "np.savetxt(f'../data/input/{dataset}/origin_supply.txt',origin_supply)\n",
    "np.savetxt(f'../data/input/{dataset}/origin_locations.txt',origin_locs)\n",
    "np.savetxt(f'../data/input/{dataset}/origins.txt',origin_names,fmt=\"%s\")\n",
    "\n",
    "# Export destination-related data to txt\n",
    "np.savetxt(f'../data/input/{dataset}/destination_demand.txt',destination_demand)\n",
    "np.savetxt(f'../data/input/{dataset}/destination_locations.txt',destination_locs)\n",
    "np.savetxt(f'../data/input/{dataset}/destinations.txt',destination_names,fmt=\"%s\")\n",
    "\n",
    "# Export destination sizes to txt\n",
    "np.savetxt(f'../data/input/{dataset}/initial_destination_sizes.txt',initial_destination_sizes)\n",
    "# np.savetxt(f'../data/input/{dataset}/final_destination_sizes.txt',final_destination_sizes)\n",
    "\n",
    "# Export semantic meaning of destination sizes\n",
    "with open(f\"../data/input/{dataset}/destination_sizes_info.txt\", \"w\") as text_file:\n",
    "    print(f\"destination_sizes_data_filepath,{filepath}\", file=text_file)\n",
    "    print(f\"destination_sizes_variable,{var}\", file=text_file)\n",
    "    print(f\"initial_destination_sizes_year,{str(init_year)}\", file=text_file)\n",
    "#     print(f\"final_destination_sizes_year,{str(final_year)}\", file=text_file)\n",
    "    print(f\"true_alpha,{str(true_alpha)}\", file=text_file)\n",
    "    print(f\"true_beta,{str(true_beta)}\", file=text_file)\n",
    "    print(f\"true_delta,{str(true_delta)}\", file=text_file)\n",
    "    print(f\"true_kappa,{str(true_kappa)}\", file=text_file)"
   ]
  }
 ],
 "metadata": {
  "kernelspec": {
   "display_name": "MRes project",
   "language": "python",
   "name": "stdm"
  },
  "language_info": {
   "codemirror_mode": {
    "name": "ipython",
    "version": 3
   },
   "file_extension": ".py",
   "mimetype": "text/x-python",
   "name": "python",
   "nbconvert_exporter": "python",
   "pygments_lexer": "ipython3",
   "version": "3.7.5"
  }
 },
 "nbformat": 4,
 "nbformat_minor": 4
}
