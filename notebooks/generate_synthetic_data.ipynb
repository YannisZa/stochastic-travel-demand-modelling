{
 "cells": [
  {
   "cell_type": "code",
   "execution_count": 2,
   "metadata": {},
   "outputs": [],
   "source": [
    "import copy\n",
    "import json\n",
    "import numpy as np\n",
    "import pandas as pd\n",
    "import geopandas as gpd\n",
    "import matplotlib.pyplot as plt\n",
    "\n",
    "from tqdm import tqdm\n",
    "from scipy.special import logsumexp\n",
    "from shapely.geometry import shape\n",
    "from scipy.optimize import minimize"
   ]
  },
  {
   "cell_type": "markdown",
   "metadata": {},
   "source": [
    "# Create data"
   ]
  },
  {
   "cell_type": "code",
   "execution_count": 3,
   "metadata": {},
   "outputs": [],
   "source": [
    "origins = [\n",
    "    {\n",
    "      \"type\": \"Feature\",\n",
    "      \"properties\": {\"name\":\"homerton\"},\n",
    "      \"geometry\": {\n",
    "        \"type\": \"Point\",\n",
    "        \"coordinates\": [\n",
    "          0.15106201171874997,\n",
    "          52.175510777101074\n",
    "        ]\n",
    "      }\n",
    "    },\n",
    "    {\n",
    "      \"type\": \"Feature\",\n",
    "      \"properties\": {\"name\":\"hughes_hall\"},\n",
    "      \"geometry\": {\n",
    "        \"type\": \"Point\",\n",
    "        \"coordinates\": [\n",
    "          0.13355255126953125,\n",
    "          52.19950596108069\n",
    "        ]\n",
    "      }\n",
    "    },\n",
    "    {\n",
    "      \"type\": \"Feature\",\n",
    "      \"properties\": {\"name\":\"newnham\"},\n",
    "      \"geometry\": {\n",
    "        \"type\": \"Point\",\n",
    "        \"coordinates\": [\n",
    "          0.10282516479492186,\n",
    "          52.196138997125985\n",
    "        ]\n",
    "      }\n",
    "    }\n",
    "  ]\n",
    "\n",
    "destinations = [\n",
    "    {\n",
    "      \"type\": \"Feature\",\n",
    "      \"properties\": {\"name\":\"west_cam\"},\n",
    "      \"geometry\": {\n",
    "        \"type\": \"Point\",\n",
    "        \"coordinates\": [\n",
    "          0.08050918579101562,\n",
    "          52.212760902425885\n",
    "        ]\n",
    "      }\n",
    "    },\n",
    "    {\n",
    "      \"type\": \"Feature\",\n",
    "      \"properties\": {\"name\":\"central_cam\"},\n",
    "      \"geometry\": {\n",
    "        \"type\": \"Point\",\n",
    "        \"coordinates\": [\n",
    "          0.12205123901367186,\n",
    "          52.20424032262008\n",
    "        ]\n",
    "      }\n",
    "    }\n",
    "]"
   ]
  },
  {
   "cell_type": "code",
   "execution_count": 4,
   "metadata": {},
   "outputs": [],
   "source": [
    "# Get origin and destination locations\n",
    "origin_locs = [[shape(x['geometry']).x,shape(x['geometry']).y] for x in origins]\n",
    "destination_locs = [[shape(x['geometry']).x,shape(x['geometry']).y] for x in destinations]\n",
    "\n",
    "# Get origin and destination names\n",
    "origin_names = [x['properties']['name'] for x in origins]\n",
    "destination_names = [x['properties']['name'] for x in destinations]\n",
    "\n",
    "# Get number of origins and destinations\n",
    "N,M = len(origin_names),len(destination_names)"
   ]
  },
  {
   "cell_type": "code",
   "execution_count": 5,
   "metadata": {},
   "outputs": [],
   "source": [
    "# Setorigin supplies and destination demands\n",
    "origin_supply = np.ones(N)\n",
    "destination_demand = np.ones(M)"
   ]
  },
  {
   "cell_type": "code",
   "execution_count": 6,
   "metadata": {},
   "outputs": [],
   "source": [
    "# Set cost matrix\n",
    "cost_matrix = np.ones((N,M))\n",
    "cost_matrix[:,1] = np.ones(N)*2"
   ]
  },
  {
   "cell_type": "code",
   "execution_count": 7,
   "metadata": {},
   "outputs": [],
   "source": [
    "# Set destination sizes\n",
    "initial_destination_sizes = np.array([2.0,4.0]) #np.ones((M)) * 2\n",
    "final_destination_sizes = np.array([3.0,5.0]) #np.ones((M)) * 2"
   ]
  },
  {
   "cell_type": "code",
   "execution_count": 8,
   "metadata": {},
   "outputs": [],
   "source": [
    "# Set artificial info for destination sizes\n",
    "dataset = 'synthetic'\n",
    "var = 'dummy'\n",
    "filepath = '../data/input/synthetic'\n",
    "init_year = 0\n",
    "final_year = 5"
   ]
  },
  {
   "cell_type": "code",
   "execution_count": 12,
   "metadata": {},
   "outputs": [
    {
     "data": {
      "text/plain": [
       "['homerton', 'hughes_hall', 'newnham']"
      ]
     },
     "execution_count": 12,
     "metadata": {},
     "output_type": "execute_result"
    }
   ],
   "source": [
    "origin_names"
   ]
  },
  {
   "cell_type": "code",
   "execution_count": 13,
   "metadata": {},
   "outputs": [
    {
     "data": {
      "text/plain": [
       "['west_cam', 'central_cam']"
      ]
     },
     "execution_count": 13,
     "metadata": {},
     "output_type": "execute_result"
    }
   ],
   "source": [
    "destination_names"
   ]
  },
  {
   "cell_type": "code",
   "execution_count": 14,
   "metadata": {},
   "outputs": [
    {
     "data": {
      "text/plain": [
       "array([[1., 2.],\n",
       "       [1., 2.],\n",
       "       [1., 2.]])"
      ]
     },
     "execution_count": 14,
     "metadata": {},
     "output_type": "execute_result"
    }
   ],
   "source": [
    "cost_matrix"
   ]
  },
  {
   "cell_type": "markdown",
   "metadata": {},
   "source": [
    "# Export data to file"
   ]
  },
  {
   "cell_type": "code",
   "execution_count": 45,
   "metadata": {},
   "outputs": [],
   "source": [
    "# Export cost matrix\n",
    "np.savetxt(f'../data/input/{dataset}/cost_matrix.txt',cost_matrix)"
   ]
  },
  {
   "cell_type": "code",
   "execution_count": 42,
   "metadata": {},
   "outputs": [],
   "source": [
    "# Export origin-related data to txt\n",
    "np.savetxt(f'../data/input/{dataset}/origin_supply.txt',origin_supply)\n",
    "np.savetxt(f'../data/input/{dataset}/origin_locations.txt',origin_locs)\n",
    "np.savetxt(f'../data/input/{dataset}/origins.txt',origin_names,fmt=\"%s\")"
   ]
  },
  {
   "cell_type": "code",
   "execution_count": 47,
   "metadata": {},
   "outputs": [],
   "source": [
    "# Export destination-related data to txt\n",
    "# np.savetxt(f'../data/input/{dataset}/destination_demand.txt',destination_demand)\n",
    "np.savetxt(f'../data/input/{dataset}/destination_locations.txt',destination_locs)\n",
    "np.savetxt(f'../data/input/{dataset}/destinations.txt',destination_names,fmt=\"%s\")"
   ]
  },
  {
   "cell_type": "code",
   "execution_count": 43,
   "metadata": {},
   "outputs": [],
   "source": [
    "# Export destination sizes to txt\n",
    "np.savetxt(f'../data/input/{dataset}/initial_destination_sizes.txt',initial_destination_sizes)\n",
    "np.savetxt(f'../data/input/{dataset}/final_destination_sizes.txt',final_destination_sizes)"
   ]
  },
  {
   "cell_type": "code",
   "execution_count": 44,
   "metadata": {},
   "outputs": [],
   "source": [
    "# Export semantic meaning of destination sizes\n",
    "with open(f\"../data/input/{dataset}/destination_sizes_info.txt\", \"w\") as text_file:\n",
    "    print(f\"destination_sizes_data_filepath,{filepath}\", file=text_file)\n",
    "    print(f\"destination_sizes_variable,{var}\", file=text_file)\n",
    "    print(f\"initial_destination_sizes_year,{str(init_year)}\", file=text_file)\n",
    "    print(f\"final_destination_sizes_year,{str(final_year)}\", file=text_file)"
   ]
  }
 ],
 "metadata": {
  "kernelspec": {
   "display_name": "MRes project",
   "language": "python",
   "name": "stdm"
  },
  "language_info": {
   "codemirror_mode": {
    "name": "ipython",
    "version": 3
   },
   "file_extension": ".py",
   "mimetype": "text/x-python",
   "name": "python",
   "nbconvert_exporter": "python",
   "pygments_lexer": "ipython3",
   "version": "3.7.5"
  }
 },
 "nbformat": 4,
 "nbformat_minor": 4
}
