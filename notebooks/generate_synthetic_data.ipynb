{
 "cells": [
  {
   "cell_type": "code",
   "execution_count": 56,
   "metadata": {},
   "outputs": [],
   "source": [
    "import os\n",
    "import sys\n",
    "import copy\n",
    "import json\n",
    "import numpy as np\n",
    "import pandas as pd\n",
    "import geopandas as gpd\n",
    "import matplotlib.pyplot as plt\n",
    "\n",
    "from tqdm import tqdm\n",
    "from scipy.special import logsumexp\n",
    "from shapely.geometry import shape\n",
    "from scipy.optimize import minimize\n",
    "\n",
    "# Get current working directory and project root directory\n",
    "cwd = os.getcwd()\n",
    "rd = os.path.join(cwd.split('stochastic-travel-demand-modelling/', 1)[0])\n",
    "if not rd.endswith('stochastic-travel-demand-modelling'):\n",
    "    rd = os.path.join(cwd.split('stochastic-travel-demand-modelling/', 1)[0],'stochastic-travel-demand-modelling')\n",
    "\n",
    "if rd not in sys.path:\n",
    "    sys.path.append(rd)\n",
    "\n",
    "np.random.seed(888)\n",
    "\n",
    "%matplotlib inline"
   ]
  },
  {
   "cell_type": "code",
   "execution_count": 57,
   "metadata": {},
   "outputs": [],
   "source": [
    "# Get current working directory\n",
    "cwd = os.getcwd()\n",
    "# Remove all children directories\n",
    "rd = os.path.join(cwd.split('stochastic-travel-demand-modelling/', 1)[0])\n",
    "# Make sure directory ends with project's name\n",
    "if not rd.endswith('stochastic-travel-demand-modelling'):\n",
    "    rd = os.path.join(rd,'stochastic-travel-demand-modelling/')\n",
    "    \n",
    "sys.path.append('..')\n",
    "\n",
    "from models.singly_constrained.spatial_interaction_model import SpatialInteraction"
   ]
  },
  {
   "cell_type": "markdown",
   "metadata": {},
   "source": [
    "# Create data\n",
    "\n",
    "## Origin and destination locations"
   ]
  },
  {
   "cell_type": "code",
   "execution_count": 82,
   "metadata": {},
   "outputs": [],
   "source": [
    "# Set artificial info for destination sizes\n",
    "dataset = 'synthetic'\n",
    "var = 'dummy'\n",
    "filepath = '../data/input/synthetic'\n",
    "init_year = 0\n",
    "final_year = 5\n",
    "cambridge_data = True # False would generate Ward locations and randomly populate cost and flow matrix\n",
    "\n",
    "# Take subset of origins and destinations \n",
    "N = 3\n",
    "M = 2"
   ]
  },
  {
   "cell_type": "code",
   "execution_count": 83,
   "metadata": {},
   "outputs": [],
   "source": [
    "if not cambridge_data:\n",
    "    # Import processed ward coordinates\n",
    "    ward_coordinates = gpd.read_file(\"../data/input/misc/ward_coordinates.json\")\n",
    "    n_locs = ward_coordinates.shape[0]\n",
    "    \n",
    "    if N == 1:\n",
    "        origins = [ward_coordinates[['ward_new','geometry']][0].values]\n",
    "    else:\n",
    "        origins = ward_coordinates[['ward_new','geometry']][0:N].values\n",
    "    if M == 1: \n",
    "        destinations = [ward_coordinates[['ward_new','geometry']][0].values]\n",
    "    else:\n",
    "        destinations = ward_coordinates[['ward_new','geometry']][0:M].values\n",
    "\n",
    "\n",
    "    # Get origin and destination locations\n",
    "    origin_locs = [[x[1].centroid.x,x[1].centroid.y] for x in origins]\n",
    "    destination_locs = [[x[1].centroid.x,x[1].centroid.y] for x in destinations]\n",
    "\n",
    "    # # Get origin and destination names\n",
    "    origin_names = [x[0] for x in origins]\n",
    "    destination_names = [x[0] for x in destinations]\n",
    "    \n",
    "else:\n",
    "    # Manually create coordinates\n",
    "    origins = [\n",
    "        {\n",
    "          \"type\": \"Feature\",\n",
    "          \"properties\": {\"name\":\"homerton\"},\n",
    "          \"geometry\": {\n",
    "            \"type\": \"Point\",\n",
    "            \"coordinates\": [\n",
    "              0.15106201171874997,\n",
    "              52.175510777101074\n",
    "            ]\n",
    "          }\n",
    "        },\n",
    "        {\n",
    "          \"type\": \"Feature\",\n",
    "          \"properties\": {\"name\":\"hughes_hall\"},\n",
    "          \"geometry\": {\n",
    "            \"type\": \"Point\",\n",
    "            \"coordinates\": [\n",
    "              0.13355255126953125,\n",
    "              52.19950596108069\n",
    "            ]\n",
    "          }\n",
    "        },\n",
    "        {\n",
    "          \"type\": \"Feature\",\n",
    "          \"properties\": {\"name\":\"newnham\"},\n",
    "          \"geometry\": {\n",
    "            \"type\": \"Point\",\n",
    "            \"coordinates\": [\n",
    "              0.10282516479492186,\n",
    "              52.196138997125985\n",
    "            ]\n",
    "          }\n",
    "        }\n",
    "      ]\n",
    "\n",
    "    destinations = [\n",
    "        {\n",
    "          \"type\": \"Feature\",\n",
    "          \"properties\": {\"name\":\"west_cam\"},\n",
    "          \"geometry\": {\n",
    "            \"type\": \"Point\",\n",
    "            \"coordinates\": [\n",
    "              0.08050918579101562,\n",
    "              52.212760902425885\n",
    "            ]\n",
    "          }\n",
    "        },\n",
    "        {\n",
    "          \"type\": \"Feature\",\n",
    "          \"properties\": {\"name\":\"central_cam\"},\n",
    "          \"geometry\": {\n",
    "            \"type\": \"Point\",\n",
    "            \"coordinates\": [\n",
    "              0.12205123901367186,\n",
    "              52.20424032262008\n",
    "            ]\n",
    "          }\n",
    "        }\n",
    "    ]\n",
    "\n",
    "    # Get origin and destination locations\n",
    "    origin_locs = [[shape(x['geometry']).x,shape(x['geometry']).y] for x in origins]\n",
    "    destination_locs = [[shape(x['geometry']).x,shape(x['geometry']).y] for x in destinations]\n",
    "\n",
    "    # Get origin and destination names\n",
    "    origin_names = [x['properties']['name'] for x in origins]\n",
    "    destination_names = [x['properties']['name'] for x in destinations]\n",
    "    \n",
    "    \n",
    "    if N == 1:\n",
    "        origins = [origins[0]]\n",
    "    else:\n",
    "        origins = origins[0:(N+1)]\n",
    "    if M == 1: \n",
    "        destinations = [destinations[0]]\n",
    "    else:\n",
    "        destinations = destinations[0:(M+1)]"
   ]
  },
  {
   "cell_type": "markdown",
   "metadata": {},
   "source": [
    "## Set true parameters"
   ]
  },
  {
   "cell_type": "code",
   "execution_count": 84,
   "metadata": {},
   "outputs": [],
   "source": [
    "# Set true alpha and beta\n",
    "true_alpha = 0.8 #1.1\n",
    "true_beta = 6.469646964696469 # 4.158415841584159 #6.470\n",
    "true_delta = 0\n",
    "true_kappa = 1 + true_delta*M\n",
    "true_gamma = 10000\n",
    "true_epsilon = 1\n",
    "\n",
    "theta = np.array([true_alpha,true_beta,true_delta,true_gamma,true_kappa,true_epsilon])"
   ]
  },
  {
   "cell_type": "markdown",
   "metadata": {},
   "source": [
    "## Create or import origin-destination data"
   ]
  },
  {
   "cell_type": "code",
   "execution_count": 100,
   "metadata": {},
   "outputs": [],
   "source": [
    "create_data = True"
   ]
  },
  {
   "cell_type": "code",
   "execution_count": 101,
   "metadata": {},
   "outputs": [],
   "source": [
    "if create_data:\n",
    "    # Set cost matrix\n",
    "    cost_matrix =  np.random.randint(1,(N+1)*(M+1), size=(N,M))#np.ones((N,M))\n",
    "    c = cost_matrix/np.sum(cost_matrix)\n",
    "\n",
    "    # Set origin supply\n",
    "    origin_supply = np.random.randint(1,(N+1)*(M+1), size=(N)) #np.ones(N)\n",
    "    o = origin_supply/np.sum(origin_supply)\n",
    "\n",
    "    # Set destination demand\n",
    "    destination_demand = np.random.randint(1,(N+1)*(M+1), size=(M))\n",
    "    d = destination_demand/np.sum(destination_demand)\n",
    "\n",
    "    # Set destination sizes\n",
    "    initial_destination_sizes = (true_kappa + true_delta * M) * destination_demand\n",
    "    xd = np.log(initial_destination_sizes/np.sum(initial_destination_sizes))\n",
    "\n",
    "    # Construct flow matrix\n",
    "    T = np.zeros((N,M))\n",
    "    \n",
    "    if N == 2 and M == 2:\n",
    "        origin_supply = np.array([8,6])\n",
    "        o = o/np.sum(origin_supply)\n",
    "\n",
    "        destination_demand = np.array([8,6])\n",
    "        d = destination_demand/np.sum(destination_demand)\n",
    "\n",
    "        cost_matrix = np.array([[-1,4],[4,-1]])\n",
    "        cost_matrix[0,0] = np.random.randint(1,10,1)\n",
    "        cost_matrix[1,1] = np.random.randint(1,10,1)\n",
    "        c = cost_matrix/np.sum(cost_matrix)\n",
    "        \n",
    "        initial_destination_sizes = np.array([8,6])\n",
    "        \n",
    "        xd = np.log(d)\n",
    "    \n",
    "    elif N == 3 and M == 2:\n",
    "        # Set cost matrix\n",
    "        cost_matrix = np.array([[1,2],[0.5,0.5],[2,1]])\n",
    "        c = cost_matrix/np.sum(cost_matrix)\n",
    "\n",
    "        # Set origin supply\n",
    "        origin_supply = np.array([1,1,1])\n",
    "        o = origin_supply/np.sum(origin_supply)\n",
    "\n",
    "        # Set destination demand\n",
    "        destination_demand = np.array([1.1,1])# np.array([1,2])\n",
    "        d = destination_demand/np.sum(destination_demand)\n",
    "\n",
    "        # Set destination sizes\n",
    "        initial_destination_sizes = (true_kappa + true_delta * M) * destination_demand\n",
    "        xd = np.log(initial_destination_sizes/np.sum(initial_destination_sizes))\n",
    "else:\n",
    "    # Import relevant data\n",
    "    origin_supply = np.loadtxt(f'../data/input/synthetic/origin_supply.txt')\n",
    "    destination_demand = np.loadtxt(f'../data/input/synthetic/destination_demand.txt')\n",
    "    initial_destination_sizes = np.loadtxt(f'../data/input/synthetic/initial_destination_sizes.txt')\n",
    "    cost_matrix = np.loadtxt(f'../data/input/synthetic/cost_matrix.txt')\n",
    "    destinations = np.loadtxt(f'../data/input/synthetic/destinations.txt',dtype='str',delimiter='\\n')\n",
    "\n",
    "    # Store dimensions\n",
    "    N,M = cost_matrix.shape\n",
    "\n",
    "    # Normalise log sizes\n",
    "    xd = np.log(initial_destination_sizes/np.sum(initial_destination_sizes))\n",
    "    # Normalise normalised cost_matrix\n",
    "    c = cost_matrix/np.sum(cost_matrix)\n",
    "    # Normalise normalised origin_supply\n",
    "    o = origin_supply/np.sum(origin_supply)\n",
    "    # Normalise destination demand\n",
    "    d = destination_demand/np.sum(destination_demand)\n",
    "\n",
    "# Define parameters\n",
    "theta = np.array([true_alpha, true_beta, true_delta, true_gamma, true_kappa, 1]).astype('float64')"
   ]
  },
  {
   "cell_type": "code",
   "execution_count": 102,
   "metadata": {},
   "outputs": [
    {
     "name": "stdout",
     "output_type": "stream",
     "text": [
      "true_beta 6.469646964696469\n",
      "min cost contribution 0.15747783491130046\n",
      "max cost contribution 0.6299482282618398\n"
     ]
    },
    {
     "data": {
      "image/png": "[encoded data removed]",
      "text/plain": [
       "<Figure size 432x288 with 1 Axes>"
      ]
     },
     "metadata": {
      "needs_background": "light"
     },
     "output_type": "display_data"
    }
   ],
   "source": [
    "trials = np.linspace(0,10,10000)\n",
    "y = [np.max(np.exp(-c*x))-np.min(np.exp(-c*x)) for x in trials]\n",
    "\n",
    "plt.plot(trials,y)\n",
    "\n",
    "true_beta = trials[np.argmax(y)]\n",
    "print('true_beta',true_beta)\n",
    "\n",
    "print('min cost contribution',np.min(np.exp(-c*true_beta)))\n",
    "print('max cost contribution',np.max(np.exp(-c*true_beta)))"
   ]
  },
  {
   "cell_type": "code",
   "execution_count": 103,
   "metadata": {},
   "outputs": [
    {
     "name": "stdout",
     "output_type": "stream",
     "text": [
      "<class 'numpy.ndarray'>\n",
      "(3,)\n"
     ]
    }
   ],
   "source": [
    "T = np.zeros((N,M))\n",
    "\n",
    "# Construct flow matrix\n",
    "si = DSIM(dataset)\n",
    "\n",
    "value = si.infer_flows_ipf_procedure(T,\n",
    "                                o,\n",
    "                                d,\n",
    "                                c,\n",
    "                                np.exp(xd)*true_kappa,\n",
    "                                np.ones(N),\n",
    "                                np.ones(M),\n",
    "                                N,\n",
    "                                M,\n",
    "                                theta,\n",
    "                                10000,\n",
    "                                0.000000001,\n",
    "                                False)\n"
   ]
  },
  {
   "cell_type": "markdown",
   "metadata": {},
   "source": [
    "# Print key variables"
   ]
  },
  {
   "cell_type": "code",
   "execution_count": 104,
   "metadata": {},
   "outputs": [
    {
     "name": "stdout",
     "output_type": "stream",
     "text": [
      "Cost matrix\n",
      "     0    1\n",
      "0  1.0  2.0\n",
      "1  0.5  0.5\n",
      "2  2.0  1.0\n",
      "          0         1\n",
      "0  0.142857  0.285714\n",
      "1  0.071429  0.071429\n",
      "2  0.285714  0.142857\n",
      "Flow matrix\n",
      "          0         1\n",
      "0  0.245836  0.087497\n",
      "1  0.175727  0.157607\n",
      "2  0.102246  0.231087\n"
     ]
    }
   ],
   "source": [
    "print('Cost matrix')\n",
    "print(pd.DataFrame(cost_matrix))\n",
    "print(pd.DataFrame(c))\n",
    "\n",
    "print('Flow matrix')\n",
    "print(pd.DataFrame(T))"
   ]
  },
  {
   "cell_type": "code",
   "execution_count": 105,
   "metadata": {},
   "outputs": [
    {
     "name": "stdout",
     "output_type": "stream",
     "text": [
      "estimated destination demand\n",
      "[0.52380952 0.47619048]\n",
      "actual destination demand\n",
      "[0.52380952 0.47619048]\n",
      "estimated destination sizes\n",
      "[0.52380952 0.47619048]\n",
      "actual destination sizes\n",
      "[0.52380952 0.47619048]\n"
     ]
    }
   ],
   "source": [
    "print('estimated destination demand')\n",
    "print(np.sum(T,axis=0))\n",
    "print('actual destination demand')\n",
    "print(d)\n",
    "print('estimated destination sizes')\n",
    "print(np.sum(T,axis=0)/true_kappa)\n",
    "print('actual destination sizes')\n",
    "print(initial_destination_sizes/np.sum(initial_destination_sizes))"
   ]
  },
  {
   "cell_type": "code",
   "execution_count": 106,
   "metadata": {},
   "outputs": [
    {
     "name": "stdout",
     "output_type": "stream",
     "text": [
      "estimated origin supply\n",
      "[0.33333333 0.33333333 0.33333333]\n",
      "actual origin supply\n",
      "[0.33333333 0.33333333 0.33333333]\n"
     ]
    }
   ],
   "source": [
    "print('estimated origin supply')\n",
    "print(np.sum(T,axis=1))\n",
    "print('actual origin supply')\n",
    "print(o)"
   ]
  },
  {
   "cell_type": "code",
   "execution_count": 107,
   "metadata": {},
   "outputs": [
    {
     "name": "stdout",
     "output_type": "stream",
     "text": [
      "Minimum destination size\n",
      "0.47619047619047616\n",
      "alpha 0.8\n",
      "beta 6.469646964696469\n"
     ]
    }
   ],
   "source": [
    "print(\"Minimum destination size\")\n",
    "print(np.min(np.exp(xd)))\n",
    "\n",
    "print('alpha',true_alpha)\n",
    "print('beta',true_beta)"
   ]
  },
  {
   "cell_type": "markdown",
   "metadata": {},
   "source": [
    "# Verify equilibria number and stability\n",
    "\n",
    "This is based on \n",
    "- [1]: page 478 of Rijk, F. J. A., & Vorst, A. C. F. (1983). On the Uniqueness and Existence of Equilibrium Points in an Urban Retail Model. Environment and Planning A: Economy and Space, 15(4), 475–482. https://doi.org/10.1068/a150475\n",
    "- [2]: page 391 of Rijk, F. J. A., & Vorst, A. C. F. (1983). Equilibrium points in an urban retail model and their connection with dynamical systems. Regional Science and Urban Economics, 13(3), 383–399. https://doi.org/10.1016/0166-0462(83)90024-8"
   ]
  },
  {
   "cell_type": "code",
   "execution_count": 108,
   "metadata": {},
   "outputs": [
    {
     "name": "stdout",
     "output_type": "stream",
     "text": [
      "0.47619047619047616\n"
     ]
    }
   ],
   "source": [
    "if M == 2 and N == 2 and (T[0,1]-T[1,0]) <= 0.000001:\n",
    "    cost = true_kappa*(c[0,0]**2 + c[0,1]**2)\n",
    "    a = true_kappa*(c[0,0]*c[0,1])\n",
    "    p = cost/(2*a)\n",
    "    p0 = np.ones((M)) * N/(2*true_kappa)\n",
    "    \n",
    "    if c[0,1] != c[1,0]:\n",
    "        raise ValueError(f\"This is not a symmetric cost matrix {c}\")\n",
    "    \n",
    "    if 0 < true_alpha and true_alpha <= 0.5:\n",
    "        # Obtained from [1]\n",
    "        print('There is exactly 1 unique possible solution to this dynamical system.')\n",
    "    elif true_alpha < 1 or true_alpha >= (0.5*(1+p)):\n",
    "        # Obtained from [1,2]\n",
    "        print('There is exactly 1 possible solution to this dynamical system.')\n",
    "    elif true_alpha > 1 and true_alpha < (0.5*(1+p)): \n",
    "        # Obtained from [2]\n",
    "        print('There is exactly 3 possible solutions to this dynamical system.')\n",
    "    else:\n",
    "        print('This is an unknown case.')\n",
    "        \n",
    "    if true_alpha > (0.5*(1+p)):\n",
    "        print(f'P0 {p0} is unstable.')\n",
    "    elif true_alpha < (0.5*(1+p)): \n",
    "        print(f'P0 {p0} is stable.')\n",
    "    else:\n",
    "        print('This is an unknown case.')\n",
    "        \n",
    "#     print(true_alpha,0.5*(1+p),p)\n",
    "    \n",
    "print(np.min(np.exp(xd)))\n",
    "    "
   ]
  },
  {
   "cell_type": "code",
   "execution_count": 109,
   "metadata": {},
   "outputs": [],
   "source": [
    "export_data = True"
   ]
  },
  {
   "cell_type": "code",
   "execution_count": 110,
   "metadata": {},
   "outputs": [],
   "source": [
    "if export_data:\n",
    "    # Export cost matrix\n",
    "    np.savetxt(f'../data/input/{dataset}/cost_matrix.txt',cost_matrix)\n",
    "\n",
    "    # Export flow matrix\n",
    "    np.savetxt(f'../data/input/{dataset}/od_matrix.txt',T)\n",
    "\n",
    "    # Export origin-related data to txt\n",
    "    np.savetxt(f'../data/input/{dataset}/origin_supply.txt',origin_supply)\n",
    "    np.savetxt(f'../data/input/{dataset}/origin_locations.txt',origin_locs)\n",
    "    np.savetxt(f'../data/input/{dataset}/origins.txt',origin_names,fmt=\"%s\")\n",
    "\n",
    "    # Export destination-related data to txt\n",
    "    np.savetxt(f'../data/input/{dataset}/destination_demand.txt',destination_demand)\n",
    "    np.savetxt(f'../data/input/{dataset}/destination_locations.txt',destination_locs)\n",
    "    np.savetxt(f'../data/input/{dataset}/destinations.txt',destination_names,fmt=\"%s\")\n",
    "\n",
    "    # Export destination sizes to txt\n",
    "    np.savetxt(f'../data/input/{dataset}/initial_destination_sizes.txt',initial_destination_sizes)\n",
    "    # np.savetxt(f'../data/input/{dataset}/final_destination_sizes.txt',final_destination_sizes)\n",
    "\n",
    "    # Export semantic meaning of destination sizes\n",
    "    with open(f\"../data/input/{dataset}/destination_sizes_info.txt\", \"w\") as text_file:\n",
    "        print(f\"destination_sizes_data_filepath,{filepath}\", file=text_file)\n",
    "        print(f\"destination_sizes_variable,{var}\", file=text_file)\n",
    "        print(f\"initial_destination_sizes_year,{str(init_year)}\", file=text_file)\n",
    "    #     print(f\"final_destination_sizes_year,{str(final_year)}\", file=text_file)\n",
    "        print(f\"true_alpha,{str(true_alpha)}\", file=text_file)\n",
    "        print(f\"true_beta,{str(true_beta)}\", file=text_file)\n",
    "        print(f\"true_delta,{str(true_delta)}\", file=text_file)\n",
    "        print(f\"true_kappa,{str(true_kappa)}\", file=text_file)"
   ]
  },
  {
   "cell_type": "code",
   "execution_count": 111,
   "metadata": {},
   "outputs": [
    {
     "data": {
      "text/plain": [
       "0.8"
      ]
     },
     "execution_count": 111,
     "metadata": {},
     "output_type": "execute_result"
    }
   ],
   "source": [
    "true_alpha"
   ]
  },
  {
   "cell_type": "code",
   "execution_count": 112,
   "metadata": {},
   "outputs": [
    {
     "data": {
      "text/plain": [
       "6.469646964696469"
      ]
     },
     "execution_count": 112,
     "metadata": {},
     "output_type": "execute_result"
    }
   ],
   "source": [
    "true_beta"
   ]
  },
  {
   "cell_type": "markdown",
   "metadata": {},
   "source": [
    "# Check for convexity of potential function\n",
    "\n",
    "Hessian matrix must be semi-positive definite"
   ]
  },
  {
   "cell_type": "code",
   "execution_count": 113,
   "metadata": {},
   "outputs": [],
   "source": [
    "def is_pos_semidef(M):\n",
    "    return np.all(np.linalg.eigvals(M) >= 0)\n",
    "\n",
    "def convexity_test(M):\n",
    "    \n",
    "    if is_pos_semidef(M):\n",
    "        print('Potential function is convex.')\n",
    "        return True\n",
    "    else:\n",
    "        print('Potential function is NOT convex.')\n",
    "        return False\n",
    "    \n",
    "def my_convexity_test(M):\n",
    "    if M.shape[0] != 2:\n",
    "        raise Exception(f'This test does not work for M={M.shape[0]}')\n",
    "    \n",
    "    ratio = np.exp(np.sum(xd)) / (np.sum(np.exp(2*xd)))\n",
    "    \n",
    "    if theta[0] <= ratio:\n",
    "        print('Potential function is convex.')\n",
    "        return True\n",
    "    else:\n",
    "        print(f'ratio = {ratio}')\n",
    "        print(f'alpha = {theta[0]}')\n",
    "        print('Potential function is NOT convex.')\n",
    "        return False\n"
   ]
  },
  {
   "cell_type": "code",
   "execution_count": 114,
   "metadata": {},
   "outputs": [
    {
     "name": "stdout",
     "output_type": "stream",
     "text": [
      "alpha = 0.8, beta = 6.469646964696469, delta = 0.47619047619047616, kappa = 1.9523809523809523\n",
      "Potential function is convex.\n"
     ]
    },
    {
     "data": {
      "text/plain": [
       "True"
      ]
     },
     "execution_count": 114,
     "metadata": {},
     "output_type": "execute_result"
    }
   ],
   "source": [
    "si = SpatialInteraction('synthetic')\n",
    "si.normalise_data()\n",
    "\n",
    "# Change alpha and/or beta\n",
    "# theta[0] = 0.8\n",
    "theta[2] = np.min(np.exp(xd))\n",
    "theta[3] = 1 + np.min(np.exp(xd))*si.M\n",
    "\n",
    "# Print theta\n",
    "print(f'alpha = {theta[0]}, beta = {theta[1]}, delta = {theta[2]}, kappa = {theta[3]}')\n",
    "\n",
    "# Get hessian\n",
    "hessian = si.potential_hessian(xd,theta)\n",
    "\n",
    "# Run convexity test\n",
    "convexity_test(hessian)\n",
    "# my_convexity_test(hessian)"
   ]
  }
 ],
 "metadata": {
  "kernelspec": {
   "display_name": "MRes project",
   "language": "python",
   "name": "stdm"
  },
  "language_info": {
   "codemirror_mode": {
    "name": "ipython",
    "version": 3
   },
   "file_extension": ".py",
   "mimetype": "text/x-python",
   "name": "python",
   "nbconvert_exporter": "python",
   "pygments_lexer": "ipython3",
   "version": "3.7.5"
  }
 },
 "nbformat": 4,
 "nbformat_minor": 4
}
