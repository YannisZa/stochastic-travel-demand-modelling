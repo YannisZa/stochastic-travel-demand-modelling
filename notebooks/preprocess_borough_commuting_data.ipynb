{
 "cells": [
  {
   "cell_type": "code",
   "execution_count": null,
   "metadata": {},
   "outputs": [],
   "source": [
    "import numpy as np\n",
    "import pandas as pd\n",
    "import geopandas as gpd\n",
    "from tqdm import tqdm\n",
    "import copy\n",
    "import json"
   ]
  },
  {
   "cell_type": "markdown",
   "metadata": {},
   "source": [
    "# Import data"
   ]
  },
  {
   "cell_type": "code",
   "execution_count": 13,
   "metadata": {},
   "outputs": [],
   "source": [
    "borough_coordinates = gpd.read_file(\"../data/input/misc/borough_coordinates.json\").set_index('name')"
   ]
  },
  {
   "cell_type": "code",
   "execution_count": 14,
   "metadata": {},
   "outputs": [],
   "source": [
    "# Import Borough json\n",
    "with open('../data/raw/misc/london_boroughs.json') as json_file:\n",
    "    boroughs_coords = json.load(json_file)"
   ]
  },
  {
   "cell_type": "code",
   "execution_count": 15,
   "metadata": {},
   "outputs": [],
   "source": [
    "# Import commuter data\n",
    "borough_commuters = pd.read_csv(\"../data/raw/commuter/commuting-patterns-borough.csv\")\n",
    "bc = copy.deepcopy(borough_commuters)"
   ]
  },
  {
   "cell_type": "markdown",
   "metadata": {},
   "source": [
    "# Clean Borough names and Origin/Destination dataframe"
   ]
  },
  {
   "cell_type": "code",
   "execution_count": 11,
   "metadata": {},
   "outputs": [
    {
     "name": "stderr",
     "output_type": "stream",
     "text": [
      "100%|██████████| 33/33 [00:00<00:00, 51416.06it/s]\n"
     ]
    }
   ],
   "source": [
    "# Collect borough names\n",
    "boroughs = []\n",
    "boroughs_no_spaces = []\n",
    "for f in tqdm(boroughs_coords['features']):\n",
    "    boroughs.append(f['properties']['name'])\n",
    "    boroughs_no_spaces.append(f['properties']['name'].replace(\" \", \"\"))"
   ]
  },
  {
   "cell_type": "code",
   "execution_count": 12,
   "metadata": {},
   "outputs": [],
   "source": [
    "# Subset columns based on borough names\n",
    "bc = bc[['Origin Area']+boroughs+['Into area (A)','Out of area (B)']]\n",
    "\n",
    "# Subset rows based on borough names\n",
    "bc = bc[bc['Origin Area'].isin(boroughs)]"
   ]
  },
  {
   "cell_type": "code",
   "execution_count": null,
   "metadata": {},
   "outputs": [],
   "source": [
    "# Remove spaces from origin names\n",
    "bc.loc[:,'Origin Area'] = bc['Origin Area'].apply(lambda x: x.replace(\" \",\"\"))\n",
    "# Remove spaces from destination names\n",
    "bc = bc.rename(columns = dict(zip(np.sort(boroughs), np.sort(boroughs_no_spaces))))"
   ]
  },
  {
   "cell_type": "code",
   "execution_count": null,
   "metadata": {},
   "outputs": [],
   "source": [
    "# Separate inflow/outflow columns from rest of O/D matrix\n",
    "in_out_flows = copy.deepcopy(bc[['Origin Area','Into area (A)','Out of area (B)']])\n",
    "od_matrix = copy.deepcopy(bc.drop(columns=['Into area (A)','Out of area (B)']))\n",
    "\n",
    "# Rename columns\n",
    "in_out_flows = in_out_flows.rename(columns={'Origin Area':'Origin','Into area (A)':'Inflows','Out of area (B)':'Outflows'})\n",
    "od_matrix = od_matrix.rename(columns={'Origin Area':'Origin'})\n",
    "\n",
    "# Update index\n",
    "in_out_flows = in_out_flows.set_index(keys='Origin')\n",
    "od_matrix = od_matrix.set_index(keys='Origin')\n",
    "\n",
    "# Sort by index\n",
    "in_out_flows = in_out_flows.sort_index(axis=0)\n",
    "od_matrix = od_matrix.sort_index(axis=1).sort_index(axis=0)"
   ]
  },
  {
   "cell_type": "code",
   "execution_count": null,
   "metadata": {},
   "outputs": [],
   "source": [
    "# Get origin supply\n",
    "origin_supply = copy.deepcopy(od_matrix.sum(axis=1).reset_index())\n",
    "# origin_supply = origin_supply.rename(columns={'index':'Origin',0:'Supply'})\n",
    "origin_supply.columns = ['Origin','Supply']\n",
    "origin_supply = origin_supply.set_index('Origin').sort_index()\n",
    "origin_supply['lon'] = borough_coordinates['lon'].values\n",
    "origin_supply['lat'] = borough_coordinates['lat'].values"
   ]
  },
  {
   "cell_type": "code",
   "execution_count": null,
   "metadata": {},
   "outputs": [],
   "source": [
    "# Get destination demand\n",
    "destination_demand = copy.deepcopy(od_matrix.sum(axis=0).reset_index())\n",
    "#destination_demand = destination_demand.rename(columns={'Origin':'Destination',0:'Demand'})\n",
    "destination_demand.columns = ['Destination','Demand']\n",
    "destination_demand = destination_demand.set_index('Destination').sort_index()\n",
    "destination_demand['lon'] = borough_coordinates['lon'].values\n",
    "destination_demand['lat'] = borough_coordinates['lat'].values"
   ]
  },
  {
   "cell_type": "code",
   "execution_count": null,
   "metadata": {},
   "outputs": [],
   "source": [
    "# Replace zeros with ones\n",
    "od_matrix = od_matrix.replace(0,1)"
   ]
  },
  {
   "cell_type": "markdown",
   "metadata": {},
   "source": [
    "# Export data as dataframe and numpy array"
   ]
  },
  {
   "cell_type": "code",
   "execution_count": 38,
   "metadata": {},
   "outputs": [],
   "source": [
    "# Export to csv\n",
    "od_matrix.to_csv('../data/validation/commuter/borough_od_matrix.csv')\n",
    "# Export to txt\n",
    "np.savetxt('../data/validation/commuter/borough_od_matrix.txt',od_matrix.to_numpy())"
   ]
  },
  {
   "cell_type": "code",
   "execution_count": 39,
   "metadata": {},
   "outputs": [],
   "source": [
    "# Export to csv\n",
    "origin_supply.to_csv('../data/validation/commuter/borough_origin_supply.csv')\n",
    "# Export to txt\n",
    "np.savetxt('../data/validation/commuter/borough_origin_supply.txt',origin_supply['Supply'].to_numpy())\n",
    "np.savetxt('../data/validation/commuter/borough_origin_locations.txt',origin_supply[['lon','lat']].to_numpy())"
   ]
  },
  {
   "cell_type": "code",
   "execution_count": 41,
   "metadata": {},
   "outputs": [],
   "source": [
    "# Export to csv\n",
    "destination_demand.to_csv('../data/validation/commuter/borough_destination_demand.csv')\n",
    "# Export to txt\n",
    "np.savetxt('../data/validation/commuter/borough_destination_demand.txt',destination_demand['Demand'].to_numpy())\n",
    "np.savetxt('../data/validation/commuter/borough_locations.txt',destination_demand[['lon','lat']].to_numpy())"
   ]
  },
  {
   "cell_type": "code",
   "execution_count": 37,
   "metadata": {},
   "outputs": [],
   "source": [
    "np.savetxt('../data/input/commuter/destination_locations.txt',destination_demand[['lon','lat']].to_numpy())"
   ]
  }
 ],
 "metadata": {
  "kernelspec": {
   "display_name": "MRes project",
   "language": "python",
   "name": "stdm"
  },
  "language_info": {
   "codemirror_mode": {
    "name": "ipython",
    "version": 3
   },
   "file_extension": ".py",
   "mimetype": "text/x-python",
   "name": "python",
   "nbconvert_exporter": "python",
   "pygments_lexer": "ipython3",
   "version": "3.7.5"
  }
 },
 "nbformat": 4,
 "nbformat_minor": 4
}
