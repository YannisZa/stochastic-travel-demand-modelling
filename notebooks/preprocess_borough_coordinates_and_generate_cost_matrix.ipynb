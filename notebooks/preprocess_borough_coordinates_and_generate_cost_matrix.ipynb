{
 "cells": [
  {
   "cell_type": "code",
   "execution_count": 11,
   "metadata": {},
   "outputs": [],
   "source": [
    "import numpy as np\n",
    "import pandas as pd\n",
    "from tqdm import tqdm\n",
    "from geopandas import GeoDataFrame\n",
    "from shapely.geometry import shape, mapping, Point\n",
    "import copy\n",
    "import json\n",
    "import math"
   ]
  },
  {
   "cell_type": "markdown",
   "metadata": {},
   "source": [
    "# Import data"
   ]
  },
  {
   "cell_type": "code",
   "execution_count": 12,
   "metadata": {},
   "outputs": [],
   "source": [
    "# Import Borough json\n",
    "with open('../data/raw/misc/london_boroughs.json') as json_file:\n",
    "    borough_coordinates = json.load(json_file)"
   ]
  },
  {
   "cell_type": "code",
   "execution_count": 13,
   "metadata": {},
   "outputs": [
    {
     "name": "stderr",
     "output_type": "stream",
     "text": [
      "100%|██████████| 33/33 [00:00<00:00, 7484.56it/s]\n"
     ]
    }
   ],
   "source": [
    "# Collect borough names\n",
    "boroughs = []\n",
    "boroughs_no_spaces = []\n",
    "\n",
    "for f in tqdm(borough_coordinates['features']):\n",
    "    boroughs.append(f['properties']['name'])\n",
    "    boroughs_no_spaces.append(f['properties']['name'].replace(\" \", \"\"))"
   ]
  },
  {
   "cell_type": "markdown",
   "metadata": {},
   "source": [
    "# Construct geopandas dataframe"
   ]
  },
  {
   "cell_type": "code",
   "execution_count": 14,
   "metadata": {},
   "outputs": [],
   "source": [
    "# Convert dictionary to dataframe\n",
    "boroughs_df = pd.DataFrame.from_dict(borough_coordinates['features'])\n",
    "# Remove unnecessary columns to avoid overlap with unpacked columns (see next line)\n",
    "boroughs_df = boroughs_df.drop(columns=['type','id'])\n",
    "# Expand dictionary-like columns\n",
    "boroughs_df = boroughs_df.join(boroughs_df['properties'].apply(pd.Series))\n",
    "# Drop unpacked column and unnecessary columns\n",
    "boroughs_df = boroughs_df.drop(columns=['properties','id','code','inner_statistical'])"
   ]
  },
  {
   "cell_type": "code",
   "execution_count": 15,
   "metadata": {},
   "outputs": [],
   "source": [
    "# Convert geometry to shapely multipolygon\n",
    "boroughs_df['geometry'] = boroughs_df['geometry'].apply(lambda x: shape(x))"
   ]
  },
  {
   "cell_type": "code",
   "execution_count": 16,
   "metadata": {},
   "outputs": [
    {
     "name": "stderr",
     "output_type": "stream",
     "text": [
      "/Users/Yannis/.pyenv/versions/stdm/lib/python3.7/site-packages/pyproj/crs/crs.py:53: FutureWarning: '+init=<authority>:<code>' syntax is deprecated. '<authority>:<code>' is the preferred initialization method. When making the change, be mindful of axis order changes: https://pyproj4.github.io/pyproj/stable/gotchas.html#axis-order-changes-in-proj-6\n",
      "  return _prepare_from_string(\" \".join(pjargs))\n"
     ]
    }
   ],
   "source": [
    "# Convert dataframe to geopandas\n",
    "crs = {'init': 'epsg:4326'}\n",
    "boroughs_gdf = GeoDataFrame(boroughs_df, crs=crs, geometry=boroughs_df['geometry'])"
   ]
  },
  {
   "cell_type": "markdown",
   "metadata": {},
   "source": [
    "# Extract centroid of Boroughs"
   ]
  },
  {
   "cell_type": "code",
   "execution_count": 17,
   "metadata": {},
   "outputs": [],
   "source": [
    "boroughs_gdf['lon'] = boroughs_gdf['geometry'].apply(lambda p: p.centroid.x)\n",
    "boroughs_gdf['lat'] = boroughs_gdf['geometry'].apply(lambda p: p.centroid.y)"
   ]
  },
  {
   "cell_type": "code",
   "execution_count": 18,
   "metadata": {},
   "outputs": [],
   "source": [
    "# Remove spaces from Borough names\n",
    "boroughs_gdf['name'] = boroughs_gdf['name'].map(dict(zip(np.sort(boroughs), np.sort(boroughs_no_spaces))))"
   ]
  },
  {
   "cell_type": "markdown",
   "metadata": {},
   "source": [
    "# Export data to file"
   ]
  },
  {
   "cell_type": "code",
   "execution_count": 19,
   "metadata": {},
   "outputs": [],
   "source": [
    "# boroughs_gdf = boroughs_gdf.sort_values(by='name')\n",
    "# boroughs_gdf.to_file(\"../data/validation/commuter/borough_coordinates.json\", driver='GeoJSON')"
   ]
  },
  {
   "cell_type": "markdown",
   "metadata": {},
   "source": [
    "# Extract conceptual radii of Boroughs"
   ]
  },
  {
   "cell_type": "code",
   "execution_count": 21,
   "metadata": {},
   "outputs": [
    {
     "name": "stderr",
     "output_type": "stream",
     "text": [
      "100%|██████████| 33/33 [00:12<00:00,  2.69it/s]\n"
     ]
    }
   ],
   "source": [
    "# Loop over Multipolygons\n",
    "for i,row in tqdm(boroughs_gdf.iterrows(),total=boroughs_gdf.shape[0]):\n",
    "    # Initialise maximum,minimum distance\n",
    "    max_dist = 0\n",
    "    min_dist = 0\n",
    "    # Loop over polygons in Multipolygon\n",
    "    for polygon in row.geometry:\n",
    "        # Loop over points in polygon (-1 prevents duplicating the first vertex)\n",
    "        for point in polygon.exterior.coords[:-1]:\n",
    "            # Compute distance between centroid and point in polygon\n",
    "            dist = math.sqrt(row.geometry.centroid.distance(Point(point)))\n",
    "            # Update maximum distance if current distance is larger\n",
    "            if dist > max_dist:\n",
    "                max_dist = dist\n",
    "            if dist < max_dist:\n",
    "                min_dist = dist\n",
    "    # Append maximum distance between centroid and polygon and divide by sqrt(2) \n",
    "    # to approximate radius of cirle surrounding polygon\n",
    "    boroughs_gdf.at[i,'max_radius'] = max_dist/math.sqrt(2)\n",
    "    boroughs_gdf.at[i,'min_radius'] = min_dist/math.sqrt(2)\n",
    "    boroughs_gdf.at[i,'avg_radius'] = min_dist #(max_dist+min_dist)/2"
   ]
  },
  {
   "cell_type": "markdown",
   "metadata": {},
   "source": [
    "# Construct cost matrix"
   ]
  },
  {
   "cell_type": "code",
   "execution_count": 22,
   "metadata": {},
   "outputs": [],
   "source": [
    "# Initialise empty cost dataframe\n",
    "cost_matrix = pd.DataFrame(0, index=boroughs_no_spaces, columns=boroughs_no_spaces)\n",
    "# Sort dataframe by index\n",
    "cost_matrix = cost_matrix.sort_index(axis=1).sort_index(axis=0)"
   ]
  },
  {
   "cell_type": "code",
   "execution_count": 23,
   "metadata": {},
   "outputs": [
    {
     "name": "stderr",
     "output_type": "stream",
     "text": [
      "100%|██████████| 33/33 [00:03<00:00,  8.28it/s]\n"
     ]
    }
   ],
   "source": [
    "# Loop over cost matrix rows\n",
    "for origin,row in tqdm(cost_matrix.iterrows(),total=cost_matrix.shape[0]):\n",
    "    # Compute distance between centroids for entries off the diagonal\n",
    "    for destination in boroughs_no_spaces:\n",
    "        # Computations in the case of origin = destination have been completed - so avoid them\n",
    "        if destination != origin:\n",
    "            # Store origin and destination geometry centroids\n",
    "            origin_centroid = boroughs_gdf[boroughs_gdf['name']==origin].geometry.centroid.values[0]\n",
    "            destination_centroid = boroughs_gdf[boroughs_gdf['name']==destination].geometry.centroid.values[0]\n",
    "            # Store distance between origin and destination centroids\n",
    "            cost_matrix.loc[origin,destination] = math.sqrt(origin_centroid.distance(destination_centroid))\n",
    "        else:\n",
    "            # Fill in diagonal with radii values\n",
    "#             cost_matrix.loc[origin,destination] = boroughs_gdf[boroughs_gdf['name']==origin]['max_radius'].values[0]\n",
    "#             cost_matrix.loc[origin,destination] = boroughs_gdf[boroughs_gdf['name']==origin]['min_radius'].values[0]\n",
    "            cost_matrix.loc[origin,destination] = boroughs_gdf[boroughs_gdf['name']==origin]['avg_radius'].values[0]\n",
    "    \n",
    "            "
   ]
  },
  {
   "cell_type": "markdown",
   "metadata": {},
   "source": [
    "# Export cost matrix and Borough names as dataframe and numpy array"
   ]
  },
  {
   "cell_type": "code",
   "execution_count": 26,
   "metadata": {},
   "outputs": [],
   "source": [
    "# Export to csv\n",
    "# cost_matrix.to_csv('../data/validation/commuter/cost_matrix.csv')\n",
    "# Export to txt\n",
    "np.savetxt('../data/input/commuter_borough/cost_matrix.txt',cost_matrix.to_numpy())"
   ]
  }
 ],
 "metadata": {
  "kernelspec": {
   "display_name": "MRes project",
   "language": "python",
   "name": "stdm"
  },
  "language_info": {
   "codemirror_mode": {
    "name": "ipython",
    "version": 3
   },
   "file_extension": ".py",
   "mimetype": "text/x-python",
   "name": "python",
   "nbconvert_exporter": "python",
   "pygments_lexer": "ipython3",
   "version": "3.7.5"
  }
 },
 "nbformat": 4,
 "nbformat_minor": 4
}
