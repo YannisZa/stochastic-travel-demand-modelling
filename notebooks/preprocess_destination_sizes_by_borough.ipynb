{
 "cells": [
  {
   "cell_type": "code",
   "execution_count": 32,
   "metadata": {},
   "outputs": [],
   "source": [
    "import numpy as np\n",
    "import pandas as pd\n",
    "from tqdm import tqdm\n",
    "import copy\n",
    "import json"
   ]
  },
  {
   "cell_type": "markdown",
   "metadata": {},
   "source": [
    "# Import data"
   ]
  },
  {
   "cell_type": "code",
   "execution_count": 33,
   "metadata": {},
   "outputs": [],
   "source": [
    "# Choose filepath\n",
    "filepath = \"../data/raw/commuter/jobs_and_job_density.csv\"\n",
    "\n",
    "# \"../data/raw/commuter/regional_gross_domestic_product.csv\"\n",
    "# \"../data/raw/commuter/jobs_and_job_density.csv\"\n",
    "# \"../data/raw/commuter/total_final_energy_consumption_by_borough.csv\""
   ]
  },
  {
   "cell_type": "code",
   "execution_count": 34,
   "metadata": {},
   "outputs": [],
   "source": [
    "# Import Borough json\n",
    "with open(\"../data/raw/misc/london_boroughs.json\") as json_file:\n",
    "    borough_coordinates = json.load(json_file)\n",
    "    \n",
    "data = pd.read_csv(filepath)"
   ]
  },
  {
   "cell_type": "markdown",
   "metadata": {},
   "source": [
    "# Get Borough names"
   ]
  },
  {
   "cell_type": "code",
   "execution_count": 35,
   "metadata": {},
   "outputs": [
    {
     "name": "stderr",
     "output_type": "stream",
     "text": [
      "100%|██████████| 33/33 [00:00<00:00, 33709.70it/s]\n"
     ]
    }
   ],
   "source": [
    "# Collect borough names\n",
    "boroughs = []\n",
    "boroughs_no_spaces = []\n",
    "\n",
    "for f in tqdm(borough_coordinates['features']):\n",
    "    boroughs.append(f['properties']['name'])\n",
    "    boroughs_no_spaces.append(f['properties']['name'].replace(\" \", \"\"))\n"
   ]
  },
  {
   "cell_type": "markdown",
   "metadata": {},
   "source": [
    "# Obtain emissions data by borough and year"
   ]
  },
  {
   "cell_type": "code",
   "execution_count": 36,
   "metadata": {},
   "outputs": [],
   "source": [
    "# Select initial year\n",
    "init_year = 2001\n",
    "# Select final year\n",
    "final_year = 2005\n",
    "# Select variable\n",
    "var = \"number_of_jobs\"\n",
    "# Select dataset\n",
    "dataset = \"commuter\"\n",
    "# Flag for normalising data\n",
    "normalise = False"
   ]
  },
  {
   "cell_type": "code",
   "execution_count": 37,
   "metadata": {},
   "outputs": [],
   "source": [
    "if \"jobs_and_job_density\" in filepath:\n",
    "    # Map borough names\n",
    "    data.loc[:,'name']=data['area'].map(dict(zip(np.sort(boroughs), np.sort(boroughs_no_spaces))))\n",
    "    \n",
    "    # Slice dataframe to get only London Boroughs\n",
    "    data = copy.deepcopy(data[data['name'].isin(boroughs_no_spaces)])\n",
    "\n",
    "    # Get initial and final year data\n",
    "    init_year_data = copy.deepcopy(data[data['year']==init_year].sort_values(by='area'))\n",
    "    final_year_data = copy.deepcopy(data[data['year']==final_year].sort_values(by='area'))\n",
    "\n",
    "    # # Convert to numpy arrays\n",
    "    init_year_array = init_year_data[var].values\n",
    "    final_year_array = final_year_data[var].values\n",
    "\n",
    "elif \"total_final_energy_consumption_by_borough\" in filepath:\n",
    "    # Map borough names\n",
    "    data.loc[:,'name']=data['Area'].map(dict(zip(np.sort(boroughs), np.sort(boroughs_no_spaces))))\n",
    "\n",
    "    # Get initial and final year data\n",
    "    init_year_data = copy.deepcopy(data[data['Year']==init_year].sort_values(by='Area'))\n",
    "    final_year_data = copy.deepcopy(data[data['Year']==final_year].sort_values(by='Area'))\n",
    "\n",
    "    # # Convert to numpy arrays\n",
    "    init_year_array = init_year_data['Value'].values\n",
    "    final_year_array = final_year_data['Value'].values\n",
    "\n",
    "elif \"regional_gross_domestic_product\" in filepath:\n",
    "    # Map borough names\n",
    "    energy.loc[:,'name']=energy['Area'].map(dict(zip(np.sort(boroughs), np.sort(boroughs_no_spaces))))\n",
    "\n",
    "    # Get initial and final year data\n",
    "    init_year_data = copy.deepcopy(energy[energy['Year']==init_year].sort_values(by='Area'))\n",
    "    final_year_data = copy.deepcopy(energy[energy['Year']==final_year].sort_values(by='Area'))\n",
    "\n",
    "    # # Convert to numpy arrays\n",
    "    init_year_array = init_year_data['Value'].values\n",
    "    final_year_array = final_year_data['Value'].values\n",
    "    \n",
    "    "
   ]
  },
  {
   "cell_type": "code",
   "execution_count": 38,
   "metadata": {},
   "outputs": [],
   "source": [
    "# Normalise data if required\n",
    "if normalise:\n",
    "    # Normalise data to sum up to 1\n",
    "    init_year_array = init_year_array/np.sum(init_year_array)\n",
    "    final_year_array = final_year_array/np.sum(final_year_array)\n",
    "\n",
    "    # Take logs\n",
    "    init_year_array = np.log(init_year_array)\n",
    "    final_year_array = np.log(final_year_array)"
   ]
  },
  {
   "cell_type": "markdown",
   "metadata": {},
   "source": [
    "# Sanity check"
   ]
  },
  {
   "cell_type": "code",
   "execution_count": 39,
   "metadata": {},
   "outputs": [],
   "source": [
    "assert len(init_year_array) == len(boroughs)\n",
    "assert len(final_year_array) == len(boroughs)"
   ]
  },
  {
   "cell_type": "markdown",
   "metadata": {},
   "source": [
    "# Export data"
   ]
  },
  {
   "cell_type": "code",
   "execution_count": 40,
   "metadata": {},
   "outputs": [],
   "source": [
    "# Save to txt\n",
    "np.savetxt(f'../data/input/{dataset}/initial_destination_sizes.txt',init_year_array)\n",
    "np.savetxt(f'../data/input/{dataset}/final_destination_sizes.txt',final_year_array)"
   ]
  },
  {
   "cell_type": "code",
   "execution_count": 41,
   "metadata": {},
   "outputs": [],
   "source": [
    "# Export semantic meaning of destination sizes\n",
    "with open(f\"../data/input/{dataset}/destination_sizes_info.txt\", \"w\") as text_file:\n",
    "    print(f\"destination_sizes_data_filepath,{filepath}\", file=text_file)\n",
    "    print(f\"destination_sizes_variable,{var}\", file=text_file)\n",
    "    print(f\"initial_destination_sizes_year,{str(init_year)}\", file=text_file)\n",
    "    print(f\"final_destination_sizes_year,{str(final_year)}\", file=text_file)"
   ]
  }
 ],
 "metadata": {
  "kernelspec": {
   "display_name": "MRes project",
   "language": "python",
   "name": "stdm"
  },
  "language_info": {
   "codemirror_mode": {
    "name": "ipython",
    "version": 3
   },
   "file_extension": ".py",
   "mimetype": "text/x-python",
   "name": "python",
   "nbconvert_exporter": "python",
   "pygments_lexer": "ipython3",
   "version": "3.7.5"
  }
 },
 "nbformat": 4,
 "nbformat_minor": 4
}
