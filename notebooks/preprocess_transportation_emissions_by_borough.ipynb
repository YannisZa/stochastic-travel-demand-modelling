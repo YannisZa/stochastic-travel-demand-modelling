{
 "cells": [
  {
   "cell_type": "code",
   "execution_count": 8,
   "metadata": {},
   "outputs": [],
   "source": [
    "import numpy as np\n",
    "import pandas as pd\n",
    "from tqdm import tqdm\n",
    "import copy\n",
    "import json"
   ]
  },
  {
   "cell_type": "markdown",
   "metadata": {},
   "source": [
    "# Import data"
   ]
  },
  {
   "cell_type": "code",
   "execution_count": 9,
   "metadata": {},
   "outputs": [],
   "source": [
    "# Import Borough json\n",
    "with open('../data/raw/misc/london_boroughs.json') as json_file:\n",
    "    borough_coordinates = json.load(json_file)\n",
    "    \n",
    "energy = pd.read_csv(\"../data/raw/commuter/total_final_energy_consumption_by_borough.csv\")"
   ]
  },
  {
   "cell_type": "markdown",
   "metadata": {},
   "source": [
    "# Get Borough names"
   ]
  },
  {
   "cell_type": "code",
   "execution_count": 10,
   "metadata": {},
   "outputs": [
    {
     "name": "stderr",
     "output_type": "stream",
     "text": [
      "100%|██████████| 33/33 [00:00<00:00, 41615.16it/s]\n"
     ]
    }
   ],
   "source": [
    "# Collect borough names\n",
    "boroughs = []\n",
    "boroughs_no_spaces = []\n",
    "\n",
    "for f in tqdm(borough_coordinates['features']):\n",
    "    boroughs.append(f['properties']['name'])\n",
    "    boroughs_no_spaces.append(f['properties']['name'].replace(\" \", \"\"))\n"
   ]
  },
  {
   "cell_type": "markdown",
   "metadata": {},
   "source": [
    "# Obtain emissions data by borough and year"
   ]
  },
  {
   "cell_type": "code",
   "execution_count": 11,
   "metadata": {},
   "outputs": [],
   "source": [
    "# Select initial year\n",
    "init_year = 2005\n",
    "# Select final year\n",
    "final_year = 2010"
   ]
  },
  {
   "cell_type": "code",
   "execution_count": 12,
   "metadata": {},
   "outputs": [],
   "source": [
    "# Map borough names\n",
    "energy.loc[:,'name']=energy['Area'].map(dict(zip(np.sort(boroughs), np.sort(boroughs_no_spaces))))\n",
    "\n",
    "# Get initial and final year data\n",
    "init_year_data = copy.deepcopy(energy[energy['Year']==init_year].sort_values(by='Area'))\n",
    "final_year_data = copy.deepcopy(energy[energy['Year']==final_year].sort_values(by='Area'))\n",
    "\n",
    "# # Convert to numpy arrays\n",
    "init_year_array = init_year_data['Value'].values\n",
    "final_year_array = final_year_data['Value'].values\n",
    "\n",
    "# # Normalise data to sum up to 1\n",
    "# init_year_array = init_year_array/np.sum(init_year_array)\n",
    "# final_year_array = final_year_array/np.sum(final_year_array)\n",
    "\n",
    "# # Take logs\n",
    "# init_year_array = np.log(init_year_array)\n",
    "# final_year_array = np.log(final_year_array)"
   ]
  },
  {
   "cell_type": "markdown",
   "metadata": {},
   "source": [
    "# Export data"
   ]
  },
  {
   "cell_type": "code",
   "execution_count": 14,
   "metadata": {},
   "outputs": [],
   "source": [
    "# Save to txt\n",
    "np.savetxt('../data/input/commuter/initial_destination_sizes.txt',init_year_array)\n",
    "np.savetxt('../data/input/commuter/final_destination_sizes.txt',final_year_array)"
   ]
  }
 ],
 "metadata": {
  "kernelspec": {
   "display_name": "MRes project",
   "language": "python",
   "name": "stdm"
  },
  "language_info": {
   "codemirror_mode": {
    "name": "ipython",
    "version": 3
   },
   "file_extension": ".py",
   "mimetype": "text/x-python",
   "name": "python",
   "nbconvert_exporter": "python",
   "pygments_lexer": "ipython3",
   "version": "3.7.5"
  }
 },
 "nbformat": 4,
 "nbformat_minor": 4
}
