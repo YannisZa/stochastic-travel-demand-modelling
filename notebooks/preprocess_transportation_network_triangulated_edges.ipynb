{
 "cells": [
  {
   "cell_type": "code",
   "execution_count": 29,
   "metadata": {},
   "outputs": [],
   "source": [
    "import os\n",
    "import sys\n",
    "import copy\n",
    "import json\n",
    "import math\n",
    "import pyproj\n",
    "import numpy as np\n",
    "import pandas as pd\n",
    "import scipy.spatial\n",
    "import networkx as nx\n",
    "import geopandas as gpd\n",
    "import matplotlib.pyplot as plt\n",
    "\n",
    "from tqdm import tqdm\n",
    "from functools import partial\n",
    "from shapely.ops import transform\n",
    "from shapely.geometry import shape, mapping, Point, LineString\n",
    "from dijkstar import Graph, find_path"
   ]
  },
  {
   "cell_type": "markdown",
   "metadata": {},
   "source": [
    "# Import data"
   ]
  },
  {
   "cell_type": "code",
   "execution_count": 2,
   "metadata": {},
   "outputs": [],
   "source": [
    "# Choose origin and destination\n",
    "origin = 'ward'\n",
    "destination = 'borough'\n",
    "size = 'small'\n",
    "if size == 'small':\n",
    "    size += '_'"
   ]
  },
  {
   "cell_type": "code",
   "execution_count": 5,
   "metadata": {},
   "outputs": [],
   "source": [
    "# Import coordinates to get names and ids of wards and boroughs\n",
    "vertices = gpd.read_file(f'../data/input/misc/london_entire_small_graph_vertices.geojson')\n",
    "triangulated_polygons = gpd.read_file(f'../data/input/misc/london_entire_{size}network_vertex_triangulation.geojson')"
   ]
  },
  {
   "cell_type": "markdown",
   "metadata": {},
   "source": [
    "# Populate edges"
   ]
  },
  {
   "cell_type": "code",
   "execution_count": 7,
   "metadata": {
    "scrolled": true
   },
   "outputs": [
    {
     "name": "stderr",
     "output_type": "stream",
     "text": [
      "100%|██████████| 36831/36831 [03:45<00:00, 163.29it/s]\n"
     ]
    }
   ],
   "source": [
    "edge_rows = []\n",
    "vertex_columns = vertices.columns.values\n",
    "\n",
    "project = partial(\n",
    "    pyproj.transform,\n",
    "    pyproj.Proj('EPSG:4326'),\n",
    "    pyproj.Proj('EPSG:32633'))\n",
    "\n",
    "for index,te in tqdm(triangulated_polygons.iterrows(),total=triangulated_polygons.shape[0]):\n",
    "\n",
    "#     print(te)\n",
    "    v1id = int(te['POINTA'])+1\n",
    "    v2id = int(te['POINTB'])+1\n",
    "    v3id = int(te['POINTC'])+1\n",
    "    \n",
    "#     if v1id > vertices.shape[0] or v2id > vertices.shape[0] or v3id > vertices.shape[0]:\n",
    "#         print('MAX',vertices.shape[0])\n",
    "#         print('v1id',v1id)\n",
    "#         print('v2id',v2id)\n",
    "#         print('v3id',v3id)\n",
    "        \n",
    "#     if v1id == 0 or v2id == 0 or v3id == 0:\n",
    "#         print('IDS start from 0')\n",
    "#         print('v1id',v1id)\n",
    "#         print('v2id',v2id)\n",
    "#         print('v3id',v3id)\n",
    "    \n",
    "    v1 = vertices[vertices['POINT_NUM']==v1id]\n",
    "    v2 = vertices[vertices['POINT_NUM']==v2id]\n",
    "    v3 = vertices[vertices['POINT_NUM']==v3id]\n",
    "     \n",
    "    try:\n",
    "        \n",
    "        # Create 3 rows for each triangulated polygon\n",
    "        geometry1 = LineString([shape(v1['geometry'].values[0]),shape(v2['geometry'].values[0])])\n",
    "#         geometry1_reprojected = transform(project, geometry1)\n",
    "#         distance1 = geometry1_reprojected.length\n",
    "        \n",
    "        row1 = {'ID1':v1['ID'].values[0],'ROAD_ID1':v1['ROAD_ID'].values[0],'EDGE_ID1':v1['EDGE_ID'].values[0],'TYPE1':v1['TYPE'].values[0],#'DISTANCE':distance1,\n",
    "                'ID2':v2['ID'].values[0],'ROAD_ID2':v2['ROAD_ID'].values[0],'EDGE_ID2':v2['EDGE_ID'].values[0],'TYPE2':v2['TYPE'].values[0],'GEOMETRY':geometry1}\n",
    "\n",
    "        geometry2 = LineString([shape(v1['geometry'].values[0]),shape(v3['geometry'].values[0])])\n",
    "#         geometry2_reprojected = transform(project, geometry2)\n",
    "#         distance2 = geometry2_reprojected.length\n",
    "        \n",
    "        row2 = {'ID1':v1['ID'].values[0],'ROAD_ID1':v1['ROAD_ID'].values[0],'EDGE_ID1':v1['EDGE_ID'].values[0],'TYPE1':v1['TYPE'].values[0],#'DISTANCE':distance2,\n",
    "                'ID2':v3['ID'].values[0],'ROAD_ID2':v3['ROAD_ID'].values[0],'EDGE_ID2':v3['EDGE_ID'].values[0],'TYPE2':v3['TYPE'].values[0],'GEOMETRY':geometry2}\n",
    "        \n",
    "        geometry3 = LineString([shape(v2['geometry'].values[0]),shape(v3['geometry'].values[0])])\n",
    "#         geometry3_reprojected = transform(project, geometry3)\n",
    "#         distance3 = geometry3_reprojected.length\n",
    "        \n",
    "        row3 = {'ID1':v2['ID'].values[0],'ROAD_ID1':v2['ROAD_ID'].values[0],'EDGE_ID1':v2['EDGE_ID'].values[0],'TYPE1':v2['TYPE'].values[0],#'DISTANCE':distance3,\n",
    "                'ID2':v3['ID'].values[0],'ROAD_ID2':v3['ROAD_ID'].values[0],'EDGE_ID2':v3['EDGE_ID'].values[0],'TYPE2':v3['TYPE'].values[0],'GEOMETRY':geometry3}\n",
    "    except Exception:\n",
    "        print('-------- V1 --------')\n",
    "        print(v1)\n",
    "        print()\n",
    "        print('-------- V2 --------')\n",
    "        print(v2)\n",
    "        print()\n",
    "        print('-------- V3 --------')\n",
    "        print(v3)\n",
    "    \n",
    "    # Append rows\n",
    "    edge_rows.append(row1)\n",
    "    edge_rows.append(row2)\n",
    "    edge_rows.append(row3)\n",
    "\n",
    "# Pass rows to geodataframe\n",
    "edges_df = pd.DataFrame.from_dict(edge_rows)\n",
    "edges_gdf = gpd.GeoDataFrame(edges_df, crs=\"EPSG:4326\", geometry='GEOMETRY')"
   ]
  },
  {
   "cell_type": "code",
   "execution_count": 16,
   "metadata": {},
   "outputs": [],
   "source": [
    "# Reproject edges to get distance in meters\n",
    "edges_gdf_copy = copy.deepcopy(edges_gdf)\n",
    "edges_gdf_copy = edges_gdf_copy.to_crs(\"EPSG:32633\")\n",
    "edges_gdf_copy['DISTANCE'] = edges_gdf_copy['GEOMETRY'].apply(lambda x: int(x.length))\n",
    "# Merge edge gdf with its reprojection to get distance in meters\n",
    "edges_gdf_final = pd.merge(edges_gdf,edges_gdf_copy[['ID1','ID2','DISTANCE']],how='left',on=['ID1','ID2'])"
   ]
  },
  {
   "cell_type": "markdown",
   "metadata": {},
   "source": [
    "# Export triangulated edges"
   ]
  },
  {
   "cell_type": "code",
   "execution_count": 27,
   "metadata": {},
   "outputs": [
    {
     "data": {
      "text/html": [
       "<div>\n",
       "<style scoped>\n",
       "    .dataframe tbody tr th:only-of-type {\n",
       "        vertical-align: middle;\n",
       "    }\n",
       "\n",
       "    .dataframe tbody tr th {\n",
       "        vertical-align: top;\n",
       "    }\n",
       "\n",
       "    .dataframe thead th {\n",
       "        text-align: right;\n",
       "    }\n",
       "</style>\n",
       "<table border=\"1\" class=\"dataframe\">\n",
       "  <thead>\n",
       "    <tr style=\"text-align: right;\">\n",
       "      <th></th>\n",
       "      <th>ID1</th>\n",
       "      <th>ROAD_ID1</th>\n",
       "      <th>EDGE_ID1</th>\n",
       "      <th>TYPE1</th>\n",
       "      <th>ID2</th>\n",
       "      <th>ROAD_ID2</th>\n",
       "      <th>EDGE_ID2</th>\n",
       "      <th>TYPE2</th>\n",
       "      <th>GEOMETRY</th>\n",
       "      <th>DISTANCE</th>\n",
       "    </tr>\n",
       "  </thead>\n",
       "  <tbody>\n",
       "    <tr>\n",
       "      <th>0</th>\n",
       "      <td>O167V65WKCQTW2112_0</td>\n",
       "      <td>O167V65WKCQTW</td>\n",
       "      <td>O167V65WKCQTW2112</td>\n",
       "      <td>None</td>\n",
       "      <td>O167V9HWKBDAW2119_0</td>\n",
       "      <td>O167V9HWKBDAW</td>\n",
       "      <td>O167V9HWKBDAW2119</td>\n",
       "      <td>None</td>\n",
       "      <td>LINESTRING (-0.10370 51.29423, -0.10956 51.29633)</td>\n",
       "      <td>476</td>\n",
       "    </tr>\n",
       "  </tbody>\n",
       "</table>\n",
       "</div>"
      ],
      "text/plain": [
       "                   ID1       ROAD_ID1           EDGE_ID1 TYPE1  \\\n",
       "0  O167V65WKCQTW2112_0  O167V65WKCQTW  O167V65WKCQTW2112  None   \n",
       "\n",
       "                   ID2       ROAD_ID2           EDGE_ID2 TYPE2  \\\n",
       "0  O167V9HWKBDAW2119_0  O167V9HWKBDAW  O167V9HWKBDAW2119  None   \n",
       "\n",
       "                                            GEOMETRY  DISTANCE  \n",
       "0  LINESTRING (-0.10370 51.29423, -0.10956 51.29633)       476  "
      ]
     },
     "execution_count": 27,
     "metadata": {},
     "output_type": "execute_result"
    }
   ],
   "source": [
    "edges_gdf_final.head(1)"
   ]
  },
  {
   "cell_type": "code",
   "execution_count": 28,
   "metadata": {},
   "outputs": [],
   "source": [
    "# Export to csv\n",
    "edges_gdf_final.to_file(f'../data/input/misc/london_{size}network_triangulated_edges.geojson',driver='GeoJSON')"
   ]
  }
 ],
 "metadata": {
  "kernelspec": {
   "display_name": "MRes project",
   "language": "python",
   "name": "stdm"
  },
  "language_info": {
   "codemirror_mode": {
    "name": "ipython",
    "version": 3
   },
   "file_extension": ".py",
   "mimetype": "text/x-python",
   "name": "python",
   "nbconvert_exporter": "python",
   "pygments_lexer": "ipython3",
   "version": "3.7.5"
  }
 },
 "nbformat": 4,
 "nbformat_minor": 4
}
