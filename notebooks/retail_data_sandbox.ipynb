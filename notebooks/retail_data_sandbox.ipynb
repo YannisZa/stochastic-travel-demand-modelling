{
 "cells": [
  {
   "cell_type": "code",
   "execution_count": 1,
   "metadata": {},
   "outputs": [],
   "source": [
    "import numpy as np\n",
    "import pandas as pd\n",
    "from tqdm import tqdm\n",
    "import copy\n",
    "import json"
   ]
  },
  {
   "cell_type": "markdown",
   "metadata": {},
   "source": [
    "# Import data"
   ]
  },
  {
   "cell_type": "code",
   "execution_count": 5,
   "metadata": {},
   "outputs": [],
   "source": [
    "# Import retail data\n",
    "cost_matrix = np.loadtxt('../data/input/retail/cost_matrix.txt')"
   ]
  },
  {
   "cell_type": "code",
   "execution_count": 6,
   "metadata": {},
   "outputs": [],
   "source": [
    "cost = cost_matrix/np.sum(cost_matrix)"
   ]
  },
  {
   "cell_type": "code",
   "execution_count": 7,
   "metadata": {},
   "outputs": [
    {
     "data": {
      "text/plain": [
       "array([[6.88421130e-06, 1.20184055e-05, 2.39653003e-05, ...,\n",
       "        1.92663632e-05, 1.71169653e-05, 1.56273966e-05],\n",
       "       [4.21903916e-05, 4.68912835e-05, 2.19342256e-05, ...,\n",
       "        4.84054984e-05, 4.97637626e-05, 5.08774299e-05],\n",
       "       [4.62770316e-05, 5.15330751e-05, 3.19206240e-05, ...,\n",
       "        5.54201206e-05, 5.56737621e-05, 5.49899236e-05],\n",
       "       ...,\n",
       "       [8.85333769e-07, 4.75497290e-06, 2.95759095e-05, ...,\n",
       "        1.53517449e-05, 1.12565954e-05, 8.15803174e-06],\n",
       "       [9.34185428e-06, 5.09898354e-06, 3.73816862e-05, ...,\n",
       "        1.56762733e-05, 9.50961491e-06, 5.98440742e-07],\n",
       "       [0.00000000e+00, 5.58548273e-06, 2.94497062e-05, ...,\n",
       "        1.61570618e-05, 1.21392749e-05, 8.75338878e-06]])"
      ]
     },
     "execution_count": 7,
     "metadata": {},
     "output_type": "execute_result"
    }
   ],
   "source": [
    "cost"
   ]
  }
 ],
 "metadata": {
  "kernelspec": {
   "display_name": "MRes project",
   "language": "python",
   "name": "stdm"
  },
  "language_info": {
   "codemirror_mode": {
    "name": "ipython",
    "version": 3
   },
   "file_extension": ".py",
   "mimetype": "text/x-python",
   "name": "python",
   "nbconvert_exporter": "python",
   "pygments_lexer": "ipython3",
   "version": "3.7.5"
  }
 },
 "nbformat": 4,
 "nbformat_minor": 4
}
